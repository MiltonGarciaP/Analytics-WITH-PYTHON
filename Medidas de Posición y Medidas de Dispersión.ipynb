{
 "cells": [
  {
   "cell_type": "markdown",
   "id": "77dcc5a8",
   "metadata": {},
   "source": [
    "# Analitica Descriptiva I - Medidas de Posición y Medidas de Dispersión\n",
    "### Instituto Tecnologicos de las Américas ITLA\n",
    "#### Clase 2024.04.01\n",
    "\n",
    "##### email: gdelarosa@itla.edu.do"
   ]
  },
  {
   "attachments": {},
   "cell_type": "markdown",
   "id": "94dc2cfd",
   "metadata": {},
   "source": [
    "CONTENIDO\n",
    "\n",
    "MEDIDAS DE POSICION\n",
    "\n",
    "8.1 Cuartiles\n",
    "\n",
    "8.2 Deciles\n",
    "\n",
    "8.3 Percentiles\n",
    "\n",
    "MEDIDAS DE DISPERSION\n",
    "\n",
    "9.1 Rango\n",
    "\n",
    "9.2 Rango intercuartil\n",
    "\n",
    "9.3 Varianza\n",
    "\n",
    "9.4 Desviación estándar\n",
    "\n",
    "9.5 Coeficiente de variación"
   ]
  },
  {
   "cell_type": "markdown",
   "id": "87ebdb10",
   "metadata": {},
   "source": [
    "# Las medidas de posición \n",
    "\n",
    "Son aquellas en donde puedes dividir los datos en dos partes iguales, llamada mediana, lo puedes dividir en cuatro partes iguales llamado cuartiles, en diez partes iguales llamados deciles y en percentiles dividir en 100 partes iguales. La mediana es una medida de posición con respecto a los datos centrales porque se divide en dos partes( 50%).\n",
    "\n",
    "Dicho de otra manera, las medidas de posición son herramientas estadísticas que nos ayudan a entender un conjunto de datos de manera rápida y eficiente. Por ejemplo, imagina que tienes un montón de números y quieres obtener una idea clara de qué representan en general, o cómo se distribuyen. Pues aquí es donde se usarían las medidas de posición.\n",
    "\n",
    "Estas medidas pueden hacer dos cosas principales: resumir y dividir. Por un lado, pueden condensar toda la información que tienes en un solo número representativo, como el promedio, que te da una idea del valor medio de tus datos. Por otro lado, pueden partir tu conjunto de datos en segmentos iguales, lo que facilita su interpretación. Este proceso de división se hace a través de los cuantiles, que básicamente cortan tus datos en partes iguales, permitiéndote ver cómo se distribuyen a lo largo de diferentes puntos.\n",
    "\n",
    "###### Importancia de las medidas de posición estadística\n",
    "\n",
    "Son el primer paso que debe darse en el análisis descriptivo. Cuando queremos conocer información sobre un fenómeno, comenzamos recopilando datos.\n",
    "\n",
    "Pero estos, por sí mismos, no nos van a aportar información relevante, por eso hay que analizarlos. Las medidas de posición, junto con las de dispersión, nos ayudan a agruparlos e incluso, a codificarlos."
   ]
  },
  {
   "cell_type": "markdown",
   "id": "38ff0521",
   "metadata": {},
   "source": [
    "Las medidas de posición son:\n",
    "\n",
    "Cuartiles, Deciles y Percentiles"
   ]
  },
  {
   "cell_type": "markdown",
   "id": "5da9f205",
   "metadata": {},
   "source": [
    "# 8.1 Cuartiles"
   ]
  },
  {
   "cell_type": "markdown",
   "id": "64075897",
   "metadata": {},
   "source": [
    "Un cuartil es una medida estadística que divide un conjunto de datos ordenados en cuatro partes iguales. Esto significa que hay tres cuartiles que dividen los datos en cuatro segmentos, donde cada segmento contiene aproximadamente el 25% de los datos. Los cuartiles son útiles para comprender la dispersión y la distribución de los datos, especialmente cuando se desea examinar la presencia de valores extremos o identificar la posición relativa de un valor dentro del conjunto de datos.\n",
    "\n",
    "Los tres cuartiles son:\n",
    "\n",
    "Primer cuartil (Q1): Es el valor por debajo del cual se encuentra el 25% de los datos cuando se ordenan de menor a mayor. También se conoce como el cuartil inferior.\n",
    "\n",
    "Segundo cuartil (Q2): Es lo mismo que la mediana; divide los datos en dos partes iguales. El 50% de los datos está por encima y el 50% está por debajo de este valor. También se puede llamar el cuartil mediano.\n",
    "\n",
    "Tercer cuartil (Q3): Es el valor por debajo del cual se encuentra el 75% de los datos. También se conoce como el cuartil superior.\n",
    "\n",
    "Los cuartiles son importantes en estadística descriptiva y en la construcción de gráficos como los diagramas de caja (boxplot), donde se representan visualmente los cuartiles junto con otros elementos estadísticos para mostrar la distribución y la variabilidad de los datos."
   ]
  },
  {
   "cell_type": "markdown",
   "id": "11e1d0e5",
   "metadata": {},
   "source": [
    "#### EJEMPLO"
   ]
  },
  {
   "cell_type": "code",
   "execution_count": 7,
   "id": "90ca0e78",
   "metadata": {},
   "outputs": [
    {
     "name": "stdout",
     "output_type": "stream",
     "text": [
      "Primer cuartil (Q1): 17.75\n",
      "Segundo cuartil (Q2): 23.5\n",
      "Tercer cuartil (Q3): 29.25\n"
     ]
    }
   ],
   "source": [
    "import numpy as np\n",
    "\n",
    "# Datos de ejemplo\n",
    "datos = [12, 15, 17, 20, 22, 25, 27, 30, 32, 35]\n",
    "\n",
    "# Calcular cuartiles\n",
    "primer_cuartil = np.percentile(datos, 25)\n",
    "segundo_cuartil = np.percentile(datos, 50)\n",
    "tercer_cuartil = np.percentile(datos, 75)\n",
    "\n",
    "print(\"Primer cuartil (Q1):\", primer_cuartil)\n",
    "print(\"Segundo cuartil (Q2):\", segundo_cuartil)\n",
    "print(\"Tercer cuartil (Q3):\", tercer_cuartil)\n"
   ]
  },
  {
   "cell_type": "markdown",
   "id": "a12989e4",
   "metadata": {},
   "source": [
    "### EJERCICIOS DE PRACTICA"
   ]
  },
  {
   "cell_type": "markdown",
   "id": "04d4f783",
   "metadata": {},
   "source": [
    "Cuartiles de una lista de edades:\n",
    "Datos: una lista de edades, por ejemplo: [25, 30, 35, 40, 45, 50, 55, 60, 65, 70].\n",
    "\n",
    "Cuartiles de una lista de alturas:\n",
    "Datos: una lista de alturas en centímetros, por ejemplo: [160, 165, 170, 175, 180, 185, 190, 195, 200].\n",
    "\n",
    "Cuartiles de una lista de calificaciones:\n",
    "Datos: una lista de calificaciones de un examen, por ejemplo: [65, 70, 75, 80, 85, 90, 95, 100]."
   ]
  },
  {
   "cell_type": "code",
   "execution_count": 8,
   "id": "abe2e025",
   "metadata": {},
   "outputs": [
    {
     "name": "stdout",
     "output_type": "stream",
     "text": [
      "Primer cuartil (Q1): 36.25\n",
      "Segundo cuartil (Q2): 47.5\n",
      "Tercer cuartil (Q3): 58.75\n"
     ]
    }
   ],
   "source": [
    "import numpy as np\n",
    "\n",
    "# Datos de ejemplo\n",
    "datos = [25, 30, 35, 40, 45, 50, 55, 60, 65, 70]\n",
    "\n",
    "# Calcular cuartiles\n",
    "primer_cuartil = np.percentile(datos, 25)\n",
    "segundo_cuartil = np.percentile(datos, 50)\n",
    "tercer_cuartil = np.percentile(datos, 75)\n",
    "\n",
    "print(\"Primer cuartil (Q1):\", primer_cuartil)\n",
    "print(\"Segundo cuartil (Q2):\", segundo_cuartil)\n",
    "print(\"Tercer cuartil (Q3):\", tercer_cuartil)\n"
   ]
  },
  {
   "cell_type": "markdown",
   "id": "a7f89dcd",
   "metadata": {},
   "source": [
    "# 8.2 Deciles"
   ]
  },
  {
   "cell_type": "markdown",
   "id": "024c6af0",
   "metadata": {},
   "source": [
    "Los deciles son medidas estadísticas que dividen un conjunto de datos ordenados en diez partes iguales. En otras palabras, los deciles dividen los datos en nueve puntos específicos que representan el 10% de los datos cada uno. Estos puntos proporcionan una idea de cómo se distribuyen los datos a lo largo del rango completo.\n",
    "\n",
    "Los deciles son similares a los cuartiles, pero en lugar de dividir los datos en cuatro partes iguales (como lo hacen los cuartiles), los deciles los dividen en diez partes iguales. Esto puede ser útil para comprender con más detalle cómo se distribuyen los datos y dónde se encuentran concentrados.\n",
    "\n",
    "Los nueve deciles se denominan D1, D2, ..., D9, donde D1 es el valor por debajo del cual se encuentra el 10% de los datos, D2 el 20%, y así sucesivamente, hasta D9, que es el valor por debajo del cual se encuentra el 90% de los datos.\n",
    "\n",
    "Los deciles son especialmente útiles cuando se quiere tener una comprensión más detallada de la distribución de los datos y cuando los cuartiles no proporcionan suficiente resolución para los análisis estadísticos."
   ]
  },
  {
   "cell_type": "markdown",
   "id": "7ab95515",
   "metadata": {},
   "source": [
    "### EJEMPLO"
   ]
  },
  {
   "cell_type": "code",
   "execution_count": 9,
   "id": "81ac9275",
   "metadata": {},
   "outputs": [
    {
     "name": "stdout",
     "output_type": "stream",
     "text": [
      "Decil 10: 16.0\n",
      "Decil 20: 20.0\n",
      "Decil 30: 23.5\n",
      "Decil 40: 27.0\n",
      "Decil 50: 31.0\n",
      "Decil 60: 35.0\n",
      "Decil 70: 39.0\n",
      "Decil 80: 42.0\n",
      "Decil 90: 46.5\n"
     ]
    }
   ],
   "source": [
    "import numpy as np\n",
    "\n",
    "# Datos de ejemplo (pueden ser alturas, edades, calificaciones, etc.)\n",
    "datos = [12, 15, 17, 20, 22, 25, 27, 30, 32, 35, 38, 40, 42, 45, 48, 50]\n",
    "\n",
    "# Calcular deciles\n",
    "decil_10 = np.percentile(datos, 10)\n",
    "decil_20 = np.percentile(datos, 20)\n",
    "decil_30 = np.percentile(datos, 30)\n",
    "decil_40 = np.percentile(datos, 40)\n",
    "decil_50 = np.percentile(datos, 50)\n",
    "decil_60 = np.percentile(datos, 60)\n",
    "decil_70 = np.percentile(datos, 70)\n",
    "decil_80 = np.percentile(datos, 80)\n",
    "decil_90 = np.percentile(datos, 90)\n",
    "\n",
    "print(\"Decil 10:\", decil_10)\n",
    "print(\"Decil 20:\", decil_20)\n",
    "print(\"Decil 30:\", decil_30)\n",
    "print(\"Decil 40:\", decil_40)\n",
    "print(\"Decil 50:\", decil_50)\n",
    "print(\"Decil 60:\", decil_60)\n",
    "print(\"Decil 70:\", decil_70)\n",
    "print(\"Decil 80:\", decil_80)\n",
    "print(\"Decil 90:\", decil_90)\n"
   ]
  },
  {
   "cell_type": "markdown",
   "id": "541f4466",
   "metadata": {},
   "source": [
    "#### EJERCICIOS"
   ]
  },
  {
   "cell_type": "markdown",
   "id": "6e43be60",
   "metadata": {},
   "source": [
    "Deciles de edades:\n",
    "Datos: una lista de edades de personas, por ejemplo: [25, 30, 35, 40, 45, 50, 55, 60, 65, 70, 75, 80, 85, 90, 95, 100].\n",
    "\n",
    "Calcula los deciles de estas edades.\n",
    "\n",
    "Deciles de alturas:\n",
    "Datos: una lista de alturas en centímetros, por ejemplo: [160, 165, 170, 175, 180, 185, 190, 195, 200, 205, 210, 215, 220, 225, 230, 235].\n",
    "\n",
    "Calcula los deciles de estas alturas.\n",
    "\n",
    "Deciles de calificaciones:\n",
    "Datos: una lista de calificaciones de un examen, por ejemplo: [65, 70, 75, 80, 85, 90, 95, 100, 105, 110, 115, 120, 125, 130, 135, 140].\n",
    "\n",
    "Calcula los deciles de estas calificaciones."
   ]
  },
  {
   "cell_type": "code",
   "execution_count": 10,
   "id": "76fb352f",
   "metadata": {},
   "outputs": [
    {
     "name": "stdout",
     "output_type": "stream",
     "text": [
      "Decil 10: 32.5\n",
      "Decil 20: 40.0\n",
      "Decil 30: 47.5\n",
      "Decil 40: 55.0\n",
      "Decil 50: 62.5\n",
      "Decil 60: 70.0\n",
      "Decil 70: 77.5\n",
      "Decil 80: 85.0\n",
      "Decil 90: 92.5\n"
     ]
    }
   ],
   "source": [
    "import numpy as np\n",
    "\n",
    "# Datos de ejemplo (pueden ser alturas, edades, calificaciones, etc.)\n",
    "datos = [25, 30, 35, 40, 45, 50, 55, 60, 65, 70, 75, 80, 85, 90, 95, 100]\n",
    "\n",
    "# Calcular deciles\n",
    "decil_10 = np.percentile(datos, 10)\n",
    "decil_20 = np.percentile(datos, 20)\n",
    "decil_30 = np.percentile(datos, 30)\n",
    "decil_40 = np.percentile(datos, 40)\n",
    "decil_50 = np.percentile(datos, 50)\n",
    "decil_60 = np.percentile(datos, 60)\n",
    "decil_70 = np.percentile(datos, 70)\n",
    "decil_80 = np.percentile(datos, 80)\n",
    "decil_90 = np.percentile(datos, 90)\n",
    "\n",
    "print(\"Decil 10:\", decil_10)\n",
    "print(\"Decil 20:\", decil_20)\n",
    "print(\"Decil 30:\", decil_30)\n",
    "print(\"Decil 40:\", decil_40)\n",
    "print(\"Decil 50:\", decil_50)\n",
    "print(\"Decil 60:\", decil_60)\n",
    "print(\"Decil 70:\", decil_70)\n",
    "print(\"Decil 80:\", decil_80)\n",
    "print(\"Decil 90:\", decil_90)"
   ]
  },
  {
   "cell_type": "markdown",
   "id": "27c75849",
   "metadata": {},
   "source": [
    "# 8.3 Percentiles"
   ]
  },
  {
   "cell_type": "markdown",
   "id": "c3b408c9",
   "metadata": {},
   "source": [
    "Los percentiles son medidas estadísticas que dividen un conjunto de datos ordenados en cien partes iguales. En otras palabras, los percentiles dividen los datos en 99 puntos específicos que representan el 1% de los datos cada uno. Estos puntos proporcionan información sobre la posición relativa de un valor dentro de un conjunto de datos.\n",
    "\n",
    "Por ejemplo, si el percentil 30 de un conjunto de datos es 50, significa que el 30% de los datos está por debajo de 50 y el 70% está por encima de 50.\n",
    "\n",
    "Los percentiles se utilizan comúnmente para evaluar el rendimiento en pruebas estandarizadas, como los exámenes escolares o las pruebas de aptitud, donde un puntaje percentil indica la proporción de participantes que obtuvieron un puntaje igual o menor que el puntaje de la persona en cuestión.\n",
    "\n",
    "En resumen, los percentiles son útiles para comprender la posición relativa de un valor dentro de un conjunto de datos y son ampliamente utilizados en estadísticas y análisis de datos para resumir y comparar distribuciones de datos."
   ]
  },
  {
   "cell_type": "markdown",
   "id": "48575600",
   "metadata": {},
   "source": [
    "# EJEMPLO"
   ]
  },
  {
   "cell_type": "code",
   "execution_count": 11,
   "id": "7906ebf4",
   "metadata": {},
   "outputs": [
    {
     "name": "stdout",
     "output_type": "stream",
     "text": [
      "Percentil 25 (Q1): 21.5\n",
      "Percentil 50 (Q2): 31.0\n",
      "Percentil 75 (Q3): 40.5\n"
     ]
    }
   ],
   "source": [
    "import numpy as np\n",
    "\n",
    "# Datos de ejemplo (pueden ser calificaciones, alturas, edades, etc.)\n",
    "datos = [12, 15, 17, 20, 22, 25, 27, 30, 32, 35, 38, 40, 42, 45, 48, 50]\n",
    "\n",
    "# Calcular percentil 25 (primer cuartil)\n",
    "percentil_25 = np.percentile(datos, 25)\n",
    "\n",
    "# Calcular percentil 50 (mediana)\n",
    "percentil_50 = np.percentile(datos, 50)\n",
    "\n",
    "# Calcular percentil 75 (tercer cuartil)\n",
    "percentil_75 = np.percentile(datos, 75)\n",
    "\n",
    "print(\"Percentil 25 (Q1):\", percentil_25)\n",
    "print(\"Percentil 50 (Q2):\", percentil_50)\n",
    "print(\"Percentil 75 (Q3):\", percentil_75)\n"
   ]
  },
  {
   "cell_type": "markdown",
   "id": "41c788cf",
   "metadata": {},
   "source": [
    "### EJERCICIOS"
   ]
  },
  {
   "cell_type": "markdown",
   "id": "af517d86",
   "metadata": {},
   "source": [
    "Percentiles de calificaciones:\n",
    "Datos: una lista de calificaciones de un examen, por ejemplo: [65, 70, 75, 80, 85, 90, 95, 100, 105, 110, 115, 120, 125, 130, 135, 140].\n",
    "\n",
    "Calcula los percentiles 25, 50 y 75 de estas calificaciones.\n",
    "\n",
    "Percentiles de alturas:\n",
    "Datos: una lista de alturas en centímetros, por ejemplo: [160, 165, 170, 175, 180, 185, 190, 195, 200, 205, 210, 215, 220, 225, 230, 235].\n",
    "\n",
    "Calcula los percentiles 10, 25, 50, 75 y 90 de estas alturas.\n",
    "\n",
    "Percentiles de edades:\n",
    "Datos: una lista de edades de personas, por ejemplo: [25, 30, 35, 40, 45, 50, 55, 60, 65, 70, 75, 80, 85, 90, 95, 100].\n",
    "\n",
    "Calcula los percentiles 20, 40, 60 y 80 de estas edades."
   ]
  },
  {
   "cell_type": "markdown",
   "id": "4d446233",
   "metadata": {},
   "source": [
    "# MEDIDAS DE DISPERSION"
   ]
  },
  {
   "cell_type": "markdown",
   "id": "b3c438da",
   "metadata": {},
   "source": [
    "Las medidas de dispersión son herramientas estadísticas que nos ayudan a comprender la variabilidad o dispersión de un conjunto de datos. En otras palabras, nos permiten entender qué tan dispersos están los valores individuales respecto a alguna medida de tendencia central, como la media o la mediana.\n",
    "\n",
    "Algunas de las medidas de dispersión más comunes son:\n",
    "\n",
    "Rango: Es la diferencia entre el valor máximo y el valor mínimo en un conjunto de datos. Proporciona una idea básica de la dispersión de los datos, pero es sensible a valores atípicos.\n",
    "\n",
    "Desviación estándar: Es una medida de dispersión que indica cuánto se alejan los valores individuales de la media en promedio. Una desviación estándar alta indica una gran dispersión de los datos, mientras que una baja indica una dispersión menor.\n",
    "\n",
    "Varianza: Es el cuadrado de la desviación estándar y proporciona una medida de la dispersión promedio de los datos respecto a la media. Al igual que la desviación estándar, una varianza alta indica una mayor dispersión de los datos.\n",
    "\n",
    "Rango intercuartílico (IQR): Es la diferencia entre el tercer cuartil (Q3) y el primer cuartil (Q1) en un conjunto de datos. Se utiliza para medir la dispersión de los datos alrededor de la mediana y es menos sensible a valores atípicos que el rango.\n",
    "\n",
    "Estas medidas de dispersión son útiles para comprender la variabilidad en un conjunto de datos y para comparar la dispersión relativa entre diferentes conjuntos de datos. Ayudan a proporcionar una imagen más completa de la distribución de los datos y son fundamentales en el análisis estadístico y en la toma de decisiones basada en datos."
   ]
  },
  {
   "cell_type": "markdown",
   "id": "0f7b3e94",
   "metadata": {},
   "source": [
    "# 9.1 Rango"
   ]
  },
  {
   "cell_type": "markdown",
   "id": "49432e4a",
   "metadata": {},
   "source": [
    "El rango es una medida de dispersión estadística que indica la diferencia entre el valor máximo y el valor mínimo en un conjunto de datos. En otras palabras, el rango representa el alcance completo de los valores observados en un conjunto de datos.\n",
    "\n",
    "Para calcular el rango, simplemente restamos el valor mínimo del conjunto de datos del valor máximo. Matemáticamente, se expresa de la siguiente manera:\n",
    "\n",
    "\n",
    "Valor maximo−Valor mınimo \n",
    "\n",
    "Por ejemplo, si tenemos el conjunto de datos: 10, 15, 20, 25, 30, el valor mínimo es 10 y el valor máximo es 30. Por lo tanto, el rango sería:\n",
    "\n",
    "Rango=30−10=20\n",
    "\n",
    "\n",
    "El rango es una medida simple pero útil de dispersión que proporciona una comprensión básica de la variabilidad de los datos. Sin embargo, es importante tener en cuenta que el rango puede ser sensible a valores atípicos (valores extremos), ya que puede verse afectado significativamente por cambios en los valores mínimos o máximos en el conjunto de datos."
   ]
  },
  {
   "cell_type": "code",
   "execution_count": 12,
   "id": "37cd4eba",
   "metadata": {},
   "outputs": [
    {
     "name": "stdout",
     "output_type": "stream",
     "text": [
      "El rango es: 20\n"
     ]
    }
   ],
   "source": [
    "# Datos de ejemplo\n",
    "datos = [10, 15, 20, 25, 30]\n",
    "\n",
    "# Calcular el rango\n",
    "rango = max(datos) - min(datos)\n",
    "\n",
    "# Imprimir el resultado\n",
    "print(\"El rango es:\", rango)\n"
   ]
  },
  {
   "cell_type": "markdown",
   "id": "f043c58c",
   "metadata": {},
   "source": [
    "## EJERCICIOS"
   ]
  },
  {
   "cell_type": "code",
   "execution_count": 13,
   "id": "df15e4f4",
   "metadata": {},
   "outputs": [
    {
     "name": "stdout",
     "output_type": "stream",
     "text": [
      "El rango es 40\n"
     ]
    }
   ],
   "source": [
    "#Rango de alturas:\n",
    "#Datos: una lista de alturas en centímetros, por ejemplo: [160, 165, 170, 175, 180, 185, 190, 195, 200].\n",
    "datos = [160, 165, 170, 175, 180, 185, 190, 195, 200]\n",
    "\n",
    "rango = max(datos) - min(datos)\n",
    "print(\"El rango es\", rango)"
   ]
  },
  {
   "cell_type": "markdown",
   "id": "bd04c4a2",
   "metadata": {},
   "source": [
    "# 9.2 Rango intercuartil"
   ]
  },
  {
   "cell_type": "markdown",
   "id": "297cb7f7",
   "metadata": {},
   "source": [
    "El rango intercuartílico (IQR, por sus siglas en inglés) es una medida de dispersión que se utiliza en estadística descriptiva. Se define como la diferencia entre el tercer cuartil (Q3) y el primer cuartil (Q1) en un conjunto de datos ordenados. En otras palabras, el IQR representa el rango de los datos que abarca el 50% central de las observaciones.\n",
    "\n",
    "Matemáticamente, el IQR se calcula como sigue:"
   ]
  },
  {
   "cell_type": "markdown",
   "id": "52105be8",
   "metadata": {},
   "source": [
    "IQR=Q3−Q1"
   ]
  },
  {
   "cell_type": "markdown",
   "id": "bd56e48c",
   "metadata": {},
   "source": [
    "Donde:\n",
    "\n",
    "Q3 es el tercer cuartil, es decir, el valor por debajo del cual se encuentra el 75% de los datos.\n",
    "\n",
    "Q1 es el primer cuartil, es decir, el valor por debajo del cual se encuentra el 25% de los datos."
   ]
  },
  {
   "cell_type": "markdown",
   "id": "c8fda2be",
   "metadata": {},
   "source": [
    "El rango intercuartílico es una medida de dispersión robusta que es menos sensible a valores atípicos que el rango completo o la desviación estándar. Se utiliza comúnmente para identificar la dispersión en la parte central de una distribución y para detectar la presencia de valores extremos en un conjunto de datos."
   ]
  },
  {
   "cell_type": "markdown",
   "id": "a30de542",
   "metadata": {},
   "source": [
    "## EJEMPLO"
   ]
  },
  {
   "cell_type": "code",
   "execution_count": 14,
   "id": "485d24de",
   "metadata": {},
   "outputs": [
    {
     "name": "stdout",
     "output_type": "stream",
     "text": [
      "Primer cuartil (Q1): 20.0\n",
      "Tercer cuartil (Q3): 40.0\n",
      "Rango intercuartílico (IQR): 20.0\n"
     ]
    }
   ],
   "source": [
    "import numpy as np\n",
    "\n",
    "# Datos de ejemplo (pueden ser calificaciones, alturas, edades, etc.)\n",
    "datos = [10, 15, 20, 25, 30, 35, 40, 45, 50]\n",
    "\n",
    "# Calcular primer y tercer cuartil\n",
    "q1 = np.percentile(datos, 25)\n",
    "q3 = np.percentile(datos, 75)\n",
    "\n",
    "# Calcular el rango intercuartílico (IQR)\n",
    "iqr = q3 - q1\n",
    "\n",
    "print(\"Primer cuartil (Q1):\", q1)\n",
    "print(\"Tercer cuartil (Q3):\", q3)\n",
    "print(\"Rango intercuartílico (IQR):\", iqr)"
   ]
  },
  {
   "cell_type": "markdown",
   "id": "297b60ca",
   "metadata": {},
   "source": [
    "### EJERCICIOS"
   ]
  },
  {
   "cell_type": "markdown",
   "id": "4881a466",
   "metadata": {},
   "source": [
    "IQR de calificaciones:\n",
    "Datos: una lista de calificaciones de un examen, por ejemplo: [65, 70, 75, 80, 85, 90, 95, 100, 105, 110, 115, 120, 125, 130, 135, 140].\n",
    "\n",
    "Calcula el rango intercuartílico de estas calificaciones.\n",
    "\n",
    "IQR de alturas:\n",
    "Datos: una lista de alturas en centímetros, por ejemplo: [160, 165, 170, 175, 180, 185, 190, 195, 200].\n",
    "\n",
    "Calcula el rango intercuartílico de estas alturas.\n",
    "\n",
    "IQR de edades:\n",
    "Datos: una lista de edades de personas, por ejemplo: [25, 30, 35, 40, 45, 50, 55, 60, 65, 70, 75, 80, 85, 90, 95, 100].\n",
    "\n",
    "Calcula el rango intercuartílico de estas edades."
   ]
  },
  {
   "cell_type": "code",
   "execution_count": 15,
   "id": "c1b510ad",
   "metadata": {},
   "outputs": [
    {
     "name": "stdout",
     "output_type": "stream",
     "text": [
      "Primer cuartil (Q1): 83.75\n",
      "Tercer cuartil (Q3): 121.25\n",
      "Rango intercuartílico (IQR): 37.5\n"
     ]
    }
   ],
   "source": [
    "datos = [65, 70, 75, 80, 85, 90, 95, 100, 105, 110, 115, 120, 125, 130, 135, 140]\n",
    "\n",
    "q1 = np.percentile(datos, 25)\n",
    "q3 = np.percentile(datos, 75)\n",
    "\n",
    "iqr = q3 - q1\n",
    "\n",
    "print(\"Primer cuartil (Q1):\", q1)\n",
    "print(\"Tercer cuartil (Q3):\", q3)\n",
    "print(\"Rango intercuartílico (IQR):\", iqr)"
   ]
  },
  {
   "cell_type": "markdown",
   "id": "6dc41bad",
   "metadata": {},
   "source": [
    "# 9.3 Varianza"
   ]
  },
  {
   "cell_type": "markdown",
   "id": "dfd3bd33",
   "metadata": {},
   "source": [
    "La varianza es una medida estadística que indica qué tan dispersos están los valores de un conjunto de datos alrededor de su media. En otras palabras, la varianza mide la variabilidad o dispersión de los datos."
   ]
  },
  {
   "cell_type": "markdown",
   "id": "6d9f085a",
   "metadata": {},
   "source": [
    "La varianza es útil para comprender cuánto se alejan los valores individuales del conjunto de datos de su media. Una varianza alta indica que los valores están más dispersos alrededor de la media, mientras que una varianza baja indica que los valores están más cerca de la media.\n",
    "\n",
    "Es importante tener en cuenta que la varianza se expresa en unidades cuadradas, lo que puede no ser intuitivo para interpretar directamente. Por esta razón, a menudo se prefiere la raíz cuadrada de la varianza, que es la desviación estándar, ya que tiene las mismas unidades que los datos originales y es más fácil de interpretar."
   ]
  },
  {
   "cell_type": "markdown",
   "id": "6a89a844",
   "metadata": {},
   "source": [
    "# EJEMPLO"
   ]
  },
  {
   "cell_type": "code",
   "execution_count": 16,
   "id": "4fc430af",
   "metadata": {},
   "outputs": [
    {
     "name": "stdout",
     "output_type": "stream",
     "text": [
      "Datos: [10, 15, 20, 25, 30]\n",
      "Media: 20.0\n",
      "Varianza: 50.0\n"
     ]
    }
   ],
   "source": [
    "import numpy as np\n",
    "\n",
    "# Datos de ejemplo (pueden ser calificaciones, alturas, edades, etc.)\n",
    "datos = [10, 15, 20, 25, 30]\n",
    "\n",
    "# Calcular la media\n",
    "media = np.mean(datos)\n",
    "\n",
    "# Calcular la varianza\n",
    "varianza = np.var(datos)\n",
    "\n",
    "print(\"Datos:\", datos)\n",
    "print(\"Media:\", media)\n",
    "print(\"Varianza:\", varianza)\n"
   ]
  },
  {
   "cell_type": "markdown",
   "id": "d5b4236e",
   "metadata": {},
   "source": [
    "### EJERCICIOS "
   ]
  },
  {
   "cell_type": "markdown",
   "id": "94b1c8c4",
   "metadata": {},
   "source": [
    "Varianza de calificaciones:\n",
    "Datos: una lista de calificaciones de un examen, por ejemplo: [65, 70, 75, 80, 85, 90, 95, 100, 105, 110].\n",
    "\n",
    "Calcula la varianza de estas calificaciones.\n",
    "\n",
    "Varianza de alturas:\n",
    "Datos: una lista de alturas en centímetros, por ejemplo: [160, 165, 170, 175, 180, 185, 190, 195, 200].\n",
    "\n",
    "Calcula la varianza de estas alturas.\n",
    "\n",
    "Varianza de edades:\n",
    "Datos: una lista de edades de personas, por ejemplo: [25, 30, 35, 40, 45, 50, 55, 60, 65, 70].\n",
    "\n",
    "Calcula la varianza de estas edades."
   ]
  },
  {
   "cell_type": "code",
   "execution_count": 17,
   "id": "af622a47",
   "metadata": {},
   "outputs": [
    {
     "name": "stdout",
     "output_type": "stream",
     "text": [
      "Datos: [160, 165, 170, 175, 180, 185, 190, 195, 200]\n",
      "Media: 180.0\n",
      "Varianza: 166.66666666666666\n"
     ]
    }
   ],
   "source": [
    "#Varianza(Alturas)\n",
    "datos = [160, 165, 170, 175, 180, 185, 190, 195, 200]\n",
    "\n",
    "media = np.mean(datos)\n",
    "\n",
    "\n",
    "varianza = np.var(datos)\n",
    "\n",
    "print(\"Datos:\", datos)\n",
    "print(\"Media:\", media)\n",
    "print(\"Varianza:\", varianza)"
   ]
  },
  {
   "cell_type": "markdown",
   "id": "b9a4ac2b",
   "metadata": {},
   "source": [
    "# 9.4 Desviación estándar"
   ]
  },
  {
   "cell_type": "markdown",
   "id": "0737234a",
   "metadata": {},
   "source": [
    "La desviación estándar es una medida de dispersión que indica cuánto se desvían, en promedio, los valores de un conjunto de datos respecto a su media. En otras palabras, es una medida de cuánto varían los valores individuales del conjunto de datos alrededor de la media.\n",
    "\n",
    "La desviación estándar se expresa en las mismas unidades que los datos originales, lo que facilita su interpretación. Una desviación estándar alta indica que los valores están más dispersos alrededor de la media, mientras que una desviación estándar baja indica que los valores están más concentrados cerca de la media.\n",
    "\n",
    "La desviación estándar es una medida comúnmente utilizada en estadística y análisis de datos para comprender la dispersión de los datos y la variabilidad de una distribución."
   ]
  },
  {
   "cell_type": "markdown",
   "id": "1587a902",
   "metadata": {},
   "source": [
    "## EJEMPLO"
   ]
  },
  {
   "cell_type": "code",
   "execution_count": 18,
   "id": "1cf516b6",
   "metadata": {},
   "outputs": [
    {
     "name": "stdout",
     "output_type": "stream",
     "text": [
      "Datos: [10, 15, 20, 25, 30]\n",
      "Desviación estándar: 7.0710678118654755\n"
     ]
    }
   ],
   "source": [
    "import numpy as np\n",
    "\n",
    "# Datos de ejemplo (pueden ser calificaciones, alturas, edades, etc.)\n",
    "datos = [10, 15, 20, 25, 30]\n",
    "\n",
    "# Calcular la desviación estándar\n",
    "desviacion_estandar = np.std(datos)\n",
    "\n",
    "print(\"Datos:\", datos)\n",
    "print(\"Desviación estándar:\", desviacion_estandar)\n"
   ]
  },
  {
   "cell_type": "markdown",
   "id": "57168225",
   "metadata": {},
   "source": [
    "### EJERCICIOS"
   ]
  },
  {
   "cell_type": "markdown",
   "id": "4dccfdf9",
   "metadata": {},
   "source": [
    "Desviación estándar de calificaciones:\n",
    "Datos: una lista de calificaciones de un examen, por ejemplo: [65, 70, 75, 80, 85, 90, 95, 100, 105, 110].\n",
    "\n",
    "Calcula la desviación estándar de estas calificaciones.\n",
    "\n",
    "Desviación estándar de alturas:\n",
    "Datos: una lista de alturas en centímetros, por ejemplo: [160, 165, 170, 175, 180, 185, 190, 195, 200].\n",
    "\n",
    "Calcula la desviación estándar de estas alturas.\n",
    "\n",
    "Desviación estándar de edades:\n",
    "Datos: una lista de edades de personas, por ejemplo: [25, 30, 35, 40, 45, 50, 55, 60, 65, 70].\n",
    "\n",
    "Calcula la desviación estándar de estas edades."
   ]
  },
  {
   "cell_type": "code",
   "execution_count": 19,
   "id": "ea820a81",
   "metadata": {},
   "outputs": [
    {
     "name": "stdout",
     "output_type": "stream",
     "text": [
      "Datos: [25, 30, 35, 40, 45, 50, 55, 60, 65, 70]\n",
      "Desviación estándar: 14.361406616345072\n"
     ]
    }
   ],
   "source": [
    "#Desviacion estandar(Edades)\n",
    "datos = [25, 30, 35, 40, 45, 50, 55, 60, 65, 70]\n",
    "desviacion = np.std(datos)\n",
    "\n",
    "print(\"Datos:\", datos)\n",
    "print(\"Desviación estándar:\", desviacion)"
   ]
  },
  {
   "cell_type": "markdown",
   "id": "96a2c305",
   "metadata": {},
   "source": [
    "# 9.5 Coeficiente de variación"
   ]
  },
  {
   "cell_type": "markdown",
   "id": "163f7ddf",
   "metadata": {},
   "source": [
    "El coeficiente de variación (CV) es una medida de dispersión relativa que se utiliza para comparar la variabilidad de dos o más conjuntos de datos que pueden tener diferentes unidades de medida. Se expresa como un porcentaje y se calcula como la desviación estándar dividida por la media, multiplicada por 100."
   ]
  },
  {
   "cell_type": "markdown",
   "id": "b1f67342",
   "metadata": {},
   "source": [
    "El coeficiente de variación se utiliza comúnmente en campos como la economía, la ingeniería, las ciencias sociales y la investigación médica para comparar la variabilidad relativa de diferentes conjuntos de datos, especialmente cuando las unidades de medida son diferentes.\n",
    "\n",
    "Un coeficiente de variación más alto indica una mayor variabilidad en relación con la media, mientras que un coeficiente de variación más bajo indica una menor variabilidad relativa. Es una medida adimensional, lo que significa que no tiene unidades asociadas y es útil para comparar la dispersión de datos en diferentes escalas."
   ]
  },
  {
   "cell_type": "markdown",
   "id": "cbda3d69",
   "metadata": {},
   "source": [
    "## EJEMPLO"
   ]
  },
  {
   "cell_type": "code",
   "execution_count": 20,
   "id": "d8d6105c",
   "metadata": {},
   "outputs": [
    {
     "name": "stdout",
     "output_type": "stream",
     "text": [
      "Datos: [10, 15, 20, 25, 30]\n",
      "Media: 20.0\n",
      "Desviación estándar: 7.0710678118654755\n",
      "Coeficiente de variación: 35.35533905932738\n"
     ]
    }
   ],
   "source": [
    "import numpy as np\n",
    "\n",
    "# Datos de ejemplo (pueden ser calificaciones, alturas, edades, etc.)\n",
    "datos = [10, 15, 20, 25, 30]\n",
    "\n",
    "# Calcular la media y la desviación estándar\n",
    "media = np.mean(datos)\n",
    "desviacion_estandar = np.std(datos)\n",
    "\n",
    "# Calcular el coeficiente de variación\n",
    "coeficiente_variacion = (desviacion_estandar / media) * 100\n",
    "\n",
    "print(\"Datos:\", datos)\n",
    "print(\"Media:\", media)\n",
    "print(\"Desviación estándar:\", desviacion_estandar)\n",
    "print(\"Coeficiente de variación:\", coeficiente_variacion)\n"
   ]
  },
  {
   "cell_type": "markdown",
   "id": "5008d553",
   "metadata": {},
   "source": [
    "### EJERCICIOS"
   ]
  },
  {
   "cell_type": "markdown",
   "id": "178f4237",
   "metadata": {},
   "source": [
    "Coeficiente de variación de calificaciones:\n",
    "Datos: una lista de calificaciones de un examen, por ejemplo: [65, 70, 75, 80, 85, 90, 95, 100, 105, 110].\n",
    "\n",
    "Calcula el coeficiente de variación de estas calificaciones.\n",
    "\n",
    "Coeficiente de variación de alturas:\n",
    "Datos: una lista de alturas en centímetros, por ejemplo: [160, 165, 170, 175, 180, 185, 190, 195, 200].\n",
    "\n",
    "Calcula el coeficiente de variación de estas alturas.\n",
    "\n",
    "Coeficiente de variación de edades:\n",
    "Datos: una lista de edades de personas, por ejemplo: [25, 30, 35, 40, 45, 50, 55, 60, 65, 70].\n",
    "\n",
    "Calcula el coeficiente de variación de estas edades."
   ]
  },
  {
   "cell_type": "code",
   "execution_count": 22,
   "id": "319b0f10",
   "metadata": {},
   "outputs": [
    {
     "name": "stdout",
     "output_type": "stream",
     "text": [
      "Datos: [160, 165, 170, 175, 180, 185, 190, 195, 200]\n",
      "Media: 180.0\n",
      "Desviación estándar: 12.909944487358056\n",
      "Coeficiente de variación: 7.172191381865586\n"
     ]
    }
   ],
   "source": [
    "#Coeficiente de Variacion(Alturas)\n",
    "\n",
    "datos = [160, 165, 170, 175, 180, 185, 190, 195, 200]\n",
    "media = np.mean(datos)\n",
    "desviacion = np.std(datos)\n",
    "\n",
    "\n",
    "coeficiente_variacion = (desviacion / media) * 100\n",
    "\n",
    "print(\"Datos:\", datos)\n",
    "print(\"Media:\", media)\n",
    "print(\"Desviación estándar:\", desviacion)\n",
    "print(\"Coeficiente de variación:\", coeficiente_variacion)"
   ]
  },
  {
   "cell_type": "code",
   "execution_count": null,
   "id": "c4ab0ac7",
   "metadata": {},
   "outputs": [],
   "source": []
  }
 ],
 "metadata": {
  "kernelspec": {
   "display_name": "Python 3 (ipykernel)",
   "language": "python",
   "name": "python3"
  },
  "language_info": {
   "codemirror_mode": {
    "name": "ipython",
    "version": 3
   },
   "file_extension": ".py",
   "mimetype": "text/x-python",
   "name": "python",
   "nbconvert_exporter": "python",
   "pygments_lexer": "ipython3",
   "version": "3.11.8"
  }
 },
 "nbformat": 4,
 "nbformat_minor": 5
}
