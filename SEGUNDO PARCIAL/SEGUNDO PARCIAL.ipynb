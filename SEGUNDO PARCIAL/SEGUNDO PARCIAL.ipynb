{
 "cells": [
  {
   "cell_type": "code",
   "execution_count": 12,
   "id": "f51e2289",
   "metadata": {},
   "outputs": [
    {
     "name": "stdout",
     "output_type": "stream",
     "text": [
      "   Nombre de Fruta Tipo de Fruta  Cantidad Vendida  Año de Venta  \\\n",
      "0              Uva      De Hueso                41          2020   \n",
      "1          Naranja      Tropical                72          2020   \n",
      "2           Banana      De Hueso                48          2021   \n",
      "3          Naranja       Cítrica                80          2019   \n",
      "4          Manzana      Tropical                52          2020   \n",
      "..             ...           ...               ...           ...   \n",
      "95         Naranja      De Hueso                58          2012   \n",
      "96             Uva      De Hueso                23          2018   \n",
      "97             Uva     De Pepita                36          2021   \n",
      "98          Banana     De Pepita                17          2022   \n",
      "99         Manzana      Tropical                32          2011   \n",
      "\n",
      "    Tiempo de Cosecha (días)  \n",
      "0                        195  \n",
      "1                        298  \n",
      "2                         86  \n",
      "3                        142  \n",
      "4                        264  \n",
      "..                       ...  \n",
      "95                       222  \n",
      "96                        85  \n",
      "97                       302  \n",
      "98                       102  \n",
      "99                        40  \n",
      "\n",
      "[100 rows x 5 columns]\n"
     ]
    }
   ],
   "source": [
    "\"\"\"\n",
    "MILTON TARSIAN GARCIA PAYERO\n",
    "2020-10676\n",
    "SEGUNDO PARCIAL \n",
    "\"\"\"\n",
    "\n",
    "import pandas as pd\n",
    "import random\n",
    "import numpy as np\n",
    "import math\n",
    "# Listas de datos simulados\n",
    "nombres_frutas = ['Manzana', 'Banana', 'Naranja', 'Uva', 'Pera']\n",
    "tipos_frutas = ['Tropical', 'Cítrica', 'De Hueso', 'De Pepita']\n",
    "cantidades_vendidas = [random.randint(10, 100) for _ in range(100)]\n",
    "anios_venta = [random.randint(2010, 2023) for _ in range(100)]\n",
    "tiempos_cosecha = [random.randint(30, 365) for _ in range(100)]\n",
    "\n",
    "# Crear DataFrame\n",
    "data = {\n",
    "    'Nombre de Fruta': random.choices(nombres_frutas, k=100),\n",
    "    'Tipo de Fruta': random.choices(tipos_frutas, k=100),\n",
    "    'Cantidad Vendida': cantidades_vendidas,\n",
    "    'Año de Venta': anios_venta,\n",
    "    'Tiempo de Cosecha (días)': tiempos_cosecha\n",
    "}\n",
    "\n",
    "df = pd.DataFrame(data)\n",
    "# Mostrar el DataFrame\n",
    "print(df)"
   ]
  },
  {
   "cell_type": "code",
   "execution_count": 13,
   "id": "ac488004",
   "metadata": {},
   "outputs": [],
   "source": [
    "#1.Con esta información crear un rango o recorrido con la columna tiempo de cosecha\n",
    "rango = df['Tiempo de Cosecha (días)'].max() - df['Tiempo de Cosecha (días)'].min()"
   ]
  },
  {
   "cell_type": "code",
   "execution_count": 14,
   "id": "bcca985d",
   "metadata": {},
   "outputs": [],
   "source": [
    "#2.Calcule el número de intervalo \n",
    "num_intervalos = math.ceil(1 + math.log2(len(df)))"
   ]
  },
  {
   "cell_type": "code",
   "execution_count": 15,
   "id": "6986c68c",
   "metadata": {},
   "outputs": [],
   "source": [
    "#3.Luego de calcular el número de intervalo calcule la amplitud del intervalo\n",
    "amplitud_intervalo = (tiempo_max - tiempo_min) / num_intervalos"
   ]
  },
  {
   "cell_type": "code",
   "execution_count": 22,
   "id": "114d8007",
   "metadata": {},
   "outputs": [],
   "source": [
    "#4.Teniendo el dataframe calcula los límites del intervalo\n",
    "limites_intervalo = [tiempo_min + i * amplitud_intervalo \n",
    "        for i in range(num_intervalos + 1)]"
   ]
  },
  {
   "cell_type": "code",
   "execution_count": 17,
   "id": "cf7b134b",
   "metadata": {},
   "outputs": [],
   "source": [
    "#5.Realice la tabulación de los datos\n",
    "frecuencias = df.groupby(pd.cut(df['Tiempo de Cosecha (días)'], bins=limites_intervalo)).size()"
   ]
  },
  {
   "cell_type": "code",
   "execution_count": 20,
   "id": "99d10afa",
   "metadata": {},
   "outputs": [],
   "source": [
    "#6.Realice la marca de clase o punto medio\n",
    "marcas_clase = [(limites_intervalo[i] + limites_intervalo[i+1]) / 2 \n",
    "                for i in range(num_intervalos)]"
   ]
  },
  {
   "cell_type": "code",
   "execution_count": 23,
   "id": "a948503b",
   "metadata": {},
   "outputs": [
    {
     "name": "stdout",
     "output_type": "stream",
     "text": [
      "Número de intervalos: 8\n",
      "Amplitud del intervalo: 41.125\n",
      "Límites del intervalo: [34.0, 75.125, 116.25, 157.375, 198.5, 239.625, 280.75, 321.875, 363.0]\n",
      "Frecuencias: Tiempo de Cosecha (días)\n",
      "(34.0, 75.125]       16\n",
      "(75.125, 116.25]     15\n",
      "(116.25, 157.375]    17\n",
      "(157.375, 198.5]      8\n",
      "(198.5, 239.625]     12\n",
      "(239.625, 280.75]    12\n",
      "(280.75, 321.875]     8\n",
      "(321.875, 363.0]     11\n",
      "dtype: int64\n",
      "Marcas de clase: [54.5625, 95.6875, 136.8125, 177.9375, 219.0625, 260.1875, 301.3125, 342.4375]\n"
     ]
    }
   ],
   "source": [
    "print(\"Número de intervalos:\", num_intervalos)\n",
    "print(\"Amplitud del intervalo:\", amplitud_intervalo)\n",
    "print(\"Límites del intervalo:\", limites_intervalo)\n",
    "print(\"Frecuencias:\", frecuencias)\n",
    "print(\"Marcas de clase:\", marcas_clase)"
   ]
  },
  {
   "cell_type": "code",
   "execution_count": 24,
   "id": "412ed851",
   "metadata": {},
   "outputs": [
    {
     "name": "stdout",
     "output_type": "stream",
     "text": [
      "   Temperatura  Frecuencia Absoluta  Frecuencia Acumulada  \\\n",
      "0           27                    1                     1   \n",
      "1           28                    2                     3   \n",
      "2           29                    6                     9   \n",
      "3           30                    6                    15   \n",
      "4           31                    8                    23   \n",
      "5           32                    3                    26   \n",
      "6           33                    3                    29   \n",
      "7           34                    1                    30   \n",
      "\n",
      "   Frecuencia Relativa  Frecuencia Relativa Acumulada  \n",
      "0             0.033333                       0.033333  \n",
      "1             0.066667                       0.100000  \n",
      "2             0.200000                       0.300000  \n",
      "3             0.200000                       0.500000  \n",
      "4             0.266667                       0.766667  \n",
      "5             0.100000                       0.866667  \n",
      "6             0.100000                       0.966667  \n",
      "7             0.033333                       1.000000  \n"
     ]
    }
   ],
   "source": [
    "#Durante el mes de julio, en una ciudad se han registrado las siguientes temperaturas máximas:\n",
    "\"\"\"\n",
    "32,31,28,29,33,32,31,30,31,31,27,28,29,30,32,\n",
    "31,31,30,29,29,30,30,31,30,31,34,33,33,29,29\n",
    "\"\"\"\n",
    "#Crea la tabla de frecuencias, esta debe tener cada dato, sus frecuencias absolutas, \n",
    "#frecuencias acumuladas, frecuencias relativas y frecuencias relativas acumuladas.\n",
    "import pandas as pd\n",
    "\n",
    "# Temperaturas máximas registradas en julio\n",
    "temperaturas = [32, 31, 28, 29, 33, 32, 31, 30, 31, 31, 27, 28, 29, 30, 32, 31, 31, 30, 29, 29, 30, 30, 31, 30, 31, 34, 33, 33, 29, 29]\n",
    "\n",
    "#frecuencias absolutas\n",
    "frecuencias_absolutas = pd.Series(temperaturas).value_counts().sort_index()\n",
    "\n",
    "#frecuencias acumuladas\n",
    "frecuencias_acumuladas = frecuencias_absolutas.cumsum()\n",
    "\n",
    "#frecuencias relativas\n",
    "total_datos = len(temperaturas)\n",
    "frecuencias_relativas = frecuencias_absolutas / total_datos\n",
    "\n",
    "#frecuencias relativas acumuladas\n",
    "frecuencias_relativas_acumuladas = frecuencias_acumuladas / total_datos\n",
    "\n",
    "# Crear DataFrame con los resultados\n",
    "tabla_frecuencias = pd.DataFrame({\n",
    "    'Temperatura': frecuencias_absolutas.index,\n",
    "    'Frecuencia Absoluta': frecuencias_absolutas.values,\n",
    "    'Frecuencia Acumulada': frecuencias_acumuladas.values,\n",
    "    'Frecuencia Relativa': frecuencias_relativas.values,\n",
    "    'Frecuencia Relativa Acumulada': frecuencias_relativas_acumuladas.values\n",
    "})\n",
    "\n",
    "#tabla de frecuencias\n",
    "print(tabla_frecuencias)\n"
   ]
  },
  {
   "cell_type": "code",
   "execution_count": null,
   "id": "277fcb2b",
   "metadata": {},
   "outputs": [],
   "source": []
  }
 ],
 "metadata": {
  "kernelspec": {
   "display_name": "Python 3 (ipykernel)",
   "language": "python",
   "name": "python3"
  },
  "language_info": {
   "codemirror_mode": {
    "name": "ipython",
    "version": 3
   },
   "file_extension": ".py",
   "mimetype": "text/x-python",
   "name": "python",
   "nbconvert_exporter": "python",
   "pygments_lexer": "ipython3",
   "version": "3.11.5"
  }
 },
 "nbformat": 4,
 "nbformat_minor": 5
}
