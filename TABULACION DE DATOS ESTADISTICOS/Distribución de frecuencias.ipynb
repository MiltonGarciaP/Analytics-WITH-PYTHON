{
 "cells": [
  {
   "cell_type": "markdown",
   "id": "97fa71b4",
   "metadata": {},
   "source": []
  },
  {
   "cell_type": "markdown",
   "id": "821ff4a8",
   "metadata": {},
   "source": [
    "## CONTENIDO\n",
    "\n",
    "Distribución de frecuencias\n",
    "\n",
    "4.1 Frecuencia absoluta\n",
    "\n",
    "4.2 Frecuencia relativa\n",
    "\n",
    "4.3 Frecuencia absoluta acumulada\n",
    "\n",
    "4.4 Frecuencia relativa acumulada"
   ]
  },
  {
   "cell_type": "markdown",
   "id": "ee4ce39b",
   "metadata": {},
   "source": [
    "# Distribución de frecuencias"
   ]
  },
  {
   "cell_type": "markdown",
   "id": "83eca58a",
   "metadata": {},
   "source": [
    "Las distribuciones de frecuencias son tablas en que se dispone las modalidades de la variable por filas. En las columnas se dispone el número de ocurrencias por cada valor, porcentajes, etc. La finalidad de las agrupaciones en frecuencias es facilitar la obtención de la información que contienen los datos.\n",
    "\n",
    "\n",
    "Ejemplo: Quieren conocer si un grupo de individuos está a favor o en contra de la exhibición de imágenes violentas por televisión, para lo cual han recogido los siguientes datos:"
   ]
  },
  {
   "cell_type": "markdown",
   "id": "6bc097a4",
   "metadata": {},
   "source": [
    "<img src='x.png'>"
   ]
  },
  {
   "cell_type": "markdown",
   "id": "d90fa1ba",
   "metadata": {},
   "source": [
    "La inspección de los datos originales no permite responder fácilmente a cuestiones como cuál es la actitud mayoritaria del grupo, y resulta bastante más difícil determinar la magnitud de la diferencia de actitud entre hombres y mujeres.\n",
    "\n",
    "\n",
    "Podemos hacernos mejor idea si disponemos en una tabla los valores de la variable acompañados del número de veces (la frecuencia) que aparece cada valor:"
   ]
  },
  {
   "cell_type": "markdown",
   "id": "7990193b",
   "metadata": {},
   "source": [
    "<img src='xx.png'>"
   ]
  },
  {
   "cell_type": "markdown",
   "id": "29cd301f",
   "metadata": {},
   "source": [
    "X: Símbolo genérico de la variable.\n",
    "\n",
    "f: Frecuencia (también se simboliza como ni).\n",
    "\n",
    "\n",
    "La distribución de frecuencias de los datos del ejemplo muestra que la actitud mayoritaria de los individuos del grupo estudiado es indiferente.\n",
    "\n",
    "\n",
    "La interpretación de los datos ha sido facilitada porque se ha reducido el número de números a examinar (en vez de los 20 datos originales, la tabla contiene 5 valores de la variable y 5 frecuencias).\n",
    "\n",
    "\n",
    "Generalmente las tablas incluyen varías columnas con las frecuencias relativas (son el número de ocurrencias dividido por el total de datos, y se simbolizan \"fr\" o \"pi\"), frecuencias acumuladas (la frecuencia acumulada es el total de frecuencias de los valores iguales o inferiores al de referencia, y se simbolizan \"fa\" o \"na\". No obstante la frecuencia acumulada también es definida incluyendo al valor de referencia), frecuencias acumuladas relativas (la frecuencia acumulada relativa es el total de frecuencias relativas de los valores iguales o inferiores al de referencia, y se simbolizan \"fr\" o \"pa\")"
   ]
  },
  {
   "cell_type": "markdown",
   "id": "f7fcbc2e",
   "metadata": {},
   "source": [
    "# 4.1 Frecuencia absoluta"
   ]
  },
  {
   "cell_type": "markdown",
   "id": "7543cfdc",
   "metadata": {},
   "source": [
    "La frecuencia absoluta es una medida estadística que nos da información acerca de la cantidad de veces que se repite un suceso al realizar un número determinado de experimentos aleatorios. Esta medida se representa mediante las letras fi. La letra f se refiere a la palabra frecuencia y la letra i se refiere a la realización i-ésima del experimento aleatorio, es decir, se refiere a cada prueba específica.\n",
    "\n",
    "##### Puntos clave\n",
    "\n",
    "La frecuencia absoluta es una medida estadística que indica cuántas veces se repite un suceso en un conjunto de experimentos aleatorios.\n",
    "\n",
    "Es útil en estadística descriptiva para comprender mejor las características de un conjunto de datos, ya sea cualitativo o cuantitativo, siempre que los datos puedan organizarse de alguna manera.\n",
    "\n",
    "Al sumar todas las frecuencias absolutas en un conjunto de datos, obtienes el número total de datos que estás analizando, ya sea de una muestra o de una población.\n",
    "\n",
    "#### La frecuencia absoluta: explicación sencilla\n",
    "\n",
    "La frecuencia absoluta nos dice cuántas veces ocurre un suceso en particular durante la realización de pruebas o experimentos.\n",
    "\n",
    "Este concepto es muy útil en estadística descriptiva, una rama de la estadística que se enfoca en describir y resumir datos. Nos ayuda a entender mejor las características de un grupo grande de datos, y/o de una muestra.\n",
    "\n",
    "Se aplica tanto a datos cualitativos (como palabras o categorías) como a cuantitativos (números), siempre y cuando estos datos se puedan organizar de alguna manera.\n",
    "\n",
    "Podemos usar la frecuencia absoluta para trabajar con dos tipos de variables: las discretas, que son datos que se pueden ordenar de menor a mayor, y las continuas, que son datos que se ordenan de menor a mayor y se agrupan en intervalos. Además, esta medida nos sirve para calcular la frecuencia relativa, que es otra forma de analizar datos estadísticos.\n",
    "\n",
    "Un punto importante es que si sumamos todas las frecuencias absolutas de un conjunto de datos, obtenemos el número total de datos que estamos analizando, ya sea de una muestra o de una población."
   ]
  },
  {
   "cell_type": "markdown",
   "id": "8ef80384",
   "metadata": {},
   "source": [
    "##### EJEMPLO"
   ]
  },
  {
   "cell_type": "markdown",
   "id": "9d6e3007",
   "metadata": {},
   "source": [
    "¡Tomaremos de ejemplo un salón de clases! Si fueramos un maestro de la materia de biologia y tenemos 20 estudiantes y tenemos las notas finales del semestre.\n",
    "\n",
    "Seguiremos los pasos siguientes para construir tu tabla de frecuencias:"
   ]
  },
  {
   "cell_type": "markdown",
   "id": "a7e389d9",
   "metadata": {},
   "source": [
    "1- Reunimos los datos"
   ]
  },
  {
   "cell_type": "markdown",
   "id": "9200d9e3",
   "metadata": {},
   "source": [
    "<img src='xxx.png'>"
   ]
  },
  {
   "cell_type": "markdown",
   "id": "d2c26043",
   "metadata": {},
   "source": [
    "Creamos una nueva tabla. En la primera columna, ubica las notas de 1 a 10, de menor a mayor. En la segunda columna, escribe la cantidad de veces que se repite cada nota y llama a estos datos frecuencia absoluta."
   ]
  },
  {
   "cell_type": "markdown",
   "id": "4a8a3f60",
   "metadata": {},
   "source": [
    "<img src='xxxx.png'>"
   ]
  },
  {
   "cell_type": "markdown",
   "id": "c29b8c1d",
   "metadata": {},
   "source": [
    "Hasta ahora tenemos una tabla de frecuencias sencilla, pero también puedes agregarle una columna más para calcular la frecuencia absoluta acumulada. Sus valores se obtienen sumando los datos en diagonal. \n",
    "\n",
    "Por ejemplo: el primer número siempre va a  ser igual al primer dato de la frecuencia absoluta, en este caso es cero. Luego, para obtener el segundo dato, necesitas sumar el cero con el dos, que es el segundo número de la frecuencia absoluta y justamente, el que está ubicado de forma diagonal. Entonces: 0 + 2 = 2."
   ]
  },
  {
   "cell_type": "markdown",
   "id": "6501321a",
   "metadata": {},
   "source": [
    "<img src='xxxxx.png'>"
   ]
  },
  {
   "cell_type": "markdown",
   "id": "03c00de2",
   "metadata": {},
   "source": [
    "Se prosigue con los siguientes numeros para ir sumando los números en diagonal. Ahora es el turno de 2 + 1 = 3. Continua hasta llenar toda la columna."
   ]
  },
  {
   "cell_type": "markdown",
   "id": "428bffca",
   "metadata": {},
   "source": [
    "<img src='xxxxxx.png'>"
   ]
  },
  {
   "cell_type": "markdown",
   "id": "cb1f6261",
   "metadata": {},
   "source": [
    "Una forma de verificar que la suma es correcta, es obteniendo como número final la cantidad de datos que tienes. En este caso, sería igual a 20, porque son las notas de 20 estudiantes. Y se finaliza"
   ]
  },
  {
   "cell_type": "markdown",
   "id": "3d35395f",
   "metadata": {},
   "source": [
    "<img src='xxxxxxx.png'>"
   ]
  },
  {
   "cell_type": "markdown",
   "id": "d828383d",
   "metadata": {},
   "source": [
    "# 4.1 Frecuencia relativa"
   ]
  },
  {
   "cell_type": "markdown",
   "id": "4e806fbf",
   "metadata": {},
   "source": [
    "La frecuencia relativa es una medida estadística que se calcula como el cociente de la frecuencia absoluta de algún valor de la población/muestra (fi) entre el total de valores que componen la población/muestra (N)."
   ]
  },
  {
   "cell_type": "markdown",
   "id": "7511c554",
   "metadata": {},
   "source": [
    "##### Puntos clave\n",
    "\n",
    "La frecuencia relativa es una medida estadística que indica la proporción o el porcentaje de cada valor dentro de un conjunto de datos.\n",
    "\n",
    "Es especialmente útil para entender y comparar la distribución de datos en diferentes conjuntos, ayudando a visualizar la relevancia de cada dato en un contexto más amplio.\n",
    "\n",
    "Se calcula dividiendo la frecuencia absoluta de un valor por el número total de observaciones en el conjunto de datos."
   ]
  },
  {
   "cell_type": "markdown",
   "id": "4ad36d6b",
   "metadata": {},
   "source": [
    "##### La frecuencia relativa: Explicación sencilla\n",
    "\n",
    "Para entender la frecuencia relativa, primero necesitamos saber qué es la frecuencia absoluta.\n",
    "\n",
    "La frecuencia absoluta cuenta cuántas veces aparece un valor en un conjunto de datos. Una vez ya se sabe dicho dato, podemos calcular la frecuencia relativa.\n",
    "\n",
    "A diferencia de la frecuencia absoluta, la frecuencia relativa nos muestra la proporción o el porcentaje que representa cada valor dentro del total de datos. Se calcula dividiendo la frecuencia absoluta entre el número total de observaciones en el conjunto de datos.\n",
    "\n",
    "La frecuencia relativa se representa con las letras hi y su fórmula de cálculo es la siguiente:\n",
    "\n",
    "hi = fi / N\n",
    "\n",
    "hi    = Frecuencia relativa de la observación i-ésima\n",
    "\n",
    "fi     = Frecuencia absoluta de la observación i-ésima\n",
    "\n",
    "N    = Número total de observaciones de la muestra\n",
    "\n",
    "De la fórmula de cálculo se desprenden dos conclusiones:\n",
    "\n",
    "La primera es que la frecuencia relativa va a estar acotada entre 0 y 1, debido a que la frecuencia de los valores de la muestra, siempre va a ser menor al tamaño de la muestra.\n",
    "La segunda es que la suma de todas las muestras va a ser 1 si se mide en tanto por 1, o 100 si se mide en tanto por ciento.\n"
   ]
  },
  {
   "cell_type": "markdown",
   "id": "c5059d52",
   "metadata": {},
   "source": [
    "Por consiguiente la frecuencia relativa nos informa acerca de la proporción o el peso que tiene algún valor u observación en la muestra. Esto la hace de especial utilidad, dado que a diferencia de la frecuencia absoluta, la frecuencia relativa nos va a permitir hacer comparaciones entre muestras de tamaños distintos. Esta se puede expresar como un valor decimal, como fracción o como porcentaje."
   ]
  },
  {
   "cell_type": "markdown",
   "id": "dd4cc1d0",
   "metadata": {},
   "source": [
    "<img src='xxxxxxxx.png'>"
   ]
  },
  {
   "cell_type": "markdown",
   "id": "673c8571",
   "metadata": {},
   "source": [
    "# 4.3 Frecuencia absoluta acumulada"
   ]
  },
  {
   "cell_type": "markdown",
   "id": "c5151f0d",
   "metadata": {},
   "source": [
    "Para calcular la frecuencia absoluta acumulada, hay que calcular primero la frecuencia absoluta (fi) de la población o muestra. Para ello, los datos se ordenan de menor a mayor y se colocan en una tabla.\n",
    "\n",
    "Una vez hecho esto, la frecuencia absoluta acumulada se obtiene de ir sumando las frecuencias absolutas de una clase o grupo de la muestra con la anterior (primer grupo + segundo grupo, primer grupo + segundo grupo + tercer grupo y así sucesivamente hasta llegar a acumular del primer grupo al último)."
   ]
  },
  {
   "cell_type": "markdown",
   "id": "98024102",
   "metadata": {},
   "source": [
    "Ejemplo de frecuencia absoluta acumulada (Fi) para una variable discreta\n",
    "\n",
    "Supongamos que las notas de 20 alumnos de primer curso de economía son las siguientes:\n",
    "\n",
    "1, 2, 8, 5, 8, 3, 8, 5, 6, 10, 5, 7, 9, 4, 10, 2, 7, 6, 5, 10.\n",
    "\n",
    "A simple vista se puede observar que de los 20 valores 10 de ellos son distintos y los demás se repiten al menos una vez. Para elaborar la tabla de frecuencias absolutas en primer lugar se ordenarían los valores de menor a mayor y se calcularía la frecuencia absoluta para cada uno.\n",
    "\n",
    "Por tanto tenemos:\n",
    "\n",
    "Xi = Variable aleatoria estadística (nota del examen de primer curso de economía).\n",
    "\n",
    "N = 20\n",
    "\n",
    "fi = Frecuencia absoluta (número de veces que se repite el suceso en este caso, la nota del examen).\n",
    "\n",
    "Fi= Frecuencia absoluta acumulada (sumatoria del número de veces que se repite el suceso, en este caso, la nota del examen).\n",
    "\n",
    "<img src='xxxxxxxxx.png'>\n",
    "\n",
    "El cálculo entre paréntesis de la tercera columna, es el resultado de sumar el Fi correspondiente y el siguiente fi. Por ejemplo, para la segunda fila nuestro primer Fi es 1 y nuestro siguiente fi es 2, para la tercera fila nuestro Fi es 3 (resultado de haber acumulado fi = 1 y fi = 2) y nuestro siguiente fi es 1. Realizando este procedimiento de manera sucesiva, llegamos al valor 20. Este es el resultado de acumular todas las frecuencias absolutas y ha de coincidir con el número total de observaciones."
   ]
  },
  {
   "cell_type": "markdown",
   "id": "20df28d5",
   "metadata": {},
   "source": [
    "# 4.4 Frecuencia relativa acumulada"
   ]
  },
  {
   "cell_type": "markdown",
   "id": "56873fa3",
   "metadata": {},
   "source": [
    "La frecuencia relativa acumulada es el resultado de ir sumando las frecuencias relativas de las observaciones o valores de una población o muestra. Esta se representa por las siglas Hi.\n",
    "\n",
    "Para calcular la frecuencia relativa acumulada, hay que calcular primero la frecuencia absoluta (fi) y la frecuencia relativa (hi) de los valores de la población o muestra.\n",
    "\n",
    "Para ello, los datos se ordenan de menor a mayor y se colocan en una tabla. Una vez hecho esto, la frecuencia relativa acumulada se obtiene de ir sumando las frecuencias relativas de una clase o grupo de la muestra con la anterior (primer grupo + segundo grupo, primer grupo + segundo grupo + tercer grupo y así sucesivamente hasta llegar a acumular del primer grupo al último)."
   ]
  },
  {
   "cell_type": "markdown",
   "id": "ffa4c617",
   "metadata": {},
   "source": [
    "Ejemplo de frecuencia relativa acumulada (Hi) para una variable discreta\n",
    "\n",
    "Supongamos que las notas de 20 alumnos del primer curso de economía son las siguientes:\n",
    "\n",
    "1,2,8,5,8,3,8,5,6,10,5,7,9,4,10,2,7,6,5,10.\n",
    "\n",
    "Por tanto tenemos:\n",
    "\n",
    "Xi  = Variable aleatoria estadística (nota del examen de primer curso de economía).\n",
    "\n",
    "N   = 20\n",
    "\n",
    "fi   = Frecuencia absoluta (número de veces que se repite el suceso, en este caso la nota del examen).\n",
    "\n",
    "hi  = Frecuencia relativa (proporción que representa el valor i-ésimo en la muestra).\n",
    "\n",
    "Hi = Frecuencia relativa acumulada (Sumatorio de la proporción que representa el valor i-ésimo en la muestra).\n",
    "\n",
    "<img src='xn.png'>\n",
    "\n",
    "El cálculo entre paréntesis de la tercera columna, es el resultado del Hi correspondiente. Por ejemplo, para la segunda fila nuestro primer Hi es 5% y nuestro siguiente hi es 10%. Entonces, para la tercera fila, nuestro Hi es 15% (resultado de haber acumulado hi = 5% y hi = 10%) y nuestro siguiente hi es 5%. Realizando este procedimiento de manera sucesiva, llegamos al 100%. Este es el resultado de acumular todas las frecuencias relativas y ha de coincidir con el número total de observaciones."
   ]
  },
  {
   "cell_type": "markdown",
   "id": "7c848b96",
   "metadata": {},
   "source": [
    "# Ejercicio práctico en python"
   ]
  },
  {
   "cell_type": "markdown",
   "id": "f081f1da",
   "metadata": {},
   "source": [
    "Generamos un conjunto de datos por menio de una lista"
   ]
  },
  {
   "cell_type": "code",
   "execution_count": 24,
   "id": "8d1ea26e",
   "metadata": {},
   "outputs": [
    {
     "name": "stdout",
     "output_type": "stream",
     "text": [
      "range(0, 35)\n"
     ]
    }
   ],
   "source": [
    "t = range(35)\n",
    "print(t)"
   ]
  },
  {
   "cell_type": "markdown",
   "id": "cf3ef6d0",
   "metadata": {},
   "source": [
    "Se crea una lista"
   ]
  },
  {
   "cell_type": "code",
   "execution_count": 25,
   "id": "dfa8d2b0",
   "metadata": {},
   "outputs": [
    {
     "name": "stdout",
     "output_type": "stream",
     "text": [
      "[0, 1, 2, 3, 4, 5, 6, 7, 8, 9, 10, 11, 12, 13, 14, 15, 16, 17, 18, 19, 20, 21, 22, 23, 24, 25, 26, 27, 28, 29, 30, 31, 32, 33, 34]\n"
     ]
    }
   ],
   "source": [
    "data = list(t)\n",
    "print(data)"
   ]
  },
  {
   "cell_type": "code",
   "execution_count": 26,
   "id": "46fee98d",
   "metadata": {},
   "outputs": [],
   "source": [
    "import random"
   ]
  },
  {
   "cell_type": "markdown",
   "id": "44238341",
   "metadata": {},
   "source": [
    "El for esta definido para que empiece desde 0 a 200 recordemos que nuestra lista esta definida con este tamaño entonces el for recorre cada posicion de la lista desde su posicion 0 datos[0] hasta la posicion 200 data[199].\n",
    "\n",
    "Cada vez que estemos en una posicion determinada data[i] la funcion random.randrange() coloca un valor aleatorio dentro de esta posicion de la lista.\n",
    "\n",
    "La función random.randrange() tiene tres parametros los cuales con el valor minimo(1) el valor (20) y los saltos (1) en nuestro caso la funcion genera numeros aleatorios de 1 a 19 con saltos de 1.\n",
    "\n",
    "Al final se imprime nuestra lista con todos los datos"
   ]
  },
  {
   "cell_type": "code",
   "execution_count": 27,
   "id": "8470a826",
   "metadata": {},
   "outputs": [
    {
     "name": "stdout",
     "output_type": "stream",
     "text": [
      "[23, 1, 2, 3, 4, 5, 6, 7, 8, 9, 10, 11, 12, 13, 14, 15, 16, 17, 18, 19, 20, 21, 22, 23, 24, 25, 26, 27, 28, 29, 30, 31, 32, 33, 34]\n",
      "[23, 22, 2, 3, 4, 5, 6, 7, 8, 9, 10, 11, 12, 13, 14, 15, 16, 17, 18, 19, 20, 21, 22, 23, 24, 25, 26, 27, 28, 29, 30, 31, 32, 33, 34]\n",
      "[23, 22, 16, 3, 4, 5, 6, 7, 8, 9, 10, 11, 12, 13, 14, 15, 16, 17, 18, 19, 20, 21, 22, 23, 24, 25, 26, 27, 28, 29, 30, 31, 32, 33, 34]\n",
      "[23, 22, 16, 1, 4, 5, 6, 7, 8, 9, 10, 11, 12, 13, 14, 15, 16, 17, 18, 19, 20, 21, 22, 23, 24, 25, 26, 27, 28, 29, 30, 31, 32, 33, 34]\n",
      "[23, 22, 16, 1, 21, 5, 6, 7, 8, 9, 10, 11, 12, 13, 14, 15, 16, 17, 18, 19, 20, 21, 22, 23, 24, 25, 26, 27, 28, 29, 30, 31, 32, 33, 34]\n",
      "[23, 22, 16, 1, 21, 24, 6, 7, 8, 9, 10, 11, 12, 13, 14, 15, 16, 17, 18, 19, 20, 21, 22, 23, 24, 25, 26, 27, 28, 29, 30, 31, 32, 33, 34]\n",
      "[23, 22, 16, 1, 21, 24, 16, 7, 8, 9, 10, 11, 12, 13, 14, 15, 16, 17, 18, 19, 20, 21, 22, 23, 24, 25, 26, 27, 28, 29, 30, 31, 32, 33, 34]\n",
      "[23, 22, 16, 1, 21, 24, 16, 30, 8, 9, 10, 11, 12, 13, 14, 15, 16, 17, 18, 19, 20, 21, 22, 23, 24, 25, 26, 27, 28, 29, 30, 31, 32, 33, 34]\n",
      "[23, 22, 16, 1, 21, 24, 16, 30, 24, 9, 10, 11, 12, 13, 14, 15, 16, 17, 18, 19, 20, 21, 22, 23, 24, 25, 26, 27, 28, 29, 30, 31, 32, 33, 34]\n",
      "[23, 22, 16, 1, 21, 24, 16, 30, 24, 33, 10, 11, 12, 13, 14, 15, 16, 17, 18, 19, 20, 21, 22, 23, 24, 25, 26, 27, 28, 29, 30, 31, 32, 33, 34]\n",
      "[23, 22, 16, 1, 21, 24, 16, 30, 24, 33, 8, 11, 12, 13, 14, 15, 16, 17, 18, 19, 20, 21, 22, 23, 24, 25, 26, 27, 28, 29, 30, 31, 32, 33, 34]\n",
      "[23, 22, 16, 1, 21, 24, 16, 30, 24, 33, 8, 30, 12, 13, 14, 15, 16, 17, 18, 19, 20, 21, 22, 23, 24, 25, 26, 27, 28, 29, 30, 31, 32, 33, 34]\n",
      "[23, 22, 16, 1, 21, 24, 16, 30, 24, 33, 8, 30, 11, 13, 14, 15, 16, 17, 18, 19, 20, 21, 22, 23, 24, 25, 26, 27, 28, 29, 30, 31, 32, 33, 34]\n",
      "[23, 22, 16, 1, 21, 24, 16, 30, 24, 33, 8, 30, 11, 25, 14, 15, 16, 17, 18, 19, 20, 21, 22, 23, 24, 25, 26, 27, 28, 29, 30, 31, 32, 33, 34]\n",
      "[23, 22, 16, 1, 21, 24, 16, 30, 24, 33, 8, 30, 11, 25, 18, 15, 16, 17, 18, 19, 20, 21, 22, 23, 24, 25, 26, 27, 28, 29, 30, 31, 32, 33, 34]\n",
      "[23, 22, 16, 1, 21, 24, 16, 30, 24, 33, 8, 30, 11, 25, 18, 6, 16, 17, 18, 19, 20, 21, 22, 23, 24, 25, 26, 27, 28, 29, 30, 31, 32, 33, 34]\n",
      "[23, 22, 16, 1, 21, 24, 16, 30, 24, 33, 8, 30, 11, 25, 18, 6, 11, 17, 18, 19, 20, 21, 22, 23, 24, 25, 26, 27, 28, 29, 30, 31, 32, 33, 34]\n",
      "[23, 22, 16, 1, 21, 24, 16, 30, 24, 33, 8, 30, 11, 25, 18, 6, 11, 27, 18, 19, 20, 21, 22, 23, 24, 25, 26, 27, 28, 29, 30, 31, 32, 33, 34]\n",
      "[23, 22, 16, 1, 21, 24, 16, 30, 24, 33, 8, 30, 11, 25, 18, 6, 11, 27, 27, 19, 20, 21, 22, 23, 24, 25, 26, 27, 28, 29, 30, 31, 32, 33, 34]\n",
      "[23, 22, 16, 1, 21, 24, 16, 30, 24, 33, 8, 30, 11, 25, 18, 6, 11, 27, 27, 34, 20, 21, 22, 23, 24, 25, 26, 27, 28, 29, 30, 31, 32, 33, 34]\n",
      "[23, 22, 16, 1, 21, 24, 16, 30, 24, 33, 8, 30, 11, 25, 18, 6, 11, 27, 27, 34, 1, 21, 22, 23, 24, 25, 26, 27, 28, 29, 30, 31, 32, 33, 34]\n",
      "[23, 22, 16, 1, 21, 24, 16, 30, 24, 33, 8, 30, 11, 25, 18, 6, 11, 27, 27, 34, 1, 12, 22, 23, 24, 25, 26, 27, 28, 29, 30, 31, 32, 33, 34]\n",
      "[23, 22, 16, 1, 21, 24, 16, 30, 24, 33, 8, 30, 11, 25, 18, 6, 11, 27, 27, 34, 1, 12, 23, 23, 24, 25, 26, 27, 28, 29, 30, 31, 32, 33, 34]\n",
      "[23, 22, 16, 1, 21, 24, 16, 30, 24, 33, 8, 30, 11, 25, 18, 6, 11, 27, 27, 34, 1, 12, 23, 30, 24, 25, 26, 27, 28, 29, 30, 31, 32, 33, 34]\n",
      "[23, 22, 16, 1, 21, 24, 16, 30, 24, 33, 8, 30, 11, 25, 18, 6, 11, 27, 27, 34, 1, 12, 23, 30, 21, 25, 26, 27, 28, 29, 30, 31, 32, 33, 34]\n",
      "[23, 22, 16, 1, 21, 24, 16, 30, 24, 33, 8, 30, 11, 25, 18, 6, 11, 27, 27, 34, 1, 12, 23, 30, 21, 34, 26, 27, 28, 29, 30, 31, 32, 33, 34]\n",
      "[23, 22, 16, 1, 21, 24, 16, 30, 24, 33, 8, 30, 11, 25, 18, 6, 11, 27, 27, 34, 1, 12, 23, 30, 21, 34, 34, 27, 28, 29, 30, 31, 32, 33, 34]\n",
      "[23, 22, 16, 1, 21, 24, 16, 30, 24, 33, 8, 30, 11, 25, 18, 6, 11, 27, 27, 34, 1, 12, 23, 30, 21, 34, 34, 33, 28, 29, 30, 31, 32, 33, 34]\n",
      "[23, 22, 16, 1, 21, 24, 16, 30, 24, 33, 8, 30, 11, 25, 18, 6, 11, 27, 27, 34, 1, 12, 23, 30, 21, 34, 34, 33, 22, 29, 30, 31, 32, 33, 34]\n",
      "[23, 22, 16, 1, 21, 24, 16, 30, 24, 33, 8, 30, 11, 25, 18, 6, 11, 27, 27, 34, 1, 12, 23, 30, 21, 34, 34, 33, 22, 16, 30, 31, 32, 33, 34]\n",
      "[23, 22, 16, 1, 21, 24, 16, 30, 24, 33, 8, 30, 11, 25, 18, 6, 11, 27, 27, 34, 1, 12, 23, 30, 21, 34, 34, 33, 22, 16, 6, 31, 32, 33, 34]\n",
      "[23, 22, 16, 1, 21, 24, 16, 30, 24, 33, 8, 30, 11, 25, 18, 6, 11, 27, 27, 34, 1, 12, 23, 30, 21, 34, 34, 33, 22, 16, 6, 11, 32, 33, 34]\n",
      "[23, 22, 16, 1, 21, 24, 16, 30, 24, 33, 8, 30, 11, 25, 18, 6, 11, 27, 27, 34, 1, 12, 23, 30, 21, 34, 34, 33, 22, 16, 6, 11, 13, 33, 34]\n",
      "[23, 22, 16, 1, 21, 24, 16, 30, 24, 33, 8, 30, 11, 25, 18, 6, 11, 27, 27, 34, 1, 12, 23, 30, 21, 34, 34, 33, 22, 16, 6, 11, 13, 2, 34]\n",
      "[23, 22, 16, 1, 21, 24, 16, 30, 24, 33, 8, 30, 11, 25, 18, 6, 11, 27, 27, 34, 1, 12, 23, 30, 21, 34, 34, 33, 22, 16, 6, 11, 13, 2, 15]\n"
     ]
    }
   ],
   "source": [
    "# generamos numeros aleatorios de distintas formas\n",
    "\n",
    "for i in range (0, 35):\n",
    "    data[i]=random.randrange(1,35,1)\n",
    "    print(data)"
   ]
  },
  {
   "cell_type": "markdown",
   "id": "0929d46a",
   "metadata": {},
   "source": [
    "Calculamos las frecuencias absolutas"
   ]
  },
  {
   "cell_type": "code",
   "execution_count": 28,
   "id": "67f68761",
   "metadata": {},
   "outputs": [],
   "source": [
    "    # creamos una lista de 1 a 20 porque son los numeros que genere anteriormente\n",
    "    \n",
    "    n=[1,2,3,4,5,6,7,8,9,10,11,12,13,14,15,16,17,18,19,20,21,22,23,24,25,26,27,28,29,30,31,32,33,34,35]"
   ]
  },
  {
   "cell_type": "code",
   "execution_count": 29,
   "id": "364f3f2d",
   "metadata": {},
   "outputs": [
    {
     "name": "stdout",
     "output_type": "stream",
     "text": [
      "[0, 1, 2, 3, 4, 5, 6, 7, 8, 9, 10, 11, 12, 13, 14, 15, 16, 17, 18, 19, 20, 21, 22, 23, 24, 25, 26, 27, 28, 29, 30, 31, 32, 33, 34]\n"
     ]
    }
   ],
   "source": [
    "#Generamos una nueva lista\n",
    "\n",
    "f=list(range(35))\n",
    "print(f)"
   ]
  },
  {
   "cell_type": "code",
   "execution_count": 30,
   "id": "aa444379",
   "metadata": {},
   "outputs": [
    {
     "name": "stdout",
     "output_type": "stream",
     "text": [
      "[1, 1, 2, 3, 4, 5, 6, 7, 8, 9, 10, 11, 12, 13, 14, 15, 16, 17, 18, 19, 20, 21, 22, 23, 24, 25, 26, 27, 28, 29, 30, 31, 32, 33, 34]\n",
      "[2, 1, 2, 3, 4, 5, 6, 7, 8, 9, 10, 11, 12, 13, 14, 15, 16, 17, 18, 19, 20, 21, 22, 23, 24, 25, 26, 27, 28, 29, 30, 31, 32, 33, 34]\n",
      "[2, 1, 2, 3, 4, 5, 6, 7, 8, 9, 10, 11, 12, 13, 14, 15, 16, 17, 18, 19, 20, 21, 22, 23, 24, 25, 26, 27, 28, 29, 30, 31, 32, 33, 34]\n",
      "[2, 1, 2, 3, 4, 1, 6, 7, 8, 9, 10, 11, 12, 13, 14, 15, 16, 17, 18, 19, 20, 21, 22, 23, 24, 25, 26, 27, 28, 29, 30, 31, 32, 33, 34]\n",
      "[2, 1, 2, 3, 4, 2, 6, 7, 8, 9, 10, 11, 12, 13, 14, 15, 16, 17, 18, 19, 20, 21, 22, 23, 24, 25, 26, 27, 28, 29, 30, 31, 32, 33, 34]\n",
      "[2, 1, 2, 3, 4, 2, 6, 1, 8, 9, 10, 11, 12, 13, 14, 15, 16, 17, 18, 19, 20, 21, 22, 23, 24, 25, 26, 27, 28, 29, 30, 31, 32, 33, 34]\n",
      "[2, 1, 2, 3, 4, 2, 6, 1, 8, 9, 1, 11, 12, 13, 14, 15, 16, 17, 18, 19, 20, 21, 22, 23, 24, 25, 26, 27, 28, 29, 30, 31, 32, 33, 34]\n",
      "[2, 1, 2, 3, 4, 2, 6, 1, 8, 9, 2, 11, 12, 13, 14, 15, 16, 17, 18, 19, 20, 21, 22, 23, 24, 25, 26, 27, 28, 29, 30, 31, 32, 33, 34]\n",
      "[2, 1, 2, 3, 4, 2, 6, 1, 8, 9, 3, 11, 12, 13, 14, 15, 16, 17, 18, 19, 20, 21, 22, 23, 24, 25, 26, 27, 28, 29, 30, 31, 32, 33, 34]\n",
      "[2, 1, 2, 3, 4, 2, 6, 1, 8, 9, 3, 1, 12, 13, 14, 15, 16, 17, 18, 19, 20, 21, 22, 23, 24, 25, 26, 27, 28, 29, 30, 31, 32, 33, 34]\n",
      "[2, 1, 2, 3, 4, 2, 6, 1, 8, 9, 3, 1, 1, 13, 14, 15, 16, 17, 18, 19, 20, 21, 22, 23, 24, 25, 26, 27, 28, 29, 30, 31, 32, 33, 34]\n",
      "[2, 1, 2, 3, 4, 2, 6, 1, 8, 9, 3, 1, 1, 13, 1, 15, 16, 17, 18, 19, 20, 21, 22, 23, 24, 25, 26, 27, 28, 29, 30, 31, 32, 33, 34]\n",
      "[2, 1, 2, 3, 4, 2, 6, 1, 8, 9, 3, 1, 1, 13, 1, 1, 16, 17, 18, 19, 20, 21, 22, 23, 24, 25, 26, 27, 28, 29, 30, 31, 32, 33, 34]\n",
      "[2, 1, 2, 3, 4, 2, 6, 1, 8, 9, 3, 1, 1, 13, 1, 2, 16, 17, 18, 19, 20, 21, 22, 23, 24, 25, 26, 27, 28, 29, 30, 31, 32, 33, 34]\n",
      "[2, 1, 2, 3, 4, 2, 6, 1, 8, 9, 3, 1, 1, 13, 1, 3, 16, 17, 18, 19, 20, 21, 22, 23, 24, 25, 26, 27, 28, 29, 30, 31, 32, 33, 34]\n",
      "[2, 1, 2, 3, 4, 2, 6, 1, 8, 9, 3, 1, 1, 13, 1, 3, 16, 1, 18, 19, 20, 21, 22, 23, 24, 25, 26, 27, 28, 29, 30, 31, 32, 33, 34]\n",
      "[2, 1, 2, 3, 4, 2, 6, 1, 8, 9, 3, 1, 1, 13, 1, 3, 16, 1, 18, 19, 1, 21, 22, 23, 24, 25, 26, 27, 28, 29, 30, 31, 32, 33, 34]\n",
      "[2, 1, 2, 3, 4, 2, 6, 1, 8, 9, 3, 1, 1, 13, 1, 3, 16, 1, 18, 19, 2, 21, 22, 23, 24, 25, 26, 27, 28, 29, 30, 31, 32, 33, 34]\n",
      "[2, 1, 2, 3, 4, 2, 6, 1, 8, 9, 3, 1, 1, 13, 1, 3, 16, 1, 18, 19, 2, 1, 22, 23, 24, 25, 26, 27, 28, 29, 30, 31, 32, 33, 34]\n",
      "[2, 1, 2, 3, 4, 2, 6, 1, 8, 9, 3, 1, 1, 13, 1, 3, 16, 1, 18, 19, 2, 2, 22, 23, 24, 25, 26, 27, 28, 29, 30, 31, 32, 33, 34]\n",
      "[2, 1, 2, 3, 4, 2, 6, 1, 8, 9, 3, 1, 1, 13, 1, 3, 16, 1, 18, 19, 2, 2, 1, 23, 24, 25, 26, 27, 28, 29, 30, 31, 32, 33, 34]\n",
      "[2, 1, 2, 3, 4, 2, 6, 1, 8, 9, 3, 1, 1, 13, 1, 3, 16, 1, 18, 19, 2, 2, 2, 23, 24, 25, 26, 27, 28, 29, 30, 31, 32, 33, 34]\n",
      "[2, 1, 2, 3, 4, 2, 6, 1, 8, 9, 3, 1, 1, 13, 1, 3, 16, 1, 18, 19, 2, 2, 2, 1, 24, 25, 26, 27, 28, 29, 30, 31, 32, 33, 34]\n",
      "[2, 1, 2, 3, 4, 2, 6, 1, 8, 9, 3, 1, 1, 13, 1, 3, 16, 1, 18, 19, 2, 2, 2, 2, 24, 25, 26, 27, 28, 29, 30, 31, 32, 33, 34]\n",
      "[2, 1, 2, 3, 4, 2, 6, 1, 8, 9, 3, 1, 1, 13, 1, 3, 16, 1, 18, 19, 2, 2, 2, 2, 1, 25, 26, 27, 28, 29, 30, 31, 32, 33, 34]\n",
      "[2, 1, 2, 3, 4, 2, 6, 1, 8, 9, 3, 1, 1, 13, 1, 3, 16, 1, 18, 19, 2, 2, 2, 2, 1, 25, 1, 27, 28, 29, 30, 31, 32, 33, 34]\n",
      "[2, 1, 2, 3, 4, 2, 6, 1, 8, 9, 3, 1, 1, 13, 1, 3, 16, 1, 18, 19, 2, 2, 2, 2, 1, 25, 2, 27, 28, 29, 30, 31, 32, 33, 34]\n",
      "[2, 1, 2, 3, 4, 2, 6, 1, 8, 9, 3, 1, 1, 13, 1, 3, 16, 1, 18, 19, 2, 2, 2, 2, 1, 25, 2, 27, 28, 1, 30, 31, 32, 33, 34]\n",
      "[2, 1, 2, 3, 4, 2, 6, 1, 8, 9, 3, 1, 1, 13, 1, 3, 16, 1, 18, 19, 2, 2, 2, 2, 1, 25, 2, 27, 28, 2, 30, 31, 32, 33, 34]\n",
      "[2, 1, 2, 3, 4, 2, 6, 1, 8, 9, 3, 1, 1, 13, 1, 3, 16, 1, 18, 19, 2, 2, 2, 2, 1, 25, 2, 27, 28, 3, 30, 31, 32, 33, 34]\n",
      "[2, 1, 2, 3, 4, 2, 6, 1, 8, 9, 3, 1, 1, 13, 1, 3, 16, 1, 18, 19, 2, 2, 2, 2, 1, 25, 2, 27, 28, 3, 30, 31, 1, 33, 34]\n",
      "[2, 1, 2, 3, 4, 2, 6, 1, 8, 9, 3, 1, 1, 13, 1, 3, 16, 1, 18, 19, 2, 2, 2, 2, 1, 25, 2, 27, 28, 3, 30, 31, 2, 33, 34]\n",
      "[2, 1, 2, 3, 4, 2, 6, 1, 8, 9, 3, 1, 1, 13, 1, 3, 16, 1, 18, 19, 2, 2, 2, 2, 1, 25, 2, 27, 28, 3, 30, 31, 2, 1, 34]\n",
      "[2, 1, 2, 3, 4, 2, 6, 1, 8, 9, 3, 1, 1, 13, 1, 3, 16, 1, 18, 19, 2, 2, 2, 2, 1, 25, 2, 27, 28, 3, 30, 31, 2, 2, 34]\n",
      "[2, 1, 2, 3, 4, 2, 6, 1, 8, 9, 3, 1, 1, 13, 1, 3, 16, 1, 18, 19, 2, 2, 2, 2, 1, 25, 2, 27, 28, 3, 30, 31, 2, 3, 34]\n"
     ]
    }
   ],
   "source": [
    "for i in range(0,35):\n",
    "    do=0\n",
    "    for j in range(0, int(len(data))):\n",
    "        if n[i] == data[j]:\n",
    "            do=do+1\n",
    "            f[i]=do\n",
    "            \n",
    "            print(f)"
   ]
  },
  {
   "cell_type": "markdown",
   "id": "6737d12b",
   "metadata": {},
   "source": [
    "Realizamos la frecuencia relativa"
   ]
  },
  {
   "cell_type": "code",
   "execution_count": 31,
   "id": "995a473e",
   "metadata": {},
   "outputs": [
    {
     "name": "stdout",
     "output_type": "stream",
     "text": [
      "[0.05714285714285714, 1, 2, 3, 4, 5, 6, 7, 8, 9, 10, 11, 12, 13, 14, 15, 16, 17, 18, 19, 20, 21, 22, 23, 24, 25, 26, 27, 28, 29, 30, 31, 32, 33, 34]\n",
      "[0.05714285714285714, 0.02857142857142857, 2, 3, 4, 5, 6, 7, 8, 9, 10, 11, 12, 13, 14, 15, 16, 17, 18, 19, 20, 21, 22, 23, 24, 25, 26, 27, 28, 29, 30, 31, 32, 33, 34]\n",
      "[0.05714285714285714, 0.02857142857142857, 0.05714285714285714, 3, 4, 5, 6, 7, 8, 9, 10, 11, 12, 13, 14, 15, 16, 17, 18, 19, 20, 21, 22, 23, 24, 25, 26, 27, 28, 29, 30, 31, 32, 33, 34]\n",
      "[0.05714285714285714, 0.02857142857142857, 0.05714285714285714, 0.08571428571428572, 4, 5, 6, 7, 8, 9, 10, 11, 12, 13, 14, 15, 16, 17, 18, 19, 20, 21, 22, 23, 24, 25, 26, 27, 28, 29, 30, 31, 32, 33, 34]\n",
      "[0.05714285714285714, 0.02857142857142857, 0.05714285714285714, 0.08571428571428572, 0.11428571428571428, 5, 6, 7, 8, 9, 10, 11, 12, 13, 14, 15, 16, 17, 18, 19, 20, 21, 22, 23, 24, 25, 26, 27, 28, 29, 30, 31, 32, 33, 34]\n",
      "[0.05714285714285714, 0.02857142857142857, 0.05714285714285714, 0.08571428571428572, 0.11428571428571428, 0.05714285714285714, 6, 7, 8, 9, 10, 11, 12, 13, 14, 15, 16, 17, 18, 19, 20, 21, 22, 23, 24, 25, 26, 27, 28, 29, 30, 31, 32, 33, 34]\n",
      "[0.05714285714285714, 0.02857142857142857, 0.05714285714285714, 0.08571428571428572, 0.11428571428571428, 0.05714285714285714, 0.17142857142857143, 7, 8, 9, 10, 11, 12, 13, 14, 15, 16, 17, 18, 19, 20, 21, 22, 23, 24, 25, 26, 27, 28, 29, 30, 31, 32, 33, 34]\n",
      "[0.05714285714285714, 0.02857142857142857, 0.05714285714285714, 0.08571428571428572, 0.11428571428571428, 0.05714285714285714, 0.17142857142857143, 0.02857142857142857, 8, 9, 10, 11, 12, 13, 14, 15, 16, 17, 18, 19, 20, 21, 22, 23, 24, 25, 26, 27, 28, 29, 30, 31, 32, 33, 34]\n",
      "[0.05714285714285714, 0.02857142857142857, 0.05714285714285714, 0.08571428571428572, 0.11428571428571428, 0.05714285714285714, 0.17142857142857143, 0.02857142857142857, 0.22857142857142856, 9, 10, 11, 12, 13, 14, 15, 16, 17, 18, 19, 20, 21, 22, 23, 24, 25, 26, 27, 28, 29, 30, 31, 32, 33, 34]\n",
      "[0.05714285714285714, 0.02857142857142857, 0.05714285714285714, 0.08571428571428572, 0.11428571428571428, 0.05714285714285714, 0.17142857142857143, 0.02857142857142857, 0.22857142857142856, 0.2571428571428571, 10, 11, 12, 13, 14, 15, 16, 17, 18, 19, 20, 21, 22, 23, 24, 25, 26, 27, 28, 29, 30, 31, 32, 33, 34]\n",
      "[0.05714285714285714, 0.02857142857142857, 0.05714285714285714, 0.08571428571428572, 0.11428571428571428, 0.05714285714285714, 0.17142857142857143, 0.02857142857142857, 0.22857142857142856, 0.2571428571428571, 0.08571428571428572, 11, 12, 13, 14, 15, 16, 17, 18, 19, 20, 21, 22, 23, 24, 25, 26, 27, 28, 29, 30, 31, 32, 33, 34]\n",
      "[0.05714285714285714, 0.02857142857142857, 0.05714285714285714, 0.08571428571428572, 0.11428571428571428, 0.05714285714285714, 0.17142857142857143, 0.02857142857142857, 0.22857142857142856, 0.2571428571428571, 0.08571428571428572, 0.02857142857142857, 12, 13, 14, 15, 16, 17, 18, 19, 20, 21, 22, 23, 24, 25, 26, 27, 28, 29, 30, 31, 32, 33, 34]\n",
      "[0.05714285714285714, 0.02857142857142857, 0.05714285714285714, 0.08571428571428572, 0.11428571428571428, 0.05714285714285714, 0.17142857142857143, 0.02857142857142857, 0.22857142857142856, 0.2571428571428571, 0.08571428571428572, 0.02857142857142857, 0.02857142857142857, 13, 14, 15, 16, 17, 18, 19, 20, 21, 22, 23, 24, 25, 26, 27, 28, 29, 30, 31, 32, 33, 34]\n",
      "[0.05714285714285714, 0.02857142857142857, 0.05714285714285714, 0.08571428571428572, 0.11428571428571428, 0.05714285714285714, 0.17142857142857143, 0.02857142857142857, 0.22857142857142856, 0.2571428571428571, 0.08571428571428572, 0.02857142857142857, 0.02857142857142857, 0.37142857142857144, 14, 15, 16, 17, 18, 19, 20, 21, 22, 23, 24, 25, 26, 27, 28, 29, 30, 31, 32, 33, 34]\n",
      "[0.05714285714285714, 0.02857142857142857, 0.05714285714285714, 0.08571428571428572, 0.11428571428571428, 0.05714285714285714, 0.17142857142857143, 0.02857142857142857, 0.22857142857142856, 0.2571428571428571, 0.08571428571428572, 0.02857142857142857, 0.02857142857142857, 0.37142857142857144, 0.02857142857142857, 15, 16, 17, 18, 19, 20, 21, 22, 23, 24, 25, 26, 27, 28, 29, 30, 31, 32, 33, 34]\n",
      "[0.05714285714285714, 0.02857142857142857, 0.05714285714285714, 0.08571428571428572, 0.11428571428571428, 0.05714285714285714, 0.17142857142857143, 0.02857142857142857, 0.22857142857142856, 0.2571428571428571, 0.08571428571428572, 0.02857142857142857, 0.02857142857142857, 0.37142857142857144, 0.02857142857142857, 0.08571428571428572, 16, 17, 18, 19, 20, 21, 22, 23, 24, 25, 26, 27, 28, 29, 30, 31, 32, 33, 34]\n",
      "[0.05714285714285714, 0.02857142857142857, 0.05714285714285714, 0.08571428571428572, 0.11428571428571428, 0.05714285714285714, 0.17142857142857143, 0.02857142857142857, 0.22857142857142856, 0.2571428571428571, 0.08571428571428572, 0.02857142857142857, 0.02857142857142857, 0.37142857142857144, 0.02857142857142857, 0.08571428571428572, 0.45714285714285713, 17, 18, 19, 20, 21, 22, 23, 24, 25, 26, 27, 28, 29, 30, 31, 32, 33, 34]\n",
      "[0.05714285714285714, 0.02857142857142857, 0.05714285714285714, 0.08571428571428572, 0.11428571428571428, 0.05714285714285714, 0.17142857142857143, 0.02857142857142857, 0.22857142857142856, 0.2571428571428571, 0.08571428571428572, 0.02857142857142857, 0.02857142857142857, 0.37142857142857144, 0.02857142857142857, 0.08571428571428572, 0.45714285714285713, 0.02857142857142857, 18, 19, 20, 21, 22, 23, 24, 25, 26, 27, 28, 29, 30, 31, 32, 33, 34]\n",
      "[0.05714285714285714, 0.02857142857142857, 0.05714285714285714, 0.08571428571428572, 0.11428571428571428, 0.05714285714285714, 0.17142857142857143, 0.02857142857142857, 0.22857142857142856, 0.2571428571428571, 0.08571428571428572, 0.02857142857142857, 0.02857142857142857, 0.37142857142857144, 0.02857142857142857, 0.08571428571428572, 0.45714285714285713, 0.02857142857142857, 0.5142857142857142, 19, 20, 21, 22, 23, 24, 25, 26, 27, 28, 29, 30, 31, 32, 33, 34]\n",
      "[0.05714285714285714, 0.02857142857142857, 0.05714285714285714, 0.08571428571428572, 0.11428571428571428, 0.05714285714285714, 0.17142857142857143, 0.02857142857142857, 0.22857142857142856, 0.2571428571428571, 0.08571428571428572, 0.02857142857142857, 0.02857142857142857, 0.37142857142857144, 0.02857142857142857, 0.08571428571428572, 0.45714285714285713, 0.02857142857142857, 0.5142857142857142, 0.5428571428571428, 20, 21, 22, 23, 24, 25, 26, 27, 28, 29, 30, 31, 32, 33, 34]\n",
      "[0.05714285714285714, 0.02857142857142857, 0.05714285714285714, 0.08571428571428572, 0.11428571428571428, 0.05714285714285714, 0.17142857142857143, 0.02857142857142857, 0.22857142857142856, 0.2571428571428571, 0.08571428571428572, 0.02857142857142857, 0.02857142857142857, 0.37142857142857144, 0.02857142857142857, 0.08571428571428572, 0.45714285714285713, 0.02857142857142857, 0.5142857142857142, 0.5428571428571428, 0.05714285714285714, 21, 22, 23, 24, 25, 26, 27, 28, 29, 30, 31, 32, 33, 34]\n",
      "[0.05714285714285714, 0.02857142857142857, 0.05714285714285714, 0.08571428571428572, 0.11428571428571428, 0.05714285714285714, 0.17142857142857143, 0.02857142857142857, 0.22857142857142856, 0.2571428571428571, 0.08571428571428572, 0.02857142857142857, 0.02857142857142857, 0.37142857142857144, 0.02857142857142857, 0.08571428571428572, 0.45714285714285713, 0.02857142857142857, 0.5142857142857142, 0.5428571428571428, 0.05714285714285714, 0.05714285714285714, 22, 23, 24, 25, 26, 27, 28, 29, 30, 31, 32, 33, 34]\n",
      "[0.05714285714285714, 0.02857142857142857, 0.05714285714285714, 0.08571428571428572, 0.11428571428571428, 0.05714285714285714, 0.17142857142857143, 0.02857142857142857, 0.22857142857142856, 0.2571428571428571, 0.08571428571428572, 0.02857142857142857, 0.02857142857142857, 0.37142857142857144, 0.02857142857142857, 0.08571428571428572, 0.45714285714285713, 0.02857142857142857, 0.5142857142857142, 0.5428571428571428, 0.05714285714285714, 0.05714285714285714, 0.05714285714285714, 23, 24, 25, 26, 27, 28, 29, 30, 31, 32, 33, 34]\n",
      "[0.05714285714285714, 0.02857142857142857, 0.05714285714285714, 0.08571428571428572, 0.11428571428571428, 0.05714285714285714, 0.17142857142857143, 0.02857142857142857, 0.22857142857142856, 0.2571428571428571, 0.08571428571428572, 0.02857142857142857, 0.02857142857142857, 0.37142857142857144, 0.02857142857142857, 0.08571428571428572, 0.45714285714285713, 0.02857142857142857, 0.5142857142857142, 0.5428571428571428, 0.05714285714285714, 0.05714285714285714, 0.05714285714285714, 0.05714285714285714, 24, 25, 26, 27, 28, 29, 30, 31, 32, 33, 34]\n",
      "[0.05714285714285714, 0.02857142857142857, 0.05714285714285714, 0.08571428571428572, 0.11428571428571428, 0.05714285714285714, 0.17142857142857143, 0.02857142857142857, 0.22857142857142856, 0.2571428571428571, 0.08571428571428572, 0.02857142857142857, 0.02857142857142857, 0.37142857142857144, 0.02857142857142857, 0.08571428571428572, 0.45714285714285713, 0.02857142857142857, 0.5142857142857142, 0.5428571428571428, 0.05714285714285714, 0.05714285714285714, 0.05714285714285714, 0.05714285714285714, 0.02857142857142857, 25, 26, 27, 28, 29, 30, 31, 32, 33, 34]\n",
      "[0.05714285714285714, 0.02857142857142857, 0.05714285714285714, 0.08571428571428572, 0.11428571428571428, 0.05714285714285714, 0.17142857142857143, 0.02857142857142857, 0.22857142857142856, 0.2571428571428571, 0.08571428571428572, 0.02857142857142857, 0.02857142857142857, 0.37142857142857144, 0.02857142857142857, 0.08571428571428572, 0.45714285714285713, 0.02857142857142857, 0.5142857142857142, 0.5428571428571428, 0.05714285714285714, 0.05714285714285714, 0.05714285714285714, 0.05714285714285714, 0.02857142857142857, 0.7142857142857143, 26, 27, 28, 29, 30, 31, 32, 33, 34]\n",
      "[0.05714285714285714, 0.02857142857142857, 0.05714285714285714, 0.08571428571428572, 0.11428571428571428, 0.05714285714285714, 0.17142857142857143, 0.02857142857142857, 0.22857142857142856, 0.2571428571428571, 0.08571428571428572, 0.02857142857142857, 0.02857142857142857, 0.37142857142857144, 0.02857142857142857, 0.08571428571428572, 0.45714285714285713, 0.02857142857142857, 0.5142857142857142, 0.5428571428571428, 0.05714285714285714, 0.05714285714285714, 0.05714285714285714, 0.05714285714285714, 0.02857142857142857, 0.7142857142857143, 0.05714285714285714, 27, 28, 29, 30, 31, 32, 33, 34]\n",
      "[0.05714285714285714, 0.02857142857142857, 0.05714285714285714, 0.08571428571428572, 0.11428571428571428, 0.05714285714285714, 0.17142857142857143, 0.02857142857142857, 0.22857142857142856, 0.2571428571428571, 0.08571428571428572, 0.02857142857142857, 0.02857142857142857, 0.37142857142857144, 0.02857142857142857, 0.08571428571428572, 0.45714285714285713, 0.02857142857142857, 0.5142857142857142, 0.5428571428571428, 0.05714285714285714, 0.05714285714285714, 0.05714285714285714, 0.05714285714285714, 0.02857142857142857, 0.7142857142857143, 0.05714285714285714, 0.7714285714285715, 28, 29, 30, 31, 32, 33, 34]\n",
      "[0.05714285714285714, 0.02857142857142857, 0.05714285714285714, 0.08571428571428572, 0.11428571428571428, 0.05714285714285714, 0.17142857142857143, 0.02857142857142857, 0.22857142857142856, 0.2571428571428571, 0.08571428571428572, 0.02857142857142857, 0.02857142857142857, 0.37142857142857144, 0.02857142857142857, 0.08571428571428572, 0.45714285714285713, 0.02857142857142857, 0.5142857142857142, 0.5428571428571428, 0.05714285714285714, 0.05714285714285714, 0.05714285714285714, 0.05714285714285714, 0.02857142857142857, 0.7142857142857143, 0.05714285714285714, 0.7714285714285715, 0.8, 29, 30, 31, 32, 33, 34]\n",
      "[0.05714285714285714, 0.02857142857142857, 0.05714285714285714, 0.08571428571428572, 0.11428571428571428, 0.05714285714285714, 0.17142857142857143, 0.02857142857142857, 0.22857142857142856, 0.2571428571428571, 0.08571428571428572, 0.02857142857142857, 0.02857142857142857, 0.37142857142857144, 0.02857142857142857, 0.08571428571428572, 0.45714285714285713, 0.02857142857142857, 0.5142857142857142, 0.5428571428571428, 0.05714285714285714, 0.05714285714285714, 0.05714285714285714, 0.05714285714285714, 0.02857142857142857, 0.7142857142857143, 0.05714285714285714, 0.7714285714285715, 0.8, 0.08571428571428572, 30, 31, 32, 33, 34]\n",
      "[0.05714285714285714, 0.02857142857142857, 0.05714285714285714, 0.08571428571428572, 0.11428571428571428, 0.05714285714285714, 0.17142857142857143, 0.02857142857142857, 0.22857142857142856, 0.2571428571428571, 0.08571428571428572, 0.02857142857142857, 0.02857142857142857, 0.37142857142857144, 0.02857142857142857, 0.08571428571428572, 0.45714285714285713, 0.02857142857142857, 0.5142857142857142, 0.5428571428571428, 0.05714285714285714, 0.05714285714285714, 0.05714285714285714, 0.05714285714285714, 0.02857142857142857, 0.7142857142857143, 0.05714285714285714, 0.7714285714285715, 0.8, 0.08571428571428572, 0.8571428571428571, 31, 32, 33, 34]\n",
      "[0.05714285714285714, 0.02857142857142857, 0.05714285714285714, 0.08571428571428572, 0.11428571428571428, 0.05714285714285714, 0.17142857142857143, 0.02857142857142857, 0.22857142857142856, 0.2571428571428571, 0.08571428571428572, 0.02857142857142857, 0.02857142857142857, 0.37142857142857144, 0.02857142857142857, 0.08571428571428572, 0.45714285714285713, 0.02857142857142857, 0.5142857142857142, 0.5428571428571428, 0.05714285714285714, 0.05714285714285714, 0.05714285714285714, 0.05714285714285714, 0.02857142857142857, 0.7142857142857143, 0.05714285714285714, 0.7714285714285715, 0.8, 0.08571428571428572, 0.8571428571428571, 0.8857142857142857, 32, 33, 34]\n",
      "[0.05714285714285714, 0.02857142857142857, 0.05714285714285714, 0.08571428571428572, 0.11428571428571428, 0.05714285714285714, 0.17142857142857143, 0.02857142857142857, 0.22857142857142856, 0.2571428571428571, 0.08571428571428572, 0.02857142857142857, 0.02857142857142857, 0.37142857142857144, 0.02857142857142857, 0.08571428571428572, 0.45714285714285713, 0.02857142857142857, 0.5142857142857142, 0.5428571428571428, 0.05714285714285714, 0.05714285714285714, 0.05714285714285714, 0.05714285714285714, 0.02857142857142857, 0.7142857142857143, 0.05714285714285714, 0.7714285714285715, 0.8, 0.08571428571428572, 0.8571428571428571, 0.8857142857142857, 0.05714285714285714, 33, 34]\n",
      "[0.05714285714285714, 0.02857142857142857, 0.05714285714285714, 0.08571428571428572, 0.11428571428571428, 0.05714285714285714, 0.17142857142857143, 0.02857142857142857, 0.22857142857142856, 0.2571428571428571, 0.08571428571428572, 0.02857142857142857, 0.02857142857142857, 0.37142857142857144, 0.02857142857142857, 0.08571428571428572, 0.45714285714285713, 0.02857142857142857, 0.5142857142857142, 0.5428571428571428, 0.05714285714285714, 0.05714285714285714, 0.05714285714285714, 0.05714285714285714, 0.02857142857142857, 0.7142857142857143, 0.05714285714285714, 0.7714285714285715, 0.8, 0.08571428571428572, 0.8571428571428571, 0.8857142857142857, 0.05714285714285714, 0.08571428571428572, 34]\n",
      "[0.05714285714285714, 0.02857142857142857, 0.05714285714285714, 0.08571428571428572, 0.11428571428571428, 0.05714285714285714, 0.17142857142857143, 0.02857142857142857, 0.22857142857142856, 0.2571428571428571, 0.08571428571428572, 0.02857142857142857, 0.02857142857142857, 0.37142857142857144, 0.02857142857142857, 0.08571428571428572, 0.45714285714285713, 0.02857142857142857, 0.5142857142857142, 0.5428571428571428, 0.05714285714285714, 0.05714285714285714, 0.05714285714285714, 0.05714285714285714, 0.02857142857142857, 0.7142857142857143, 0.05714285714285714, 0.7714285714285715, 0.8, 0.08571428571428572, 0.8571428571428571, 0.8857142857142857, 0.05714285714285714, 0.08571428571428572, 0.9714285714285714]\n"
     ]
    }
   ],
   "source": [
    "fre = list(range(35))\n",
    "for i in range(0,35):\n",
    "    fre[i]=f[i]/35\n",
    "        \n",
    "    print(fre)\n",
    "    #print(sum(fre))"
   ]
  },
  {
   "cell_type": "markdown",
   "id": "b46f11f2",
   "metadata": {},
   "source": [
    "Realizamos la frecuencia acumulada absoluta"
   ]
  },
  {
   "cell_type": "code",
   "execution_count": 32,
   "id": "db7bd6c6",
   "metadata": {},
   "outputs": [
    {
     "name": "stdout",
     "output_type": "stream",
     "text": [
      "[2, 1, 2, 3, 4, 5, 6, 7, 8, 9, 10, 11, 12, 13, 14, 15, 16, 17, 18, 19, 20, 21, 22, 23, 24, 25, 26, 27, 28, 29, 30, 31, 32, 33, 34]\n",
      "[2, 3, 2, 3, 4, 5, 6, 7, 8, 9, 10, 11, 12, 13, 14, 15, 16, 17, 18, 19, 20, 21, 22, 23, 24, 25, 26, 27, 28, 29, 30, 31, 32, 33, 34]\n",
      "[2, 3, 5, 3, 4, 5, 6, 7, 8, 9, 10, 11, 12, 13, 14, 15, 16, 17, 18, 19, 20, 21, 22, 23, 24, 25, 26, 27, 28, 29, 30, 31, 32, 33, 34]\n",
      "[2, 3, 5, 8, 4, 5, 6, 7, 8, 9, 10, 11, 12, 13, 14, 15, 16, 17, 18, 19, 20, 21, 22, 23, 24, 25, 26, 27, 28, 29, 30, 31, 32, 33, 34]\n",
      "[2, 3, 5, 8, 12, 5, 6, 7, 8, 9, 10, 11, 12, 13, 14, 15, 16, 17, 18, 19, 20, 21, 22, 23, 24, 25, 26, 27, 28, 29, 30, 31, 32, 33, 34]\n",
      "[2, 3, 5, 8, 12, 14, 6, 7, 8, 9, 10, 11, 12, 13, 14, 15, 16, 17, 18, 19, 20, 21, 22, 23, 24, 25, 26, 27, 28, 29, 30, 31, 32, 33, 34]\n",
      "[2, 3, 5, 8, 12, 14, 20, 7, 8, 9, 10, 11, 12, 13, 14, 15, 16, 17, 18, 19, 20, 21, 22, 23, 24, 25, 26, 27, 28, 29, 30, 31, 32, 33, 34]\n",
      "[2, 3, 5, 8, 12, 14, 20, 21, 8, 9, 10, 11, 12, 13, 14, 15, 16, 17, 18, 19, 20, 21, 22, 23, 24, 25, 26, 27, 28, 29, 30, 31, 32, 33, 34]\n",
      "[2, 3, 5, 8, 12, 14, 20, 21, 29, 9, 10, 11, 12, 13, 14, 15, 16, 17, 18, 19, 20, 21, 22, 23, 24, 25, 26, 27, 28, 29, 30, 31, 32, 33, 34]\n",
      "[2, 3, 5, 8, 12, 14, 20, 21, 29, 38, 10, 11, 12, 13, 14, 15, 16, 17, 18, 19, 20, 21, 22, 23, 24, 25, 26, 27, 28, 29, 30, 31, 32, 33, 34]\n",
      "[2, 3, 5, 8, 12, 14, 20, 21, 29, 38, 41, 11, 12, 13, 14, 15, 16, 17, 18, 19, 20, 21, 22, 23, 24, 25, 26, 27, 28, 29, 30, 31, 32, 33, 34]\n",
      "[2, 3, 5, 8, 12, 14, 20, 21, 29, 38, 41, 42, 12, 13, 14, 15, 16, 17, 18, 19, 20, 21, 22, 23, 24, 25, 26, 27, 28, 29, 30, 31, 32, 33, 34]\n",
      "[2, 3, 5, 8, 12, 14, 20, 21, 29, 38, 41, 42, 43, 13, 14, 15, 16, 17, 18, 19, 20, 21, 22, 23, 24, 25, 26, 27, 28, 29, 30, 31, 32, 33, 34]\n",
      "[2, 3, 5, 8, 12, 14, 20, 21, 29, 38, 41, 42, 43, 56, 14, 15, 16, 17, 18, 19, 20, 21, 22, 23, 24, 25, 26, 27, 28, 29, 30, 31, 32, 33, 34]\n",
      "[2, 3, 5, 8, 12, 14, 20, 21, 29, 38, 41, 42, 43, 56, 57, 15, 16, 17, 18, 19, 20, 21, 22, 23, 24, 25, 26, 27, 28, 29, 30, 31, 32, 33, 34]\n",
      "[2, 3, 5, 8, 12, 14, 20, 21, 29, 38, 41, 42, 43, 56, 57, 60, 16, 17, 18, 19, 20, 21, 22, 23, 24, 25, 26, 27, 28, 29, 30, 31, 32, 33, 34]\n",
      "[2, 3, 5, 8, 12, 14, 20, 21, 29, 38, 41, 42, 43, 56, 57, 60, 76, 17, 18, 19, 20, 21, 22, 23, 24, 25, 26, 27, 28, 29, 30, 31, 32, 33, 34]\n",
      "[2, 3, 5, 8, 12, 14, 20, 21, 29, 38, 41, 42, 43, 56, 57, 60, 76, 77, 18, 19, 20, 21, 22, 23, 24, 25, 26, 27, 28, 29, 30, 31, 32, 33, 34]\n",
      "[2, 3, 5, 8, 12, 14, 20, 21, 29, 38, 41, 42, 43, 56, 57, 60, 76, 77, 95, 19, 20, 21, 22, 23, 24, 25, 26, 27, 28, 29, 30, 31, 32, 33, 34]\n",
      "[2, 3, 5, 8, 12, 14, 20, 21, 29, 38, 41, 42, 43, 56, 57, 60, 76, 77, 95, 114, 20, 21, 22, 23, 24, 25, 26, 27, 28, 29, 30, 31, 32, 33, 34]\n",
      "[2, 3, 5, 8, 12, 14, 20, 21, 29, 38, 41, 42, 43, 56, 57, 60, 76, 77, 95, 114, 116, 21, 22, 23, 24, 25, 26, 27, 28, 29, 30, 31, 32, 33, 34]\n",
      "[2, 3, 5, 8, 12, 14, 20, 21, 29, 38, 41, 42, 43, 56, 57, 60, 76, 77, 95, 114, 116, 118, 22, 23, 24, 25, 26, 27, 28, 29, 30, 31, 32, 33, 34]\n",
      "[2, 3, 5, 8, 12, 14, 20, 21, 29, 38, 41, 42, 43, 56, 57, 60, 76, 77, 95, 114, 116, 118, 120, 23, 24, 25, 26, 27, 28, 29, 30, 31, 32, 33, 34]\n",
      "[2, 3, 5, 8, 12, 14, 20, 21, 29, 38, 41, 42, 43, 56, 57, 60, 76, 77, 95, 114, 116, 118, 120, 122, 24, 25, 26, 27, 28, 29, 30, 31, 32, 33, 34]\n",
      "[2, 3, 5, 8, 12, 14, 20, 21, 29, 38, 41, 42, 43, 56, 57, 60, 76, 77, 95, 114, 116, 118, 120, 122, 123, 25, 26, 27, 28, 29, 30, 31, 32, 33, 34]\n",
      "[2, 3, 5, 8, 12, 14, 20, 21, 29, 38, 41, 42, 43, 56, 57, 60, 76, 77, 95, 114, 116, 118, 120, 122, 123, 148, 26, 27, 28, 29, 30, 31, 32, 33, 34]\n",
      "[2, 3, 5, 8, 12, 14, 20, 21, 29, 38, 41, 42, 43, 56, 57, 60, 76, 77, 95, 114, 116, 118, 120, 122, 123, 148, 150, 27, 28, 29, 30, 31, 32, 33, 34]\n",
      "[2, 3, 5, 8, 12, 14, 20, 21, 29, 38, 41, 42, 43, 56, 57, 60, 76, 77, 95, 114, 116, 118, 120, 122, 123, 148, 150, 177, 28, 29, 30, 31, 32, 33, 34]\n",
      "[2, 3, 5, 8, 12, 14, 20, 21, 29, 38, 41, 42, 43, 56, 57, 60, 76, 77, 95, 114, 116, 118, 120, 122, 123, 148, 150, 177, 205, 29, 30, 31, 32, 33, 34]\n",
      "[2, 3, 5, 8, 12, 14, 20, 21, 29, 38, 41, 42, 43, 56, 57, 60, 76, 77, 95, 114, 116, 118, 120, 122, 123, 148, 150, 177, 205, 208, 30, 31, 32, 33, 34]\n",
      "[2, 3, 5, 8, 12, 14, 20, 21, 29, 38, 41, 42, 43, 56, 57, 60, 76, 77, 95, 114, 116, 118, 120, 122, 123, 148, 150, 177, 205, 208, 238, 31, 32, 33, 34]\n",
      "[2, 3, 5, 8, 12, 14, 20, 21, 29, 38, 41, 42, 43, 56, 57, 60, 76, 77, 95, 114, 116, 118, 120, 122, 123, 148, 150, 177, 205, 208, 238, 269, 32, 33, 34]\n",
      "[2, 3, 5, 8, 12, 14, 20, 21, 29, 38, 41, 42, 43, 56, 57, 60, 76, 77, 95, 114, 116, 118, 120, 122, 123, 148, 150, 177, 205, 208, 238, 269, 271, 33, 34]\n",
      "[2, 3, 5, 8, 12, 14, 20, 21, 29, 38, 41, 42, 43, 56, 57, 60, 76, 77, 95, 114, 116, 118, 120, 122, 123, 148, 150, 177, 205, 208, 238, 269, 271, 274, 34]\n",
      "[2, 3, 5, 8, 12, 14, 20, 21, 29, 38, 41, 42, 43, 56, 57, 60, 76, 77, 95, 114, 116, 118, 120, 122, 123, 148, 150, 177, 205, 208, 238, 269, 271, 274, 308]\n"
     ]
    }
   ],
   "source": [
    "faba = list(range(35))\n",
    "\n",
    "d=0\n",
    "for i in range(0,35):\n",
    "    d=d+f[i]\n",
    "    faba[i]=d\n",
    "    \n",
    "    print (faba)"
   ]
  },
  {
   "cell_type": "markdown",
   "id": "e13546fd",
   "metadata": {},
   "source": [
    "Frecuencia acumulada relativa"
   ]
  },
  {
   "cell_type": "code",
   "execution_count": 33,
   "id": "092d6764",
   "metadata": {},
   "outputs": [
    {
     "name": "stdout",
     "output_type": "stream",
     "text": [
      "[0.05714285714285714, 1, 2, 3, 4, 5, 6, 7, 8, 9, 10, 11, 12, 13, 14, 15, 16, 17, 18, 19, 20, 21, 22, 23, 24, 25, 26, 27, 28, 29, 30, 31, 32, 33, 34]\n",
      "[0.05714285714285714, 0.08571428571428572, 2, 3, 4, 5, 6, 7, 8, 9, 10, 11, 12, 13, 14, 15, 16, 17, 18, 19, 20, 21, 22, 23, 24, 25, 26, 27, 28, 29, 30, 31, 32, 33, 34]\n",
      "[0.05714285714285714, 0.08571428571428572, 0.14285714285714285, 3, 4, 5, 6, 7, 8, 9, 10, 11, 12, 13, 14, 15, 16, 17, 18, 19, 20, 21, 22, 23, 24, 25, 26, 27, 28, 29, 30, 31, 32, 33, 34]\n",
      "[0.05714285714285714, 0.08571428571428572, 0.14285714285714285, 0.22857142857142856, 4, 5, 6, 7, 8, 9, 10, 11, 12, 13, 14, 15, 16, 17, 18, 19, 20, 21, 22, 23, 24, 25, 26, 27, 28, 29, 30, 31, 32, 33, 34]\n",
      "[0.05714285714285714, 0.08571428571428572, 0.14285714285714285, 0.22857142857142856, 0.34285714285714286, 5, 6, 7, 8, 9, 10, 11, 12, 13, 14, 15, 16, 17, 18, 19, 20, 21, 22, 23, 24, 25, 26, 27, 28, 29, 30, 31, 32, 33, 34]\n",
      "[0.05714285714285714, 0.08571428571428572, 0.14285714285714285, 0.22857142857142856, 0.34285714285714286, 0.4, 6, 7, 8, 9, 10, 11, 12, 13, 14, 15, 16, 17, 18, 19, 20, 21, 22, 23, 24, 25, 26, 27, 28, 29, 30, 31, 32, 33, 34]\n",
      "[0.05714285714285714, 0.08571428571428572, 0.14285714285714285, 0.22857142857142856, 0.34285714285714286, 0.4, 0.5714285714285714, 7, 8, 9, 10, 11, 12, 13, 14, 15, 16, 17, 18, 19, 20, 21, 22, 23, 24, 25, 26, 27, 28, 29, 30, 31, 32, 33, 34]\n",
      "[0.05714285714285714, 0.08571428571428572, 0.14285714285714285, 0.22857142857142856, 0.34285714285714286, 0.4, 0.5714285714285714, 0.6, 8, 9, 10, 11, 12, 13, 14, 15, 16, 17, 18, 19, 20, 21, 22, 23, 24, 25, 26, 27, 28, 29, 30, 31, 32, 33, 34]\n",
      "[0.05714285714285714, 0.08571428571428572, 0.14285714285714285, 0.22857142857142856, 0.34285714285714286, 0.4, 0.5714285714285714, 0.6, 0.8285714285714285, 9, 10, 11, 12, 13, 14, 15, 16, 17, 18, 19, 20, 21, 22, 23, 24, 25, 26, 27, 28, 29, 30, 31, 32, 33, 34]\n",
      "[0.05714285714285714, 0.08571428571428572, 0.14285714285714285, 0.22857142857142856, 0.34285714285714286, 0.4, 0.5714285714285714, 0.6, 0.8285714285714285, 1.0857142857142856, 10, 11, 12, 13, 14, 15, 16, 17, 18, 19, 20, 21, 22, 23, 24, 25, 26, 27, 28, 29, 30, 31, 32, 33, 34]\n",
      "[0.05714285714285714, 0.08571428571428572, 0.14285714285714285, 0.22857142857142856, 0.34285714285714286, 0.4, 0.5714285714285714, 0.6, 0.8285714285714285, 1.0857142857142856, 1.1714285714285713, 11, 12, 13, 14, 15, 16, 17, 18, 19, 20, 21, 22, 23, 24, 25, 26, 27, 28, 29, 30, 31, 32, 33, 34]\n",
      "[0.05714285714285714, 0.08571428571428572, 0.14285714285714285, 0.22857142857142856, 0.34285714285714286, 0.4, 0.5714285714285714, 0.6, 0.8285714285714285, 1.0857142857142856, 1.1714285714285713, 1.1999999999999997, 12, 13, 14, 15, 16, 17, 18, 19, 20, 21, 22, 23, 24, 25, 26, 27, 28, 29, 30, 31, 32, 33, 34]\n",
      "[0.05714285714285714, 0.08571428571428572, 0.14285714285714285, 0.22857142857142856, 0.34285714285714286, 0.4, 0.5714285714285714, 0.6, 0.8285714285714285, 1.0857142857142856, 1.1714285714285713, 1.1999999999999997, 1.2285714285714282, 13, 14, 15, 16, 17, 18, 19, 20, 21, 22, 23, 24, 25, 26, 27, 28, 29, 30, 31, 32, 33, 34]\n",
      "[0.05714285714285714, 0.08571428571428572, 0.14285714285714285, 0.22857142857142856, 0.34285714285714286, 0.4, 0.5714285714285714, 0.6, 0.8285714285714285, 1.0857142857142856, 1.1714285714285713, 1.1999999999999997, 1.2285714285714282, 1.5999999999999996, 14, 15, 16, 17, 18, 19, 20, 21, 22, 23, 24, 25, 26, 27, 28, 29, 30, 31, 32, 33, 34]\n",
      "[0.05714285714285714, 0.08571428571428572, 0.14285714285714285, 0.22857142857142856, 0.34285714285714286, 0.4, 0.5714285714285714, 0.6, 0.8285714285714285, 1.0857142857142856, 1.1714285714285713, 1.1999999999999997, 1.2285714285714282, 1.5999999999999996, 1.6285714285714281, 15, 16, 17, 18, 19, 20, 21, 22, 23, 24, 25, 26, 27, 28, 29, 30, 31, 32, 33, 34]\n",
      "[0.05714285714285714, 0.08571428571428572, 0.14285714285714285, 0.22857142857142856, 0.34285714285714286, 0.4, 0.5714285714285714, 0.6, 0.8285714285714285, 1.0857142857142856, 1.1714285714285713, 1.1999999999999997, 1.2285714285714282, 1.5999999999999996, 1.6285714285714281, 1.7142857142857137, 16, 17, 18, 19, 20, 21, 22, 23, 24, 25, 26, 27, 28, 29, 30, 31, 32, 33, 34]\n",
      "[0.05714285714285714, 0.08571428571428572, 0.14285714285714285, 0.22857142857142856, 0.34285714285714286, 0.4, 0.5714285714285714, 0.6, 0.8285714285714285, 1.0857142857142856, 1.1714285714285713, 1.1999999999999997, 1.2285714285714282, 1.5999999999999996, 1.6285714285714281, 1.7142857142857137, 2.171428571428571, 17, 18, 19, 20, 21, 22, 23, 24, 25, 26, 27, 28, 29, 30, 31, 32, 33, 34]\n",
      "[0.05714285714285714, 0.08571428571428572, 0.14285714285714285, 0.22857142857142856, 0.34285714285714286, 0.4, 0.5714285714285714, 0.6, 0.8285714285714285, 1.0857142857142856, 1.1714285714285713, 1.1999999999999997, 1.2285714285714282, 1.5999999999999996, 1.6285714285714281, 1.7142857142857137, 2.171428571428571, 2.1999999999999993, 18, 19, 20, 21, 22, 23, 24, 25, 26, 27, 28, 29, 30, 31, 32, 33, 34]\n",
      "[0.05714285714285714, 0.08571428571428572, 0.14285714285714285, 0.22857142857142856, 0.34285714285714286, 0.4, 0.5714285714285714, 0.6, 0.8285714285714285, 1.0857142857142856, 1.1714285714285713, 1.1999999999999997, 1.2285714285714282, 1.5999999999999996, 1.6285714285714281, 1.7142857142857137, 2.171428571428571, 2.1999999999999993, 2.7142857142857135, 19, 20, 21, 22, 23, 24, 25, 26, 27, 28, 29, 30, 31, 32, 33, 34]\n",
      "[0.05714285714285714, 0.08571428571428572, 0.14285714285714285, 0.22857142857142856, 0.34285714285714286, 0.4, 0.5714285714285714, 0.6, 0.8285714285714285, 1.0857142857142856, 1.1714285714285713, 1.1999999999999997, 1.2285714285714282, 1.5999999999999996, 1.6285714285714281, 1.7142857142857137, 2.171428571428571, 2.1999999999999993, 2.7142857142857135, 3.2571428571428562, 20, 21, 22, 23, 24, 25, 26, 27, 28, 29, 30, 31, 32, 33, 34]\n",
      "[0.05714285714285714, 0.08571428571428572, 0.14285714285714285, 0.22857142857142856, 0.34285714285714286, 0.4, 0.5714285714285714, 0.6, 0.8285714285714285, 1.0857142857142856, 1.1714285714285713, 1.1999999999999997, 1.2285714285714282, 1.5999999999999996, 1.6285714285714281, 1.7142857142857137, 2.171428571428571, 2.1999999999999993, 2.7142857142857135, 3.2571428571428562, 3.314285714285713, 21, 22, 23, 24, 25, 26, 27, 28, 29, 30, 31, 32, 33, 34]\n",
      "[0.05714285714285714, 0.08571428571428572, 0.14285714285714285, 0.22857142857142856, 0.34285714285714286, 0.4, 0.5714285714285714, 0.6, 0.8285714285714285, 1.0857142857142856, 1.1714285714285713, 1.1999999999999997, 1.2285714285714282, 1.5999999999999996, 1.6285714285714281, 1.7142857142857137, 2.171428571428571, 2.1999999999999993, 2.7142857142857135, 3.2571428571428562, 3.314285714285713, 3.37142857142857, 22, 23, 24, 25, 26, 27, 28, 29, 30, 31, 32, 33, 34]\n",
      "[0.05714285714285714, 0.08571428571428572, 0.14285714285714285, 0.22857142857142856, 0.34285714285714286, 0.4, 0.5714285714285714, 0.6, 0.8285714285714285, 1.0857142857142856, 1.1714285714285713, 1.1999999999999997, 1.2285714285714282, 1.5999999999999996, 1.6285714285714281, 1.7142857142857137, 2.171428571428571, 2.1999999999999993, 2.7142857142857135, 3.2571428571428562, 3.314285714285713, 3.37142857142857, 3.428571428571427, 23, 24, 25, 26, 27, 28, 29, 30, 31, 32, 33, 34]\n",
      "[0.05714285714285714, 0.08571428571428572, 0.14285714285714285, 0.22857142857142856, 0.34285714285714286, 0.4, 0.5714285714285714, 0.6, 0.8285714285714285, 1.0857142857142856, 1.1714285714285713, 1.1999999999999997, 1.2285714285714282, 1.5999999999999996, 1.6285714285714281, 1.7142857142857137, 2.171428571428571, 2.1999999999999993, 2.7142857142857135, 3.2571428571428562, 3.314285714285713, 3.37142857142857, 3.428571428571427, 3.485714285714284, 24, 25, 26, 27, 28, 29, 30, 31, 32, 33, 34]\n",
      "[0.05714285714285714, 0.08571428571428572, 0.14285714285714285, 0.22857142857142856, 0.34285714285714286, 0.4, 0.5714285714285714, 0.6, 0.8285714285714285, 1.0857142857142856, 1.1714285714285713, 1.1999999999999997, 1.2285714285714282, 1.5999999999999996, 1.6285714285714281, 1.7142857142857137, 2.171428571428571, 2.1999999999999993, 2.7142857142857135, 3.2571428571428562, 3.314285714285713, 3.37142857142857, 3.428571428571427, 3.485714285714284, 3.5142857142857125, 25, 26, 27, 28, 29, 30, 31, 32, 33, 34]\n",
      "[0.05714285714285714, 0.08571428571428572, 0.14285714285714285, 0.22857142857142856, 0.34285714285714286, 0.4, 0.5714285714285714, 0.6, 0.8285714285714285, 1.0857142857142856, 1.1714285714285713, 1.1999999999999997, 1.2285714285714282, 1.5999999999999996, 1.6285714285714281, 1.7142857142857137, 2.171428571428571, 2.1999999999999993, 2.7142857142857135, 3.2571428571428562, 3.314285714285713, 3.37142857142857, 3.428571428571427, 3.485714285714284, 3.5142857142857125, 4.228571428571427, 26, 27, 28, 29, 30, 31, 32, 33, 34]\n",
      "[0.05714285714285714, 0.08571428571428572, 0.14285714285714285, 0.22857142857142856, 0.34285714285714286, 0.4, 0.5714285714285714, 0.6, 0.8285714285714285, 1.0857142857142856, 1.1714285714285713, 1.1999999999999997, 1.2285714285714282, 1.5999999999999996, 1.6285714285714281, 1.7142857142857137, 2.171428571428571, 2.1999999999999993, 2.7142857142857135, 3.2571428571428562, 3.314285714285713, 3.37142857142857, 3.428571428571427, 3.485714285714284, 3.5142857142857125, 4.228571428571427, 4.285714285714284, 27, 28, 29, 30, 31, 32, 33, 34]\n",
      "[0.05714285714285714, 0.08571428571428572, 0.14285714285714285, 0.22857142857142856, 0.34285714285714286, 0.4, 0.5714285714285714, 0.6, 0.8285714285714285, 1.0857142857142856, 1.1714285714285713, 1.1999999999999997, 1.2285714285714282, 1.5999999999999996, 1.6285714285714281, 1.7142857142857137, 2.171428571428571, 2.1999999999999993, 2.7142857142857135, 3.2571428571428562, 3.314285714285713, 3.37142857142857, 3.428571428571427, 3.485714285714284, 3.5142857142857125, 4.228571428571427, 4.285714285714284, 5.057142857142855, 28, 29, 30, 31, 32, 33, 34]\n",
      "[0.05714285714285714, 0.08571428571428572, 0.14285714285714285, 0.22857142857142856, 0.34285714285714286, 0.4, 0.5714285714285714, 0.6, 0.8285714285714285, 1.0857142857142856, 1.1714285714285713, 1.1999999999999997, 1.2285714285714282, 1.5999999999999996, 1.6285714285714281, 1.7142857142857137, 2.171428571428571, 2.1999999999999993, 2.7142857142857135, 3.2571428571428562, 3.314285714285713, 3.37142857142857, 3.428571428571427, 3.485714285714284, 3.5142857142857125, 4.228571428571427, 4.285714285714284, 5.057142857142855, 5.857142857142855, 29, 30, 31, 32, 33, 34]\n",
      "[0.05714285714285714, 0.08571428571428572, 0.14285714285714285, 0.22857142857142856, 0.34285714285714286, 0.4, 0.5714285714285714, 0.6, 0.8285714285714285, 1.0857142857142856, 1.1714285714285713, 1.1999999999999997, 1.2285714285714282, 1.5999999999999996, 1.6285714285714281, 1.7142857142857137, 2.171428571428571, 2.1999999999999993, 2.7142857142857135, 3.2571428571428562, 3.314285714285713, 3.37142857142857, 3.428571428571427, 3.485714285714284, 3.5142857142857125, 4.228571428571427, 4.285714285714284, 5.057142857142855, 5.857142857142855, 5.94285714285714, 30, 31, 32, 33, 34]\n",
      "[0.05714285714285714, 0.08571428571428572, 0.14285714285714285, 0.22857142857142856, 0.34285714285714286, 0.4, 0.5714285714285714, 0.6, 0.8285714285714285, 1.0857142857142856, 1.1714285714285713, 1.1999999999999997, 1.2285714285714282, 1.5999999999999996, 1.6285714285714281, 1.7142857142857137, 2.171428571428571, 2.1999999999999993, 2.7142857142857135, 3.2571428571428562, 3.314285714285713, 3.37142857142857, 3.428571428571427, 3.485714285714284, 3.5142857142857125, 4.228571428571427, 4.285714285714284, 5.057142857142855, 5.857142857142855, 5.94285714285714, 6.799999999999997, 31, 32, 33, 34]\n",
      "[0.05714285714285714, 0.08571428571428572, 0.14285714285714285, 0.22857142857142856, 0.34285714285714286, 0.4, 0.5714285714285714, 0.6, 0.8285714285714285, 1.0857142857142856, 1.1714285714285713, 1.1999999999999997, 1.2285714285714282, 1.5999999999999996, 1.6285714285714281, 1.7142857142857137, 2.171428571428571, 2.1999999999999993, 2.7142857142857135, 3.2571428571428562, 3.314285714285713, 3.37142857142857, 3.428571428571427, 3.485714285714284, 3.5142857142857125, 4.228571428571427, 4.285714285714284, 5.057142857142855, 5.857142857142855, 5.94285714285714, 6.799999999999997, 7.685714285714283, 32, 33, 34]\n",
      "[0.05714285714285714, 0.08571428571428572, 0.14285714285714285, 0.22857142857142856, 0.34285714285714286, 0.4, 0.5714285714285714, 0.6, 0.8285714285714285, 1.0857142857142856, 1.1714285714285713, 1.1999999999999997, 1.2285714285714282, 1.5999999999999996, 1.6285714285714281, 1.7142857142857137, 2.171428571428571, 2.1999999999999993, 2.7142857142857135, 3.2571428571428562, 3.314285714285713, 3.37142857142857, 3.428571428571427, 3.485714285714284, 3.5142857142857125, 4.228571428571427, 4.285714285714284, 5.057142857142855, 5.857142857142855, 5.94285714285714, 6.799999999999997, 7.685714285714283, 7.74285714285714, 33, 34]\n",
      "[0.05714285714285714, 0.08571428571428572, 0.14285714285714285, 0.22857142857142856, 0.34285714285714286, 0.4, 0.5714285714285714, 0.6, 0.8285714285714285, 1.0857142857142856, 1.1714285714285713, 1.1999999999999997, 1.2285714285714282, 1.5999999999999996, 1.6285714285714281, 1.7142857142857137, 2.171428571428571, 2.1999999999999993, 2.7142857142857135, 3.2571428571428562, 3.314285714285713, 3.37142857142857, 3.428571428571427, 3.485714285714284, 3.5142857142857125, 4.228571428571427, 4.285714285714284, 5.057142857142855, 5.857142857142855, 5.94285714285714, 6.799999999999997, 7.685714285714283, 7.74285714285714, 7.828571428571426, 34]\n",
      "[0.05714285714285714, 0.08571428571428572, 0.14285714285714285, 0.22857142857142856, 0.34285714285714286, 0.4, 0.5714285714285714, 0.6, 0.8285714285714285, 1.0857142857142856, 1.1714285714285713, 1.1999999999999997, 1.2285714285714282, 1.5999999999999996, 1.6285714285714281, 1.7142857142857137, 2.171428571428571, 2.1999999999999993, 2.7142857142857135, 3.2571428571428562, 3.314285714285713, 3.37142857142857, 3.428571428571427, 3.485714285714284, 3.5142857142857125, 4.228571428571427, 4.285714285714284, 5.057142857142855, 5.857142857142855, 5.94285714285714, 6.799999999999997, 7.685714285714283, 7.74285714285714, 7.828571428571426, 8.799999999999997]\n"
     ]
    }
   ],
   "source": [
    "freac= list(range(35))\n",
    "d=0\n",
    "for i in range(0,35):\n",
    "    d=d+fre[i]\n",
    "    freac[i]=d\n",
    "    \n",
    "    print(freac)"
   ]
  },
  {
   "cell_type": "markdown",
   "id": "b6429857",
   "metadata": {},
   "source": [
    "Creamos la tabla de frecuencias"
   ]
  },
  {
   "cell_type": "code",
   "execution_count": 34,
   "id": "290e6b10",
   "metadata": {},
   "outputs": [
    {
     "name": "stdout",
     "output_type": "stream",
     "text": [
      "     X  Fre- Absolutas  Fre-Relativas  Fre-Absoluta A  Fre- Relativa A\n",
      "0    1               2       0.057143               2         0.057143\n",
      "1    2               1       0.028571               3         0.085714\n",
      "2    3               2       0.057143               5         0.142857\n",
      "3    4               3       0.085714               8         0.228571\n",
      "4    5               4       0.114286              12         0.342857\n",
      "5    6               2       0.057143              14         0.400000\n",
      "6    7               6       0.171429              20         0.571429\n",
      "7    8               1       0.028571              21         0.600000\n",
      "8    9               8       0.228571              29         0.828571\n",
      "9   10               9       0.257143              38         1.085714\n",
      "10  11               3       0.085714              41         1.171429\n",
      "11  12               1       0.028571              42         1.200000\n",
      "12  13               1       0.028571              43         1.228571\n",
      "13  14              13       0.371429              56         1.600000\n",
      "14  15               1       0.028571              57         1.628571\n",
      "15  16               3       0.085714              60         1.714286\n",
      "16  17              16       0.457143              76         2.171429\n",
      "17  18               1       0.028571              77         2.200000\n",
      "18  19              18       0.514286              95         2.714286\n",
      "19  20              19       0.542857             114         3.257143\n",
      "20  21               2       0.057143             116         3.314286\n",
      "21  22               2       0.057143             118         3.371429\n",
      "22  23               2       0.057143             120         3.428571\n",
      "23  24               2       0.057143             122         3.485714\n",
      "24  25               1       0.028571             123         3.514286\n",
      "25  26              25       0.714286             148         4.228571\n",
      "26  27               2       0.057143             150         4.285714\n",
      "27  28              27       0.771429             177         5.057143\n",
      "28  29              28       0.800000             205         5.857143\n",
      "29  30               3       0.085714             208         5.942857\n",
      "30  31              30       0.857143             238         6.800000\n",
      "31  32              31       0.885714             269         7.685714\n",
      "32  33               2       0.057143             271         7.742857\n",
      "33  34               3       0.085714             274         7.828571\n",
      "34  35              34       0.971429             308         8.800000\n"
     ]
    }
   ],
   "source": [
    "import numpy as np\n",
    "import pandas as pd\n",
    "da={'X':n, 'Fre- Absolutas':f,'Fre-Relativas':fre, 'Fre-Absoluta A':faba,'Fre- Relativa A':freac}\n",
    "tabla=pd.DataFrame(data=da)\n",
    "\n",
    "print(tabla)"
   ]
  },
  {
   "cell_type": "code",
   "execution_count": null,
   "id": "2d250f3c",
   "metadata": {},
   "outputs": [],
   "source": []
  }
 ],
 "metadata": {
  "kernelspec": {
   "display_name": "Python 3 (ipykernel)",
   "language": "python",
   "name": "python3"
  },
  "language_info": {
   "codemirror_mode": {
    "name": "ipython",
    "version": 3
   },
   "file_extension": ".py",
   "mimetype": "text/x-python",
   "name": "python",
   "nbconvert_exporter": "python",
   "pygments_lexer": "ipython3",
   "version": "3.11.5"
  }
 },
 "nbformat": 4,
 "nbformat_minor": 5
}
