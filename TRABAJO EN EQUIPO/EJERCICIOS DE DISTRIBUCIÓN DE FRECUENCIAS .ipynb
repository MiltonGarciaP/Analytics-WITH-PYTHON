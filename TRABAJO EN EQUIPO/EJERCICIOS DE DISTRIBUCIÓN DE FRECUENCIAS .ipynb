{
 "cells": [
  {
   "cell_type": "code",
   "execution_count": 4,
   "id": "fcbf0621",
   "metadata": {
    "scrolled": false
   },
   "outputs": [
    {
     "name": "stdout",
     "output_type": "stream",
     "text": [
      "    Número empleados  Frecuencia absoluta  Frecuencia relativa  Frecuencia acumulada\n",
      "0                 12                   10                 0.20                    10\n",
      "1                 11                   10                 0.20                    20\n",
      "2                 15                    6                 0.12                    26\n",
      "3                 16                    5                 0.10                    31\n",
      "4                 13                    5                 0.10                    36\n",
      "5                 10                    4                 0.08                    40\n",
      "6                 14                    3                 0.06                    43\n",
      "7                  9                    2                 0.04                    45\n",
      "8                 17                    2                 0.04                    47\n",
      "9                 18                    2                 0.04                    49\n",
      "10                19                    1                 0.02                    50\n",
      "Proporción de sucursales con más de 15 empleados: 20.00%\n",
      "  Intervalo Frecuencia absoluta  Densidad de frecuencia\n",
      "0   (9, 11)                  16                    0.16\n",
      "1  (12, 14)                  18                    0.18\n",
      "2  (15, 17)                  13                    0.13\n",
      "3  (18, 20)                   3                    0.03\n"
     ]
    }
   ],
   "source": [
    "\"\"\"\n",
    "GRUPO B \n",
    "Yafreisy Payano / 2022-0272\n",
    "Lisania Trinidad / 2023-1237\n",
    "MILTON GARCIA /2020-10676\n",
    "\"\"\"\n",
    "\n",
    "#  a)  Calcule la distribución de frecuencias de la variable obteniendo las frecuencias absolutas, relativas y sus correspondientes acumuladas.  \n",
    "import pandas as pd\n",
    "\n",
    "datos = [12, 10, 9, 11, 15, 16, 9, 10, 10, 11, 12, 13, 14, 15, 11, 11, 12, 16, 17, 17, 16, 16, 15, 14, 12, 11, 11, 11, 12, 12, 12, 15, 13, 14, 16, 15, 18, 19, 18, 10, 11, 12, 12, 11, 13, 13, 15, 13, 11, 12]\n",
    "\n",
    "tabla_frecuencia = pd.Series(datos).value_counts().reset_index(name='Frecuencia absoluta').rename(columns={'index':'Número empleados'})\n",
    "\n",
    "tabla_frecuencia['Frecuencia relativa'] = tabla_frecuencia['Frecuencia absoluta'] / len(datos)\n",
    "\n",
    "tabla_frecuencia['Frecuencia acumulada'] = tabla_frecuencia['Frecuencia absoluta'].cumsum()\n",
    "\n",
    "print(tabla_frecuencia.to_string())\n",
    "\n",
    "# b)  ¿Qué proporción de sucursales tiene más de 15 empleados?  \n",
    "mayores_15 = tabla_frecuencia[tabla_frecuencia['Número empleados'] > 15]\n",
    "proporcion = mayores_15['Frecuencia absoluta'].sum() / len(datos)\n",
    "print(f\"Proporción de sucursales con más de 15 empleados: {proporcion:.2%}\")\n",
    "\n",
    "#Agrupe la variable en los intervalos que considere conveniente de amplitud variable, calcule las densidades de frecuencia de cada intervalo.   \n",
    "intervalos = [(9, 11), (12, 14), (15, 17), (18, 20)]\n",
    "\n",
    "tabla_densidad = pd.DataFrame(columns=['Intervalo', 'Frecuencia absoluta', 'Densidad de frecuencia'])\n",
    "\n",
    "for intervalo in intervalos:\n",
    "\n",
    "    datos_intervalo = [dato for dato in datos if intervalo[0] <= dato <= intervalo[1]]\n",
    "    frecuencia_absoluta = len(datos_intervalo)\n",
    "    densidad_frecuencia = frecuencia_absoluta / (len(datos) * (intervalo[1] - intervalo[0]))\n",
    "    nueva_fila = pd.DataFrame({'Intervalo': [intervalo], 'Frecuencia absoluta': [frecuencia_absoluta], 'Densidad de frecuencia': [densidad_frecuencia]})\n",
    "    tabla_densidad = pd.concat([tabla_densidad, nueva_fila], ignore_index=True)\n",
    "print(tabla_densidad.to_string())\n",
    "\n",
    "\"\"\"\n",
    "GRUPO B \n",
    "Yafreisy Payano / 2022-0272\n",
    "Lisania Trinidad / 2023-1237\n",
    "MILTON GARCIA /2020-10676\n",
    "\"\"\"\n"
   ]
  },
  {
   "cell_type": "code",
   "execution_count": null,
   "id": "d221bf8c",
   "metadata": {},
   "outputs": [],
   "source": []
  }
 ],
 "metadata": {
  "kernelspec": {
   "display_name": "Python 3 (ipykernel)",
   "language": "python",
   "name": "python3"
  },
  "language_info": {
   "codemirror_mode": {
    "name": "ipython",
    "version": 3
   },
   "file_extension": ".py",
   "mimetype": "text/x-python",
   "name": "python",
   "nbconvert_exporter": "python",
   "pygments_lexer": "ipython3",
   "version": "3.11.5"
  }
 },
 "nbformat": 4,
 "nbformat_minor": 5
}
