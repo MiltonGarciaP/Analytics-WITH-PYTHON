{
 "cells": [
  {
   "cell_type": "code",
   "execution_count": null,
   "id": "14e9dd08",
   "metadata": {},
   "outputs": [],
   "source": [
    "#TAREA 1 - EJERCICIOS BASICOS EN PYTHON\n",
    "\n",
    "# SU NOMBRE:\n",
    "# MATRICULA:\n",
    "\n",
    "#Todos los ejercicios deben ser creados en Jupyter\n",
    "\n",
    "#1.\tDeclarar variable de los diferentes tipos, asignarles valor e imprimir el valor. \n",
    "#2. Calcular la distancia. Solicitar al usuario ingresar la velocidad y el tiempo \n",
    "#3. Calcular el promedio simple de notas de un estudiante de sustres notas parciales N1, N2, N3\n",
    "#4. Hacer un programa que permita ingresar el número de partidos ganados, perdidos y empatados, \n",
    "# por noticias SIN  en  el  torneo  apertura, se  debe  de  mostrar  su  puntaje  total,  \n",
    "# teniendo  en  cuenta  que  por  cada  partido ganado obtendrá 3 puntos, empatado 1 punto y perdido 0 puntos.\n",
    "#5. Calcular el perimetro y superficie d eun rectangulo. Se debe solicitar al usuario introduzca la base y la altura.\n",
    "#6. Calcular el area y el volumen de un cilindro. Soliictar al usuario introduzca el radio y la altura.\n",
    "#7. Calcular el volumen de una esfera. Pedir al usuario introduzca el Radio.\n",
    "#8. Calcular el Perímetro de un tríangulo equilatero. Pedir al usuario ingrese la altura del triangulo.\n",
    "#9. Calcular el cambio de moneda dominicana a dolares y euros. pedir al usuario introduzca cantidad de pesos.\n",
    "#10. Calcule la velocidad de un automóvil. Pedir al usuario ingrese tiempo en segundos y distincia en metros."
   ]
  }
 ],
 "metadata": {
  "kernelspec": {
   "display_name": "Python 3 (ipykernel)",
   "language": "python",
   "name": "python3"
  },
  "language_info": {
   "codemirror_mode": {
    "name": "ipython",
    "version": 3
   },
   "file_extension": ".py",
   "mimetype": "text/x-python",
   "name": "python",
   "nbconvert_exporter": "python",
   "pygments_lexer": "ipython3",
   "version": "3.9.7"
  }
 },
 "nbformat": 4,
 "nbformat_minor": 5
}
