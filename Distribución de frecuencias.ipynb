{
 "cells": [
  {
   "cell_type": "markdown",
   "id": "97fa71b4",
   "metadata": {},
   "source": [
    "# Analitica Descriptiva I - Distribución de frecuencias\n",
    "### Instituto Tecnologicos de las Américas ITLA\n",
    "#### Clase 2024.02.26\n",
    "\n",
    "##### email: gdelarosa@itla.edu.do"
   ]
  },
  {
   "cell_type": "markdown",
   "id": "821ff4a8",
   "metadata": {},
   "source": [
    "## CONTENIDO\n",
    "\n",
    "Distribución de frecuencias\n",
    "\n",
    "4.1 Frecuencia absoluta\n",
    "\n",
    "4.2 Frecuencia relativa\n",
    "\n",
    "4.3 Frecuencia absoluta acumulada\n",
    "\n",
    "4.4 Frecuencia relativa acumulada"
   ]
  },
  {
   "cell_type": "markdown",
   "id": "ee4ce39b",
   "metadata": {},
   "source": [
    "# Distribución de frecuencias"
   ]
  },
  {
   "cell_type": "markdown",
   "id": "83eca58a",
   "metadata": {},
   "source": [
    "Las distribuciones de frecuencias son tablas en que se dispone las modalidades de la variable por filas. En las columnas se dispone el número de ocurrencias por cada valor, porcentajes, etc. La finalidad de las agrupaciones en frecuencias es facilitar la obtención de la información que contienen los datos.\n",
    "\n",
    "\n",
    "Ejemplo: Quieren conocer si un grupo de individuos está a favor o en contra de la exhibición de imágenes violentas por televisión, para lo cual han recogido los siguientes datos:"
   ]
  },
  {
   "cell_type": "markdown",
   "id": "6bc097a4",
   "metadata": {},
   "source": [
    "<img src='x.png'>"
   ]
  },
  {
   "cell_type": "markdown",
   "id": "d90fa1ba",
   "metadata": {},
   "source": [
    "La inspección de los datos originales no permite responder fácilmente a cuestiones como cuál es la actitud mayoritaria del grupo, y resulta bastante más difícil determinar la magnitud de la diferencia de actitud entre hombres y mujeres.\n",
    "\n",
    "\n",
    "Podemos hacernos mejor idea si disponemos en una tabla los valores de la variable acompañados del número de veces (la frecuencia) que aparece cada valor:"
   ]
  },
  {
   "cell_type": "markdown",
   "id": "7990193b",
   "metadata": {},
   "source": [
    "<img src='xx.png'>"
   ]
  },
  {
   "cell_type": "markdown",
   "id": "29cd301f",
   "metadata": {},
   "source": [
    "X: Símbolo genérico de la variable.\n",
    "\n",
    "f: Frecuencia (también se simboliza como ni).\n",
    "\n",
    "\n",
    "La distribución de frecuencias de los datos del ejemplo muestra que la actitud mayoritaria de los individuos del grupo estudiado es indiferente.\n",
    "\n",
    "\n",
    "La interpretación de los datos ha sido facilitada porque se ha reducido el número de números a examinar (en vez de los 20 datos originales, la tabla contiene 5 valores de la variable y 5 frecuencias).\n",
    "\n",
    "\n",
    "Generalmente las tablas incluyen varías columnas con las frecuencias relativas (son el número de ocurrencias dividido por el total de datos, y se simbolizan \"fr\" o \"pi\"), frecuencias acumuladas (la frecuencia acumulada es el total de frecuencias de los valores iguales o inferiores al de referencia, y se simbolizan \"fa\" o \"na\". No obstante la frecuencia acumulada también es definida incluyendo al valor de referencia), frecuencias acumuladas relativas (la frecuencia acumulada relativa es el total de frecuencias relativas de los valores iguales o inferiores al de referencia, y se simbolizan \"fr\" o \"pa\")"
   ]
  },
  {
   "cell_type": "markdown",
   "id": "f7fcbc2e",
   "metadata": {},
   "source": [
    "# 4.1 Frecuencia absoluta"
   ]
  },
  {
   "cell_type": "markdown",
   "id": "7543cfdc",
   "metadata": {},
   "source": [
    "La frecuencia absoluta es una medida estadística que nos da información acerca de la cantidad de veces que se repite un suceso al realizar un número determinado de experimentos aleatorios. Esta medida se representa mediante las letras fi. La letra f se refiere a la palabra frecuencia y la letra i se refiere a la realización i-ésima del experimento aleatorio, es decir, se refiere a cada prueba específica.\n",
    "\n",
    "##### Puntos clave\n",
    "\n",
    "La frecuencia absoluta es una medida estadística que indica cuántas veces se repite un suceso en un conjunto de experimentos aleatorios.\n",
    "\n",
    "Es útil en estadística descriptiva para comprender mejor las características de un conjunto de datos, ya sea cualitativo o cuantitativo, siempre que los datos puedan organizarse de alguna manera.\n",
    "\n",
    "Al sumar todas las frecuencias absolutas en un conjunto de datos, obtienes el número total de datos que estás analizando, ya sea de una muestra o de una población.\n",
    "\n",
    "#### La frecuencia absoluta: explicación sencilla\n",
    "\n",
    "La frecuencia absoluta nos dice cuántas veces ocurre un suceso en particular durante la realización de pruebas o experimentos.\n",
    "\n",
    "Este concepto es muy útil en estadística descriptiva, una rama de la estadística que se enfoca en describir y resumir datos. Nos ayuda a entender mejor las características de un grupo grande de datos, y/o de una muestra.\n",
    "\n",
    "Se aplica tanto a datos cualitativos (como palabras o categorías) como a cuantitativos (números), siempre y cuando estos datos se puedan organizar de alguna manera.\n",
    "\n",
    "Podemos usar la frecuencia absoluta para trabajar con dos tipos de variables: las discretas, que son datos que se pueden ordenar de menor a mayor, y las continuas, que son datos que se ordenan de menor a mayor y se agrupan en intervalos. Además, esta medida nos sirve para calcular la frecuencia relativa, que es otra forma de analizar datos estadísticos.\n",
    "\n",
    "Un punto importante es que si sumamos todas las frecuencias absolutas de un conjunto de datos, obtenemos el número total de datos que estamos analizando, ya sea de una muestra o de una población."
   ]
  },
  {
   "cell_type": "markdown",
   "id": "8ef80384",
   "metadata": {},
   "source": [
    "##### EJEMPLO"
   ]
  },
  {
   "cell_type": "markdown",
   "id": "9d6e3007",
   "metadata": {},
   "source": [
    "¡Tomaremos de ejemplo un salón de clases! Si fueramos un maestro de la materia de biologia y tenemos 20 estudiantes y tenemos las notas finales del semestre.\n",
    "\n",
    "Seguiremos los pasos siguientes para construir tu tabla de frecuencias:"
   ]
  },
  {
   "cell_type": "markdown",
   "id": "a7e389d9",
   "metadata": {},
   "source": [
    "1- Reunimos los datos"
   ]
  },
  {
   "cell_type": "markdown",
   "id": "9200d9e3",
   "metadata": {},
   "source": [
    "<img src='xxx.png'>"
   ]
  },
  {
   "cell_type": "markdown",
   "id": "d2c26043",
   "metadata": {},
   "source": [
    "Creamos una nueva tabla. En la primera columna, ubica las notas de 1 a 10, de menor a mayor. En la segunda columna, escribe la cantidad de veces que se repite cada nota y llama a estos datos frecuencia absoluta."
   ]
  },
  {
   "cell_type": "markdown",
   "id": "4a8a3f60",
   "metadata": {},
   "source": [
    "<img src='xxxx.png'>"
   ]
  },
  {
   "cell_type": "markdown",
   "id": "c29b8c1d",
   "metadata": {},
   "source": [
    "Hasta ahora tenemos una tabla de frecuencias sencilla, pero también puedes agregarle una columna más para calcular la frecuencia absoluta acumulada. Sus valores se obtienen sumando los datos en diagonal. \n",
    "\n",
    "Por ejemplo: el primer número siempre va a  ser igual al primer dato de la frecuencia absoluta, en este caso es cero. Luego, para obtener el segundo dato, necesitas sumar el cero con el dos, que es el segundo número de la frecuencia absoluta y justamente, el que está ubicado de forma diagonal. Entonces: 0 + 2 = 2."
   ]
  },
  {
   "cell_type": "markdown",
   "id": "6501321a",
   "metadata": {},
   "source": [
    "<img src='xxxxx.png'>"
   ]
  },
  {
   "cell_type": "markdown",
   "id": "03c00de2",
   "metadata": {},
   "source": [
    "Se prosigue con los siguientes numeros para ir sumando los números en diagonal. Ahora es el turno de 2 + 1 = 3. Continua hasta llenar toda la columna."
   ]
  },
  {
   "cell_type": "markdown",
   "id": "428bffca",
   "metadata": {},
   "source": [
    "<img src='xxxxxx.png'>"
   ]
  },
  {
   "cell_type": "markdown",
   "id": "cb1f6261",
   "metadata": {},
   "source": [
    "Una forma de verificar que la suma es correcta, es obteniendo como número final la cantidad de datos que tienes. En este caso, sería igual a 20, porque son las notas de 20 estudiantes. Y se finaliza"
   ]
  },
  {
   "cell_type": "markdown",
   "id": "3d35395f",
   "metadata": {},
   "source": [
    "<img src='xxxxxxx.png'>"
   ]
  },
  {
   "cell_type": "markdown",
   "id": "d828383d",
   "metadata": {},
   "source": [
    "# 4.1 Frecuencia relativa"
   ]
  },
  {
   "cell_type": "markdown",
   "id": "4e806fbf",
   "metadata": {},
   "source": [
    "La frecuencia relativa es una medida estadística que se calcula como el cociente de la frecuencia absoluta de algún valor de la población/muestra (fi) entre el total de valores que componen la población/muestra (N)."
   ]
  },
  {
   "cell_type": "markdown",
   "id": "7511c554",
   "metadata": {},
   "source": [
    "##### Puntos clave\n",
    "\n",
    "La frecuencia relativa es una medida estadística que indica la proporción o el porcentaje de cada valor dentro de un conjunto de datos.\n",
    "\n",
    "Es especialmente útil para entender y comparar la distribución de datos en diferentes conjuntos, ayudando a visualizar la relevancia de cada dato en un contexto más amplio.\n",
    "\n",
    "Se calcula dividiendo la frecuencia absoluta de un valor por el número total de observaciones en el conjunto de datos."
   ]
  },
  {
   "cell_type": "markdown",
   "id": "4ad36d6b",
   "metadata": {},
   "source": [
    "##### La frecuencia relativa: Explicación sencilla\n",
    "\n",
    "Para entender la frecuencia relativa, primero necesitamos saber qué es la frecuencia absoluta.\n",
    "\n",
    "La frecuencia absoluta cuenta cuántas veces aparece un valor en un conjunto de datos. Una vez ya se sabe dicho dato, podemos calcular la frecuencia relativa.\n",
    "\n",
    "A diferencia de la frecuencia absoluta, la frecuencia relativa nos muestra la proporción o el porcentaje que representa cada valor dentro del total de datos. Se calcula dividiendo la frecuencia absoluta entre el número total de observaciones en el conjunto de datos.\n",
    "\n",
    "La frecuencia relativa se representa con las letras hi y su fórmula de cálculo es la siguiente:\n",
    "\n",
    "hi = fi / N\n",
    "\n",
    "hi    = Frecuencia relativa de la observación i-ésima\n",
    "\n",
    "fi     = Frecuencia absoluta de la observación i-ésima\n",
    "\n",
    "N    = Número total de observaciones de la muestra\n",
    "\n",
    "De la fórmula de cálculo se desprenden dos conclusiones:\n",
    "\n",
    "La primera es que la frecuencia relativa va a estar acotada entre 0 y 1, debido a que la frecuencia de los valores de la muestra, siempre va a ser menor al tamaño de la muestra.\n",
    "La segunda es que la suma de todas las muestras va a ser 1 si se mide en tanto por 1, o 100 si se mide en tanto por ciento.\n"
   ]
  },
  {
   "cell_type": "markdown",
   "id": "c5059d52",
   "metadata": {},
   "source": [
    "Por consiguiente la frecuencia relativa nos informa acerca de la proporción o el peso que tiene algún valor u observación en la muestra. Esto la hace de especial utilidad, dado que a diferencia de la frecuencia absoluta, la frecuencia relativa nos va a permitir hacer comparaciones entre muestras de tamaños distintos. Esta se puede expresar como un valor decimal, como fracción o como porcentaje."
   ]
  },
  {
   "cell_type": "markdown",
   "id": "dd4cc1d0",
   "metadata": {},
   "source": [
    "<img src='xxxxxxxx.png'>"
   ]
  },
  {
   "cell_type": "markdown",
   "id": "673c8571",
   "metadata": {},
   "source": [
    "# 4.3 Frecuencia absoluta acumulada"
   ]
  },
  {
   "cell_type": "markdown",
   "id": "c5151f0d",
   "metadata": {},
   "source": [
    "Para calcular la frecuencia absoluta acumulada, hay que calcular primero la frecuencia absoluta (fi) de la población o muestra. Para ello, los datos se ordenan de menor a mayor y se colocan en una tabla.\n",
    "\n",
    "Una vez hecho esto, la frecuencia absoluta acumulada se obtiene de ir sumando las frecuencias absolutas de una clase o grupo de la muestra con la anterior (primer grupo + segundo grupo, primer grupo + segundo grupo + tercer grupo y así sucesivamente hasta llegar a acumular del primer grupo al último)."
   ]
  },
  {
   "cell_type": "markdown",
   "id": "98024102",
   "metadata": {},
   "source": [
    "Ejemplo de frecuencia absoluta acumulada (Fi) para una variable discreta\n",
    "\n",
    "Supongamos que las notas de 20 alumnos de primer curso de economía son las siguientes:\n",
    "\n",
    "1, 2, 8, 5, 8, 3, 8, 5, 6, 10, 5, 7, 9, 4, 10, 2, 7, 6, 5, 10.\n",
    "\n",
    "A simple vista se puede observar que de los 20 valores 10 de ellos son distintos y los demás se repiten al menos una vez. Para elaborar la tabla de frecuencias absolutas en primer lugar se ordenarían los valores de menor a mayor y se calcularía la frecuencia absoluta para cada uno.\n",
    "\n",
    "Por tanto tenemos:\n",
    "\n",
    "Xi = Variable aleatoria estadística (nota del examen de primer curso de economía).\n",
    "\n",
    "N = 20\n",
    "\n",
    "fi = Frecuencia absoluta (número de veces que se repite el suceso en este caso, la nota del examen).\n",
    "\n",
    "Fi= Frecuencia absoluta acumulada (sumatoria del número de veces que se repite el suceso, en este caso, la nota del examen).\n",
    "\n",
    "<img src='xxxxxxxxx.png'>\n",
    "\n",
    "El cálculo entre paréntesis de la tercera columna, es el resultado de sumar el Fi correspondiente y el siguiente fi. Por ejemplo, para la segunda fila nuestro primer Fi es 1 y nuestro siguiente fi es 2, para la tercera fila nuestro Fi es 3 (resultado de haber acumulado fi = 1 y fi = 2) y nuestro siguiente fi es 1. Realizando este procedimiento de manera sucesiva, llegamos al valor 20. Este es el resultado de acumular todas las frecuencias absolutas y ha de coincidir con el número total de observaciones."
   ]
  },
  {
   "cell_type": "markdown",
   "id": "20df28d5",
   "metadata": {},
   "source": [
    "# 4.4 Frecuencia relativa acumulada"
   ]
  },
  {
   "cell_type": "markdown",
   "id": "56873fa3",
   "metadata": {},
   "source": [
    "La frecuencia relativa acumulada es el resultado de ir sumando las frecuencias relativas de las observaciones o valores de una población o muestra. Esta se representa por las siglas Hi.\n",
    "\n",
    "Para calcular la frecuencia relativa acumulada, hay que calcular primero la frecuencia absoluta (fi) y la frecuencia relativa (hi) de los valores de la población o muestra.\n",
    "\n",
    "Para ello, los datos se ordenan de menor a mayor y se colocan en una tabla. Una vez hecho esto, la frecuencia relativa acumulada se obtiene de ir sumando las frecuencias relativas de una clase o grupo de la muestra con la anterior (primer grupo + segundo grupo, primer grupo + segundo grupo + tercer grupo y así sucesivamente hasta llegar a acumular del primer grupo al último)."
   ]
  },
  {
   "cell_type": "markdown",
   "id": "ffa4c617",
   "metadata": {},
   "source": [
    "Ejemplo de frecuencia relativa acumulada (Hi) para una variable discreta\n",
    "\n",
    "Supongamos que las notas de 20 alumnos del primer curso de economía son las siguientes:\n",
    "\n",
    "1,2,8,5,8,3,8,5,6,10,5,7,9,4,10,2,7,6,5,10.\n",
    "\n",
    "Por tanto tenemos:\n",
    "\n",
    "Xi  = Variable aleatoria estadística (nota del examen de primer curso de economía).\n",
    "\n",
    "N   = 20\n",
    "\n",
    "fi   = Frecuencia absoluta (número de veces que se repite el suceso, en este caso la nota del examen).\n",
    "\n",
    "hi  = Frecuencia relativa (proporción que representa el valor i-ésimo en la muestra).\n",
    "\n",
    "Hi = Frecuencia relativa acumulada (Sumatorio de la proporción que representa el valor i-ésimo en la muestra).\n",
    "\n",
    "<img src='xn.png'>\n",
    "\n",
    "El cálculo entre paréntesis de la tercera columna, es el resultado del Hi correspondiente. Por ejemplo, para la segunda fila nuestro primer Hi es 5% y nuestro siguiente hi es 10%. Entonces, para la tercera fila, nuestro Hi es 15% (resultado de haber acumulado hi = 5% y hi = 10%) y nuestro siguiente hi es 5%. Realizando este procedimiento de manera sucesiva, llegamos al 100%. Este es el resultado de acumular todas las frecuencias relativas y ha de coincidir con el número total de observaciones."
   ]
  },
  {
   "cell_type": "markdown",
   "id": "7c848b96",
   "metadata": {},
   "source": [
    "# Ejercicio práctico en python"
   ]
  },
  {
   "cell_type": "markdown",
   "id": "f081f1da",
   "metadata": {},
   "source": [
    "Generamos un conjunto de datos por menio de una lista"
   ]
  },
  {
   "cell_type": "code",
   "execution_count": 65,
   "id": "8d1ea26e",
   "metadata": {},
   "outputs": [
    {
     "name": "stdout",
     "output_type": "stream",
     "text": [
      "range(0, 10)\n"
     ]
    }
   ],
   "source": [
    "t = range(10)\n",
    "print(t)"
   ]
  },
  {
   "cell_type": "markdown",
   "id": "cf3ef6d0",
   "metadata": {},
   "source": [
    "Se crea una lista"
   ]
  },
  {
   "cell_type": "code",
   "execution_count": 66,
   "id": "dfa8d2b0",
   "metadata": {},
   "outputs": [
    {
     "name": "stdout",
     "output_type": "stream",
     "text": [
      "[0, 1, 2, 3, 4, 5, 6, 7, 8, 9]\n"
     ]
    }
   ],
   "source": [
    "data = list(t)\n",
    "print(data)"
   ]
  },
  {
   "cell_type": "code",
   "execution_count": 67,
   "id": "46fee98d",
   "metadata": {},
   "outputs": [],
   "source": [
    "import random"
   ]
  },
  {
   "cell_type": "markdown",
   "id": "44238341",
   "metadata": {},
   "source": [
    "El for esta definido para que empiece desde 0 a 200 recordemos que nuestra lista esta definida con este tamaño entonces el for recorre cada posicion de la lista desde su posicion 0 datos[0] hasta la posicion 200 data[199].\n",
    "\n",
    "Cada vez que estemos en una posicion determinada data[i] la funcion random.randrange() coloca un valor aleatorio dentro de esta posicion de la lista.\n",
    "\n",
    "La función random.randrange() tiene tres parametros los cuales con el valor minimo(1) el valor (20) y los saltos (1) en nuestro caso la funcion genera numeros aleatorios de 1 a 19 con saltos de 1.\n",
    "\n",
    "Al final se imprime nuestra lista con todos los datos"
   ]
  },
  {
   "cell_type": "code",
   "execution_count": 68,
   "id": "8470a826",
   "metadata": {},
   "outputs": [
    {
     "name": "stdout",
     "output_type": "stream",
     "text": [
      "[1, 1, 2, 3, 4, 5, 6, 7, 8, 9]\n",
      "[1, 7, 2, 3, 4, 5, 6, 7, 8, 9]\n",
      "[1, 7, 8, 3, 4, 5, 6, 7, 8, 9]\n",
      "[1, 7, 8, 6, 4, 5, 6, 7, 8, 9]\n",
      "[1, 7, 8, 6, 9, 5, 6, 7, 8, 9]\n",
      "[1, 7, 8, 6, 9, 8, 6, 7, 8, 9]\n",
      "[1, 7, 8, 6, 9, 8, 4, 7, 8, 9]\n",
      "[1, 7, 8, 6, 9, 8, 4, 5, 8, 9]\n",
      "[1, 7, 8, 6, 9, 8, 4, 5, 2, 9]\n",
      "[1, 7, 8, 6, 9, 8, 4, 5, 2, 9]\n"
     ]
    }
   ],
   "source": [
    "# generamos numeros aleatorios de distintas formas\n",
    "\n",
    "for i in range (0, 10):\n",
    "    data[i]=random.randrange(1,10,1)\n",
    "    print(data)"
   ]
  },
  {
   "cell_type": "markdown",
   "id": "0929d46a",
   "metadata": {},
   "source": [
    "Calculamos las frecuencias absolutas"
   ]
  },
  {
   "cell_type": "code",
   "execution_count": 69,
   "id": "67f68761",
   "metadata": {},
   "outputs": [],
   "source": [
    "    # creamos una lista de 1 a 20 porque son los numeros que genere anteriormente\n",
    "    \n",
    "    n=[1,2,3,4,5,6,7,8,9,10]"
   ]
  },
  {
   "cell_type": "code",
   "execution_count": 70,
   "id": "364f3f2d",
   "metadata": {},
   "outputs": [
    {
     "name": "stdout",
     "output_type": "stream",
     "text": [
      "[0, 1, 2, 3, 4, 5, 6, 7, 8, 9]\n"
     ]
    }
   ],
   "source": [
    "#Generamos una nueva lista\n",
    "\n",
    "f=list(range(10))\n",
    "print(f)"
   ]
  },
  {
   "cell_type": "code",
   "execution_count": 71,
   "id": "aa444379",
   "metadata": {},
   "outputs": [
    {
     "name": "stdout",
     "output_type": "stream",
     "text": [
      "[1, 1, 2, 3, 4, 5, 6, 7, 8, 9]\n",
      "[1, 1, 2, 3, 4, 5, 6, 7, 8, 9]\n",
      "[1, 1, 2, 1, 4, 5, 6, 7, 8, 9]\n",
      "[1, 1, 2, 1, 1, 5, 6, 7, 8, 9]\n",
      "[1, 1, 2, 1, 1, 1, 6, 7, 8, 9]\n",
      "[1, 1, 2, 1, 1, 1, 1, 7, 8, 9]\n",
      "[1, 1, 2, 1, 1, 1, 1, 1, 8, 9]\n",
      "[1, 1, 2, 1, 1, 1, 1, 2, 8, 9]\n",
      "[1, 1, 2, 1, 1, 1, 1, 2, 1, 9]\n",
      "[1, 1, 2, 1, 1, 1, 1, 2, 2, 9]\n"
     ]
    }
   ],
   "source": [
    "for i in range(0,10):\n",
    "    do=0\n",
    "    for j in range(0, int(len(data))):\n",
    "        if n[i] == data[j]:\n",
    "            do=do+1\n",
    "            f[i]=do\n",
    "            \n",
    "            print(f)"
   ]
  },
  {
   "cell_type": "markdown",
   "id": "6737d12b",
   "metadata": {},
   "source": [
    "Realizamos la frecuencia relativa"
   ]
  },
  {
   "cell_type": "code",
   "execution_count": 78,
   "id": "995a473e",
   "metadata": {},
   "outputs": [
    {
     "name": "stdout",
     "output_type": "stream",
     "text": [
      "[0.1, 1, 2, 3, 4, 5, 6, 7, 8, 9]\n",
      "[0.1, 0.1, 2, 3, 4, 5, 6, 7, 8, 9]\n",
      "[0.1, 0.1, 0.2, 3, 4, 5, 6, 7, 8, 9]\n",
      "[0.1, 0.1, 0.2, 0.1, 4, 5, 6, 7, 8, 9]\n",
      "[0.1, 0.1, 0.2, 0.1, 0.1, 5, 6, 7, 8, 9]\n",
      "[0.1, 0.1, 0.2, 0.1, 0.1, 0.1, 6, 7, 8, 9]\n",
      "[0.1, 0.1, 0.2, 0.1, 0.1, 0.1, 0.1, 7, 8, 9]\n",
      "[0.1, 0.1, 0.2, 0.1, 0.1, 0.1, 0.1, 0.2, 8, 9]\n",
      "[0.1, 0.1, 0.2, 0.1, 0.1, 0.1, 0.1, 0.2, 0.2, 9]\n",
      "[0.1, 0.1, 0.2, 0.1, 0.1, 0.1, 0.1, 0.2, 0.2, 0.9]\n"
     ]
    }
   ],
   "source": [
    "fre = list(range(10))\n",
    "for i in range(0,10):\n",
    "    fre[i]=f[i]/10\n",
    "        \n",
    "    print(fre)\n",
    "    #print(sum(fre))"
   ]
  },
  {
   "cell_type": "markdown",
   "id": "b46f11f2",
   "metadata": {},
   "source": [
    "Realizamos la frecuencia acumulada absoluta"
   ]
  },
  {
   "cell_type": "code",
   "execution_count": 75,
   "id": "db7bd6c6",
   "metadata": {},
   "outputs": [
    {
     "name": "stdout",
     "output_type": "stream",
     "text": [
      "[1, 1, 2, 3, 4, 5, 6, 7, 8, 9]\n",
      "[1, 2, 2, 3, 4, 5, 6, 7, 8, 9]\n",
      "[1, 2, 4, 3, 4, 5, 6, 7, 8, 9]\n",
      "[1, 2, 4, 5, 4, 5, 6, 7, 8, 9]\n",
      "[1, 2, 4, 5, 6, 5, 6, 7, 8, 9]\n",
      "[1, 2, 4, 5, 6, 7, 6, 7, 8, 9]\n",
      "[1, 2, 4, 5, 6, 7, 8, 7, 8, 9]\n",
      "[1, 2, 4, 5, 6, 7, 8, 10, 8, 9]\n",
      "[1, 2, 4, 5, 6, 7, 8, 10, 12, 9]\n",
      "[1, 2, 4, 5, 6, 7, 8, 10, 12, 21]\n"
     ]
    }
   ],
   "source": [
    "faba = list(range(10))\n",
    "\n",
    "d=0\n",
    "for i in range(0,10):\n",
    "    d=d+f[i]\n",
    "    faba[i]=d\n",
    "    \n",
    "    print (faba)"
   ]
  },
  {
   "cell_type": "markdown",
   "id": "e13546fd",
   "metadata": {},
   "source": [
    "Frecuencia acumulada relativa"
   ]
  },
  {
   "cell_type": "code",
   "execution_count": 76,
   "id": "092d6764",
   "metadata": {},
   "outputs": [
    {
     "name": "stdout",
     "output_type": "stream",
     "text": [
      "[0.1, 1, 2, 3, 4, 5, 6, 7, 8, 9]\n",
      "[0.1, 0.2, 2, 3, 4, 5, 6, 7, 8, 9]\n",
      "[0.1, 0.2, 0.4, 3, 4, 5, 6, 7, 8, 9]\n",
      "[0.1, 0.2, 0.4, 0.5, 4, 5, 6, 7, 8, 9]\n",
      "[0.1, 0.2, 0.4, 0.5, 0.6, 5, 6, 7, 8, 9]\n",
      "[0.1, 0.2, 0.4, 0.5, 0.6, 0.7, 6, 7, 8, 9]\n",
      "[0.1, 0.2, 0.4, 0.5, 0.6, 0.7, 0.7999999999999999, 7, 8, 9]\n",
      "[0.1, 0.2, 0.4, 0.5, 0.6, 0.7, 0.7999999999999999, 1.0, 8, 9]\n",
      "[0.1, 0.2, 0.4, 0.5, 0.6, 0.7, 0.7999999999999999, 1.0, 1.2, 9]\n",
      "[0.1, 0.2, 0.4, 0.5, 0.6, 0.7, 0.7999999999999999, 1.0, 1.2, 2.1]\n"
     ]
    }
   ],
   "source": [
    "freac= list(range(10))\n",
    "d=0\n",
    "for i in range(0,10):\n",
    "    d=d+fre[i]\n",
    "    freac[i]=d\n",
    "    \n",
    "    print(freac)"
   ]
  },
  {
   "cell_type": "markdown",
   "id": "b6429857",
   "metadata": {},
   "source": [
    "Creamos la tabla de frecuencias"
   ]
  },
  {
   "cell_type": "code",
   "execution_count": 79,
   "id": "290e6b10",
   "metadata": {},
   "outputs": [
    {
     "name": "stdout",
     "output_type": "stream",
     "text": [
      "    X  Fre- Absolutas  Fre-Relativas  Fre-Absoluta A  Fre- Relativa A\n",
      "0   1               1            0.1               1              0.1\n",
      "1   2               1            0.1               2              0.2\n",
      "2   3               2            0.2               4              0.4\n",
      "3   4               1            0.1               5              0.5\n",
      "4   5               1            0.1               6              0.6\n",
      "5   6               1            0.1               7              0.7\n",
      "6   7               1            0.1               8              0.8\n",
      "7   8               2            0.2              10              1.0\n",
      "8   9               2            0.2              12              1.2\n",
      "9  10               9            0.9              21              2.1\n"
     ]
    }
   ],
   "source": [
    "import numpy as np\n",
    "import pandas as pd\n",
    "da={'X':n, 'Fre- Absolutas':f,'Fre-Relativas':fre, 'Fre-Absoluta A':faba,'Fre- Relativa A':freac}\n",
    "tabla=pd.DataFrame(data=da)\n",
    "\n",
    "print(tabla)"
   ]
  },
  {
   "cell_type": "code",
   "execution_count": null,
   "id": "2d250f3c",
   "metadata": {},
   "outputs": [],
   "source": []
  }
 ],
 "metadata": {
  "kernelspec": {
   "display_name": "Python 3 (ipykernel)",
   "language": "python",
   "name": "python3"
  },
  "language_info": {
   "codemirror_mode": {
    "name": "ipython",
    "version": 3
   },
   "file_extension": ".py",
   "mimetype": "text/x-python",
   "name": "python",
   "nbconvert_exporter": "python",
   "pygments_lexer": "ipython3",
   "version": "3.9.7"
  }
 },
 "nbformat": 4,
 "nbformat_minor": 5
}
