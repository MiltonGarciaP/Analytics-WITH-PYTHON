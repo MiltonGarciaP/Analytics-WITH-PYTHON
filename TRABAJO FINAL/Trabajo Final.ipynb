{
 "cells": [
  {
   "cell_type": "markdown",
   "metadata": {},
   "source": [
    "# TRABAJO FINAL ANALITICA DESCRIPTIVA\n",
    "### Dactos:\n",
    "MILTON TARSIAN GARCIA  PAYERO\n",
    "2020 10676"
   ]
  },
  {
   "cell_type": "markdown",
   "metadata": {},
   "source": [
    "# Api de  la SuperIntendencias de Bancos"
   ]
  },
  {
   "cell_type": "code",
   "execution_count": 2,
   "metadata": {},
   "outputs": [
    {
     "name": "stdout",
     "output_type": "stream",
     "text": [
      "Pagina: 1 / 1\n"
     ]
    },
    {
     "data": {
      "text/html": [
       "<div>\n",
       "<style scoped>\n",
       "    .dataframe tbody tr th:only-of-type {\n",
       "        vertical-align: middle;\n",
       "    }\n",
       "\n",
       "    .dataframe tbody tr th {\n",
       "        vertical-align: top;\n",
       "    }\n",
       "\n",
       "    .dataframe thead th {\n",
       "        text-align: right;\n",
       "    }\n",
       "</style>\n",
       "<table border=\"1\" class=\"dataframe\">\n",
       "  <thead>\n",
       "    <tr style=\"text-align: right;\">\n",
       "      <th></th>\n",
       "      <th>periodo</th>\n",
       "      <th>tipoEntidad</th>\n",
       "      <th>entidad</th>\n",
       "      <th>clasificacionRiesgo</th>\n",
       "      <th>tipoCartera</th>\n",
       "      <th>cantidadPlastico</th>\n",
       "      <th>cantidadCredito</th>\n",
       "      <th>deuda</th>\n",
       "      <th>tasaPorDeuda</th>\n",
       "      <th>tasaPromedioPonderado</th>\n",
       "      <th>deudaCapital</th>\n",
       "      <th>deudaVencida</th>\n",
       "      <th>deudaVencidaDe31A90Dias</th>\n",
       "      <th>valorDesembolso</th>\n",
       "      <th>valorGarantia</th>\n",
       "      <th>valorProvisionCapitalYRendimiento</th>\n",
       "    </tr>\n",
       "  </thead>\n",
       "  <tbody>\n",
       "    <tr>\n",
       "      <th>0</th>\n",
       "      <td>2022-01</td>\n",
       "      <td>BANCOS MÚLTIPLES</td>\n",
       "      <td>ACTIVO</td>\n",
       "      <td>A</td>\n",
       "      <td>Créditos comerciales</td>\n",
       "      <td>144</td>\n",
       "      <td>221</td>\n",
       "      <td>1.761682e+08</td>\n",
       "      <td>2.702855e+09</td>\n",
       "      <td>15.342462</td>\n",
       "      <td>1.746936e+08</td>\n",
       "      <td>0.00</td>\n",
       "      <td>0.00</td>\n",
       "      <td>2321297.40</td>\n",
       "      <td>6.833458e+07</td>\n",
       "      <td>5891149.62</td>\n",
       "    </tr>\n",
       "    <tr>\n",
       "      <th>1</th>\n",
       "      <td>2022-01</td>\n",
       "      <td>BANCOS MÚLTIPLES</td>\n",
       "      <td>ACTIVO</td>\n",
       "      <td>A</td>\n",
       "      <td>Créditos de consumo</td>\n",
       "      <td>0</td>\n",
       "      <td>1560</td>\n",
       "      <td>3.919434e+08</td>\n",
       "      <td>5.985707e+09</td>\n",
       "      <td>15.271867</td>\n",
       "      <td>3.882756e+08</td>\n",
       "      <td>0.00</td>\n",
       "      <td>0.00</td>\n",
       "      <td>15965308.00</td>\n",
       "      <td>1.604229e+08</td>\n",
       "      <td>8088906.95</td>\n",
       "    </tr>\n",
       "    <tr>\n",
       "      <th>2</th>\n",
       "      <td>2022-01</td>\n",
       "      <td>BANCOS MÚLTIPLES</td>\n",
       "      <td>ACTIVO</td>\n",
       "      <td>A</td>\n",
       "      <td>Créditos Hipotecarios</td>\n",
       "      <td>0</td>\n",
       "      <td>74</td>\n",
       "      <td>1.763187e+08</td>\n",
       "      <td>2.064370e+09</td>\n",
       "      <td>11.708170</td>\n",
       "      <td>1.747917e+08</td>\n",
       "      <td>0.00</td>\n",
       "      <td>0.00</td>\n",
       "      <td>3500000.00</td>\n",
       "      <td>1.754220e+08</td>\n",
       "      <td>1763187.01</td>\n",
       "    </tr>\n",
       "    <tr>\n",
       "      <th>3</th>\n",
       "      <td>2022-01</td>\n",
       "      <td>BANCOS MÚLTIPLES</td>\n",
       "      <td>ACTIVO</td>\n",
       "      <td>A</td>\n",
       "      <td>Tarjetas de créditos</td>\n",
       "      <td>5819</td>\n",
       "      <td>4623</td>\n",
       "      <td>1.881079e+08</td>\n",
       "      <td>9.751242e+09</td>\n",
       "      <td>51.838563</td>\n",
       "      <td>1.841560e+08</td>\n",
       "      <td>0.00</td>\n",
       "      <td>0.00</td>\n",
       "      <td>25658006.83</td>\n",
       "      <td>0.000000e+00</td>\n",
       "      <td>1881077.93</td>\n",
       "    </tr>\n",
       "    <tr>\n",
       "      <th>4</th>\n",
       "      <td>2022-01</td>\n",
       "      <td>BANCOS MÚLTIPLES</td>\n",
       "      <td>ACTIVO</td>\n",
       "      <td>B</td>\n",
       "      <td>Créditos comerciales</td>\n",
       "      <td>32</td>\n",
       "      <td>42</td>\n",
       "      <td>1.002842e+07</td>\n",
       "      <td>2.219457e+08</td>\n",
       "      <td>22.131674</td>\n",
       "      <td>9.791114e+06</td>\n",
       "      <td>361020.59</td>\n",
       "      <td>361020.59</td>\n",
       "      <td>1068711.48</td>\n",
       "      <td>0.000000e+00</td>\n",
       "      <td>1349650.78</td>\n",
       "    </tr>\n",
       "    <tr>\n",
       "      <th>5</th>\n",
       "      <td>2022-01</td>\n",
       "      <td>BANCOS MÚLTIPLES</td>\n",
       "      <td>ACTIVO</td>\n",
       "      <td>B</td>\n",
       "      <td>Créditos de consumo</td>\n",
       "      <td>0</td>\n",
       "      <td>56</td>\n",
       "      <td>2.837421e+07</td>\n",
       "      <td>4.425321e+08</td>\n",
       "      <td>15.596280</td>\n",
       "      <td>2.779878e+07</td>\n",
       "      <td>1029286.86</td>\n",
       "      <td>1029286.86</td>\n",
       "      <td>0.00</td>\n",
       "      <td>6.685400e+06</td>\n",
       "      <td>3180554.57</td>\n",
       "    </tr>\n",
       "    <tr>\n",
       "      <th>6</th>\n",
       "      <td>2022-01</td>\n",
       "      <td>BANCOS MÚLTIPLES</td>\n",
       "      <td>ACTIVO</td>\n",
       "      <td>B</td>\n",
       "      <td>Créditos Hipotecarios</td>\n",
       "      <td>0</td>\n",
       "      <td>2</td>\n",
       "      <td>8.154231e+05</td>\n",
       "      <td>1.300844e+07</td>\n",
       "      <td>15.952992</td>\n",
       "      <td>8.022186e+05</td>\n",
       "      <td>7840.00</td>\n",
       "      <td>7840.00</td>\n",
       "      <td>0.00</td>\n",
       "      <td>8.154231e+05</td>\n",
       "      <td>8154.24</td>\n",
       "    </tr>\n",
       "    <tr>\n",
       "      <th>7</th>\n",
       "      <td>2022-01</td>\n",
       "      <td>BANCOS MÚLTIPLES</td>\n",
       "      <td>ACTIVO</td>\n",
       "      <td>B</td>\n",
       "      <td>Tarjetas de créditos</td>\n",
       "      <td>109</td>\n",
       "      <td>82</td>\n",
       "      <td>5.742516e+06</td>\n",
       "      <td>2.964061e+08</td>\n",
       "      <td>51.616062</td>\n",
       "      <td>5.246428e+06</td>\n",
       "      <td>4908571.26</td>\n",
       "      <td>4908571.26</td>\n",
       "      <td>23873.34</td>\n",
       "      <td>0.000000e+00</td>\n",
       "      <td>172273.42</td>\n",
       "    </tr>\n",
       "    <tr>\n",
       "      <th>8</th>\n",
       "      <td>2022-01</td>\n",
       "      <td>BANCOS MÚLTIPLES</td>\n",
       "      <td>ACTIVO</td>\n",
       "      <td>C</td>\n",
       "      <td>Créditos comerciales</td>\n",
       "      <td>6</td>\n",
       "      <td>6</td>\n",
       "      <td>3.222384e+06</td>\n",
       "      <td>6.005568e+07</td>\n",
       "      <td>18.637033</td>\n",
       "      <td>3.119742e+06</td>\n",
       "      <td>135260.22</td>\n",
       "      <td>135260.22</td>\n",
       "      <td>242624.24</td>\n",
       "      <td>7.102205e+05</td>\n",
       "      <td>644472.91</td>\n",
       "    </tr>\n",
       "    <tr>\n",
       "      <th>9</th>\n",
       "      <td>2022-01</td>\n",
       "      <td>BANCOS MÚLTIPLES</td>\n",
       "      <td>ACTIVO</td>\n",
       "      <td>C</td>\n",
       "      <td>Créditos de consumo</td>\n",
       "      <td>0</td>\n",
       "      <td>30</td>\n",
       "      <td>1.699926e+06</td>\n",
       "      <td>3.526528e+07</td>\n",
       "      <td>20.745187</td>\n",
       "      <td>1.630297e+06</td>\n",
       "      <td>557408.16</td>\n",
       "      <td>557408.16</td>\n",
       "      <td>0.00</td>\n",
       "      <td>0.000000e+00</td>\n",
       "      <td>339985.16</td>\n",
       "    </tr>\n",
       "  </tbody>\n",
       "</table>\n",
       "</div>"
      ],
      "text/plain": [
       "   periodo       tipoEntidad entidad clasificacionRiesgo  \\\n",
       "0  2022-01  BANCOS MÚLTIPLES  ACTIVO                   A   \n",
       "1  2022-01  BANCOS MÚLTIPLES  ACTIVO                   A   \n",
       "2  2022-01  BANCOS MÚLTIPLES  ACTIVO                   A   \n",
       "3  2022-01  BANCOS MÚLTIPLES  ACTIVO                   A   \n",
       "4  2022-01  BANCOS MÚLTIPLES  ACTIVO                   B   \n",
       "5  2022-01  BANCOS MÚLTIPLES  ACTIVO                   B   \n",
       "6  2022-01  BANCOS MÚLTIPLES  ACTIVO                   B   \n",
       "7  2022-01  BANCOS MÚLTIPLES  ACTIVO                   B   \n",
       "8  2022-01  BANCOS MÚLTIPLES  ACTIVO                   C   \n",
       "9  2022-01  BANCOS MÚLTIPLES  ACTIVO                   C   \n",
       "\n",
       "             tipoCartera  cantidadPlastico  cantidadCredito         deuda  \\\n",
       "0   Créditos comerciales               144              221  1.761682e+08   \n",
       "1    Créditos de consumo                 0             1560  3.919434e+08   \n",
       "2  Créditos Hipotecarios                 0               74  1.763187e+08   \n",
       "3   Tarjetas de créditos              5819             4623  1.881079e+08   \n",
       "4   Créditos comerciales                32               42  1.002842e+07   \n",
       "5    Créditos de consumo                 0               56  2.837421e+07   \n",
       "6  Créditos Hipotecarios                 0                2  8.154231e+05   \n",
       "7   Tarjetas de créditos               109               82  5.742516e+06   \n",
       "8   Créditos comerciales                 6                6  3.222384e+06   \n",
       "9    Créditos de consumo                 0               30  1.699926e+06   \n",
       "\n",
       "   tasaPorDeuda  tasaPromedioPonderado  deudaCapital  deudaVencida  \\\n",
       "0  2.702855e+09              15.342462  1.746936e+08          0.00   \n",
       "1  5.985707e+09              15.271867  3.882756e+08          0.00   \n",
       "2  2.064370e+09              11.708170  1.747917e+08          0.00   \n",
       "3  9.751242e+09              51.838563  1.841560e+08          0.00   \n",
       "4  2.219457e+08              22.131674  9.791114e+06     361020.59   \n",
       "5  4.425321e+08              15.596280  2.779878e+07    1029286.86   \n",
       "6  1.300844e+07              15.952992  8.022186e+05       7840.00   \n",
       "7  2.964061e+08              51.616062  5.246428e+06    4908571.26   \n",
       "8  6.005568e+07              18.637033  3.119742e+06     135260.22   \n",
       "9  3.526528e+07              20.745187  1.630297e+06     557408.16   \n",
       "\n",
       "   deudaVencidaDe31A90Dias  valorDesembolso  valorGarantia  \\\n",
       "0                     0.00       2321297.40   6.833458e+07   \n",
       "1                     0.00      15965308.00   1.604229e+08   \n",
       "2                     0.00       3500000.00   1.754220e+08   \n",
       "3                     0.00      25658006.83   0.000000e+00   \n",
       "4                361020.59       1068711.48   0.000000e+00   \n",
       "5               1029286.86             0.00   6.685400e+06   \n",
       "6                  7840.00             0.00   8.154231e+05   \n",
       "7               4908571.26         23873.34   0.000000e+00   \n",
       "8                135260.22        242624.24   7.102205e+05   \n",
       "9                557408.16             0.00   0.000000e+00   \n",
       "\n",
       "   valorProvisionCapitalYRendimiento  \n",
       "0                         5891149.62  \n",
       "1                         8088906.95  \n",
       "2                         1763187.01  \n",
       "3                         1881077.93  \n",
       "4                         1349650.78  \n",
       "5                         3180554.57  \n",
       "6                            8154.24  \n",
       "7                          172273.42  \n",
       "8                          644472.91  \n",
       "9                          339985.16  "
      ]
     },
     "execution_count": 2,
     "metadata": {},
     "output_type": "execute_result"
    }
   ],
   "source": [
    "#Librerías necesarias para seguir el  ejercicio. \n",
    "import json\n",
    "import requests\n",
    "import pandas as pd\n",
    "\n",
    "#Variable para saber si hay más página \n",
    "next_page = True\n",
    "#Página inicial\n",
    "pagina = 1\n",
    "#Registros que queremos por petición.\n",
    "#Seleccionar un número que se adapte a sus necesidades menor a 100k.\n",
    "registro = 100_000\n",
    "\n",
    "#Rango de fecha a consultar\n",
    "periodo_inicial = '2022-01'\n",
    "periodo_final = '2023-05'\n",
    "\n",
    "#Endpoint que se consultará\n",
    "end_point = 'carteras/creditos/clasificacion-riesgo'\n",
    "\n",
    "#Colopar API KEY personal en la variable headers\n",
    "headers={\n",
    "          'Ocp-Apim-Subscription-Key': 'b308e31de8894b1085a24dfb16d2d27e' ,   \n",
    "          'User-Agent': 'Mozilla/5.0 (Windows NT 10.0; Win64; x64) AppleWebKit/537.36 (KHTML, like Gecko) Chrome/111.0.0.0 Safari/537.36',\n",
    "}\n",
    "\n",
    "\n",
    "#Listas que almacenará los datos\n",
    "registros_list = []\n",
    "\n",
    "#El ciclo funcionará hasta que se llegue a la última página de la petición\n",
    "while next_page:\n",
    "    \n",
    "    #Concatenamos las variables para formar la url de la consulta\n",
    "    url = f'https://apis.sb.gob.do/estadisticas/v2/{ end_point }?periodoInicial={ periodo_inicial }&periodoFinal={ periodo_final }&tipoEntidad=BM&paginas={ pagina }&registros={ registro }'\n",
    "\n",
    "    try:\n",
    "        #Hacemos la petición\n",
    "        response  = requests.get(url, headers=headers) \n",
    "        #Validamos el estatus de la petición según el protocolo http.\n",
    "        response.raise_for_status()\n",
    "        \n",
    "        #Parseamos la respuesta con los datos a Json\n",
    "        datos = response.json()\n",
    "        \n",
    "        #Agregamos los datos a una lista conformada por dataframes de pandas\n",
    "        registros_list.append(pd.DataFrame(datos))\n",
    "    \n",
    "        #Obtenemos los metadatos que necesitamos, los cuales decribimos más arriba en el artículo.    \n",
    "        #Parseamos\n",
    "        metadatos = json.loads(response.headers['x-pagination'])\n",
    "        \n",
    "        #Obtebemos los metadatos necesarios\n",
    "        next_page = metadatos['HasNext']\n",
    "        total_pages =  metadatos['TotalPages']\n",
    "        total_record = metadatos[\"TotalRecords\"]\n",
    "        \n",
    "        #Imprimimos la página actual y el total de página\n",
    "        print('Pagina:',pagina,'/',total_pages)\n",
    "        \n",
    "        #Incrementamos 1 para ir a la siguiente página\n",
    "        pagina +=1\n",
    "        \n",
    "    except requests.exceptions.HTTPError as errh:\n",
    "        print(\"Error HTTP:\", errh)\n",
    "        raise errh\n",
    "    except requests.exceptions.ConnectionError as errc:\n",
    "        print(\"Error de conexión:\", errc)\n",
    "        raise errc\n",
    "    except requests.exceptions.Timeout as errt:\n",
    "        print(\"Error Timeout:\", errt)\n",
    "        raise errt\n",
    "    except requests.exceptions.RequestException as err:\n",
    "        print(\"Algo salío mal:\", err)\n",
    "        raise err\n",
    "        \n",
    "#Concatenamos la lista de dataframes en uno solo       \n",
    "registros = pd.concat(registros_list, ignore_index=True)\n",
    "\n",
    "#Vemos los primeros cinco regístros del dataframe\n",
    "registros.head(10)\n"
   ]
  },
  {
   "cell_type": "markdown",
   "metadata": {},
   "source": [
    "# TEMA Y PROBLEMATICA\n",
    "### Análisis de las instituciones financieras de la República Dominicana. (Bancos múltiples)Analizar los años desde enero 2022 hasta diciembre 2023. Y realizar lo siguiente en Python utilizando pandas, numpy y matplotlib:\n"
   ]
  },
  {
   "cell_type": "markdown",
   "metadata": {},
   "source": [
    "#### 1- Analizar la evolución de cartera de crédito total "
   ]
  },
  {
   "cell_type": "code",
   "execution_count": 3,
   "metadata": {},
   "outputs": [
    {
     "name": "stdout",
     "output_type": "stream",
     "text": [
      "    periodo  cartera_total\n",
      "0   2022-01        3723649\n",
      "1   2022-02        3817043\n",
      "2   2022-03        3817782\n",
      "3   2022-04        3891553\n",
      "4   2022-05        3926032\n",
      "5   2022-06        4007912\n",
      "6   2022-07        4097085\n",
      "7   2022-08        4145807\n",
      "8   2022-09        4203331\n",
      "9   2022-10        4294307\n",
      "10  2022-11        4433193\n",
      "11  2022-12        4376891\n",
      "12  2023-01        4462740\n",
      "13  2023-02        4569836\n",
      "14  2023-03        4606843\n",
      "15  2023-04        4697776\n",
      "16  2023-05        4782086\n"
     ]
    }
   ],
   "source": [
    "# Agrupamos los datos por periodo y sumamos la columna cantidadCredito\n",
    "cartera_total_por_periodo = registros.groupby('periodo')['cantidadCredito'].sum().reset_index()\n",
    "\n",
    "# Renombramos la columna \n",
    "cartera_total_por_periodo = cartera_total_por_periodo.rename(columns={'cantidadCredito': 'cartera_total'})\n",
    "\n",
    "print(cartera_total_por_periodo)"
   ]
  },
  {
   "cell_type": "code",
   "execution_count": 4,
   "metadata": {},
   "outputs": [
    {
     "data": {
      "image/png": "[encoded data removed]",
      "text/plain": [
       "<Figure size 1200x600 with 1 Axes>"
      ]
     },
     "metadata": {},
     "output_type": "display_data"
    }
   ],
   "source": [
    "import matplotlib.pyplot as plt\n",
    "\n",
    "# Este código crea un gráfico de líneas donde el eje x representa el periodo y el eje y representa la cartera total.\n",
    "\n",
    "plt.figure(figsize=(12, 6))\n",
    "plt.plot(cartera_total_por_periodo['periodo'], cartera_total_por_periodo['cartera_total'])\n",
    "plt.xlabel('Periodo')\n",
    "plt.ylabel('Cartera Total')\n",
    "plt.title('Evolución de la Cartera de Crédito Total')\n",
    "plt.show()"
   ]
  },
  {
   "cell_type": "markdown",
   "metadata": {},
   "source": [
    "#### 2- Analizar la evolución de las carteras de crédito (Hipotecarios, Consumo, Tarjetas y Comerciales)\n"
   ]
  },
  {
   "cell_type": "code",
   "execution_count": 5,
   "metadata": {},
   "outputs": [
    {
     "name": "stdout",
     "output_type": "stream",
     "text": [
      "tipoCartera  Créditos Hipotecarios  Créditos comerciales  Créditos de consumo  \\\n",
      "periodo                                                                         \n",
      "2022-01                      72723                359819              1570690   \n",
      "2022-02                      73141                406120              1589271   \n",
      "2022-03                      73437                381379              1604466   \n",
      "2022-04                      73700                407173              1625180   \n",
      "2022-05                      74045                367989              1657838   \n",
      "2022-06                      74439                394141              1692417   \n",
      "2022-07                      74776                414954              1723977   \n",
      "2022-08                      75436                392465              1765290   \n",
      "2022-09                      75837                363885              1815175   \n",
      "2022-10                      76071                364270              1860695   \n",
      "2022-11                      76621                373054              1920954   \n",
      "2022-12                      77174                361875              1924050   \n",
      "2023-01                      77485                360873              1959605   \n",
      "2023-02                      78075                393748              2005812   \n",
      "2023-03                      79433                392307              2039273   \n",
      "2023-04                      80056                403632              2079640   \n",
      "2023-05                      80807                387947              2137702   \n",
      "\n",
      "tipoCartera  Tarjetas de créditos  \n",
      "periodo                            \n",
      "2022-01                   1720417  \n",
      "2022-02                   1748511  \n",
      "2022-03                   1758500  \n",
      "2022-04                   1785500  \n",
      "2022-05                   1826160  \n",
      "2022-06                   1846915  \n",
      "2022-07                   1883378  \n",
      "2022-08                   1912616  \n",
      "2022-09                   1948434  \n",
      "2022-10                   1993271  \n",
      "2022-11                   2062564  \n",
      "2022-12                   2013792  \n",
      "2023-01                   2064777  \n",
      "2023-02                   2092201  \n",
      "2023-03                   2095830  \n",
      "2023-04                   2134448  \n",
      "2023-05                   2175630  \n"
     ]
    }
   ],
   "source": [
    "# Agrupar por periodo y tipoCartera, y sumar la columna cantidadCredito\n",
    "cartera_por_periodo_tipo = registros.groupby(['periodo', 'tipoCartera'])['cantidadCredito'].sum().reset_index()\n",
    "\n",
    "# Pivotear el DataFrame para tener un periodo por fila y un tipoCartera por columna\n",
    "cartera_por_periodo_tipo = cartera_por_periodo_tipo.pivot(index='periodo', columns='tipoCartera', values='cantidadCredito')\n",
    "\n",
    "# Rellenar los valores faltantes con 0\n",
    "cartera_por_periodo_tipo = cartera_por_periodo_tipo.fillna(0)\n",
    "\n",
    "print(cartera_por_periodo_tipo)"
   ]
  },
  {
   "cell_type": "code",
   "execution_count": 6,
   "metadata": {},
   "outputs": [
    {
     "data": {
      "image/png": "[encoded data removed]",
      "text/plain": [
       "<Figure size 1200x600 with 1 Axes>"
      ]
     },
     "metadata": {},
     "output_type": "display_data"
    }
   ],
   "source": [
    "\"\"\"\n",
    "Este código crea un gráfico de líneas donde cada línea representa un tipo de cartera de crédito.\n",
    "El eje x representa el período y el eje y representa el valor de la cartera de crédito correspondiente.\n",
    "\"\"\"\n",
    "\n",
    "# Crear una figura y un conjunto de ejes\n",
    "fig, ax = plt.subplots(figsize=(12, 6))\n",
    "\n",
    "# Graficar cada tipo de cartera\n",
    "for cartera in cartera_por_periodo_tipo.columns:\n",
    "    ax.plot(cartera_por_periodo_tipo.index, cartera_por_periodo_tipo[cartera], label=cartera)\n",
    "\n",
    "\n",
    "ax.set_xlabel('Período')\n",
    "ax.set_ylabel('Cartera de Crédito')\n",
    "ax.set_title('Evolución de las Carteras de Crédito')\n",
    "ax.legend()\n",
    "\n",
    "\n",
    "plt.show()"
   ]
  },
  {
   "cell_type": "markdown",
   "metadata": {},
   "source": [
    "#### 3- ¿Cuántas entidades se están evaluando?\n"
   ]
  },
  {
   "cell_type": "code",
   "execution_count": 7,
   "metadata": {},
   "outputs": [
    {
     "name": "stdout",
     "output_type": "stream",
     "text": [
      "Se están evaluando 16 entidades en total.\n",
      "Las entidades son:\n",
      "['ACTIVO' 'ADEMI' 'BANESCO' 'BANRESERVAS' 'BDI' 'BELLBANK' 'BHD' 'BLH'\n",
      " 'CARIBE' 'CITIBANK' 'LAFISE' 'POPULAR' 'PROMERICA' 'SANTA CRUZ'\n",
      " 'SCOTIABANK' 'VIMENCA']\n"
     ]
    }
   ],
   "source": [
    "# Obtener la lista de entidades únicas\n",
    "entidades_unicas = registros['entidad'].unique()\n",
    "\n",
    "# Contar la cantidad de entidades únicas\n",
    "num_entidades = len(entidades_unicas)\n",
    "\n",
    "print(f\"Se están evaluando {num_entidades} entidades en total.\")\n",
    "print(\"Las entidades son:\")\n",
    "print(entidades_unicas)\n",
    "\n"
   ]
  },
  {
   "cell_type": "markdown",
   "metadata": {},
   "source": [
    "#### 4- Cual entidad ha evolucionado más a nivel de monto de cartera"
   ]
  },
  {
   "cell_type": "code",
   "execution_count": 8,
   "metadata": {},
   "outputs": [
    {
     "name": "stdout",
     "output_type": "stream",
     "text": [
      "La entidad que ha evolucionado más a nivel de monto de cartera es: BANRESERVAS\n"
     ]
    }
   ],
   "source": [
    "# Agrupar por entidad y periodo, y sumar la columna deuda\n",
    "cartera_por_entidad_periodo = registros.groupby(['entidad', 'periodo'])['deuda'].sum().reset_index()\n",
    "\n",
    "# Calcular la diferencia máxima por entidad utilizando expresiones lambda\n",
    "evolucion_cartera = cartera_por_entidad_periodo.groupby('entidad')['deuda'].apply(lambda x: x.max() - x.min())\n",
    "\n",
    "# Identificar la entidad con la mayor evolución\n",
    "entidad_mayor_evolucion = evolucion_cartera.idxmax()\n",
    "\n",
    "print(f\"La entidad que ha evolucionado más a nivel de monto de cartera es: {entidad_mayor_evolucion}\")"
   ]
  },
  {
   "cell_type": "markdown",
   "metadata": {},
   "source": [
    "#### 5- Analizar la clasificación de riesgo de las entidades sabiendo que A es menor que E"
   ]
  },
  {
   "cell_type": "code",
   "execution_count": 9,
   "metadata": {},
   "outputs": [
    {
     "name": "stdout",
     "output_type": "stream",
     "text": [
      "clasificacionRiesgo                  A                  B                C  \\\n",
      "entidad                                                                      \n",
      "ACTIVO                  15,363,584,574        894,700,530      274,688,072   \n",
      "ADEMI                  206,520,420,674     15,850,865,193    3,146,628,105   \n",
      "BANESCO                261,333,498,403     50,571,856,851   10,927,785,606   \n",
      "BANRESERVAS          5,215,694,189,400  1,027,641,436,690  201,602,435,787   \n",
      "BDI                    153,002,130,638     32,747,335,846   11,985,351,892   \n",
      "BELLBANK                 8,600,673,414      1,457,733,361    2,085,106,717   \n",
      "BHD                  3,557,949,593,440    487,314,554,810   75,395,573,001   \n",
      "BLH                    135,546,622,829     33,379,307,847    7,787,868,480   \n",
      "CARIBE                 215,278,867,451     26,716,941,279    8,334,196,895   \n",
      "CITIBANK                46,134,714,917      9,928,324,012    2,899,278,511   \n",
      "LAFISE                  60,271,921,495     17,419,788,954    3,149,211,555   \n",
      "POPULAR              4,657,922,965,069  1,113,314,758,778  255,018,192,399   \n",
      "PROMERICA              296,296,405,044     98,456,893,745   12,964,762,850   \n",
      "SANTA CRUZ             653,078,181,196    155,057,936,611   21,824,914,300   \n",
      "SCOTIABANK           1,311,427,579,207    124,561,952,273   27,269,909,981   \n",
      "VIMENCA                130,987,944,246     17,205,612,456    4,326,432,244   \n",
      "\n",
      "clasificacionRiesgo               D1               D2               E  \n",
      "entidad                                                                \n",
      "ACTIVO                   316,005,628      274,483,970     694,406,550  \n",
      "ADEMI                  2,594,590,814    2,069,529,151   3,137,194,631  \n",
      "BANESCO                7,707,894,595   21,164,577,460   7,520,081,360  \n",
      "BANRESERVAS          151,489,611,710  464,212,991,922  79,339,965,325  \n",
      "BDI                    6,193,500,372   23,072,546,219   4,983,104,596  \n",
      "BELLBANK               1,278,384,504       31,157,000      27,645,843  \n",
      "BHD                   61,716,149,780   57,100,820,940  60,164,738,453  \n",
      "BLH                    2,118,988,264    8,869,080,714   4,413,363,409  \n",
      "CARIBE                 9,170,984,891   11,313,164,819   4,360,780,571  \n",
      "CITIBANK               3,406,169,533    5,149,988,960               0  \n",
      "LAFISE                   890,043,287    7,183,380,230     185,726,105  \n",
      "POPULAR              226,890,018,297  619,556,496,785  34,674,758,154  \n",
      "PROMERICA             10,317,141,228   12,557,261,942     949,540,509  \n",
      "SANTA CRUZ             9,582,224,540   12,501,002,353   4,193,979,480  \n",
      "SCOTIABANK            26,391,865,764   24,391,693,833  20,351,208,154  \n",
      "VIMENCA                3,087,247,119    4,287,753,890     857,576,884  \n"
     ]
    },
    {
     "name": "stderr",
     "output_type": "stream",
     "text": [
      "C:\\Users\\DELL\\AppData\\Local\\Temp\\ipykernel_5400\\454160466.py:11: FutureWarning: DataFrame.applymap has been deprecated. Use DataFrame.map instead.\n",
      "  riesgo_por_entidad = riesgo_por_entidad.applymap(lambda x: '{:,.0f}'.format(x))\n"
     ]
    }
   ],
   "source": [
    "# Agrupar por entidad y clasificacionRiesgo, y sumar la columna deuda\n",
    "riesgo_por_entidad = registros.groupby(['entidad', 'clasificacionRiesgo'])['deuda'].sum().reset_index()\n",
    "\n",
    "# Pivotear el DataFrame para tener un periodo por fila y una clasificacionRiesgo por columna\n",
    "riesgo_por_entidad = riesgo_por_entidad.pivot(index='entidad', columns='clasificacionRiesgo', values='deuda')\n",
    "\n",
    "# Rellenar los valores faltantes con 0\n",
    "riesgo_por_entidad = riesgo_por_entidad.fillna(0)\n",
    "\n",
    "# Aplicar un formato de visualización a los valores numéricos\n",
    "riesgo_por_entidad = riesgo_por_entidad.applymap(lambda x: '{:,.0f}'.format(x))\n",
    "\n",
    "# Imprimir el resultado\n",
    "print(riesgo_por_entidad)"
   ]
  },
  {
   "cell_type": "markdown",
   "metadata": {},
   "source": [
    "#### 6- Calcular la morosidad de cada una de las entidades (deudavencida / deuda) y hacer un análisis de su comportamiento\n"
   ]
  },
  {
   "cell_type": "code",
   "execution_count": 10,
   "metadata": {},
   "outputs": [
    {
     "name": "stdout",
     "output_type": "stream",
     "text": [
      "        entidad              deuda    deudaVencida  morosidad\n",
      "0        ACTIVO     17,817,869,325   1,251,549,724   0.070241\n",
      "1         ADEMI    233,319,228,569   6,463,054,491   0.027700\n",
      "2       BANESCO    359,225,694,276   7,843,926,028   0.021836\n",
      "3   BANRESERVAS  7,139,980,630,835  60,538,069,749   0.008479\n",
      "4           BDI    231,983,969,563   3,154,892,083   0.013600\n",
      "5      BELLBANK     13,480,700,839     174,647,704   0.012955\n",
      "6           BHD  4,299,641,430,424  63,490,120,940   0.014766\n",
      "7           BLH    192,115,231,543   2,821,246,541   0.014685\n",
      "8        CARIBE    275,174,935,907   6,738,735,914   0.024489\n",
      "9      CITIBANK     67,518,475,932      35,768,266   0.000530\n",
      "10       LAFISE     89,100,071,626     524,006,641   0.005881\n",
      "11      POPULAR  6,907,377,189,482  47,389,303,308   0.006861\n",
      "12    PROMERICA    431,542,005,318   3,700,046,888   0.008574\n",
      "13   SANTA CRUZ    856,238,238,480   9,379,286,875   0.010954\n",
      "14   SCOTIABANK  1,534,394,209,212  28,876,170,143   0.018819\n",
      "15      VIMENCA    160,752,566,839   2,137,205,559   0.013295\n"
     ]
    }
   ],
   "source": [
    "# Agrupar por entidad y sumar deuda y deudaVencida\n",
    "morosidad_por_entidad = registros.groupby('entidad')[['deuda', 'deudaVencida']].sum().reset_index()\n",
    "\n",
    "# Calcular la morosidad\n",
    "morosidad_por_entidad['morosidad'] = morosidad_por_entidad['deudaVencida'] / morosidad_por_entidad['deuda']\n",
    "\n",
    "# Aplicar un formato de visualización a las columnas 'deuda' y 'deudaVencida'\n",
    "morosidad_por_entidad['deuda'] = morosidad_por_entidad['deuda'].map('{:,.0f}'.format)\n",
    "morosidad_por_entidad['deudaVencida'] = morosidad_por_entidad['deudaVencida'].map('{:,.0f}'.format)\n",
    "\n",
    "# Imprimir el resultado\n",
    "print(morosidad_por_entidad)"
   ]
  },
  {
   "cell_type": "markdown",
   "metadata": {},
   "source": [
    "#### 7- Calcular la morosidad de cada una de las entidades por tipo de carteras (Hipotecarios, Consumo, Tarjetas y Comerciales) y hacer un análisis de su comportamiento\n"
   ]
  },
  {
   "cell_type": "code",
   "execution_count": 11,
   "metadata": {},
   "outputs": [
    {
     "name": "stdout",
     "output_type": "stream",
     "text": [
      "tipoCartera  Créditos Hipotecarios  Créditos comerciales  Créditos de consumo  \\\n",
      "entidad                                                                         \n",
      "ACTIVO                    0.001827              0.076532             0.056181   \n",
      "ADEMI                     0.000344              0.029464             0.024537   \n",
      "BANESCO                   0.013060              0.011652             0.043402   \n",
      "BANRESERVAS               0.007090              0.005124             0.015811   \n",
      "BDI                       0.012937              0.013211             0.015164   \n",
      "BELLBANK                  0.069099              0.004693             0.034641   \n",
      "BHD                       0.008720              0.009286             0.027094   \n",
      "BLH                       0.004388              0.015789             0.015109   \n",
      "CARIBE                    0.000100              0.007308             0.041571   \n",
      "CITIBANK                  0.000000              0.000530             0.000000   \n",
      "LAFISE                    0.002761              0.005688             0.005512   \n",
      "POPULAR                   0.004681              0.001973             0.021382   \n",
      "PROMERICA                 0.000301              0.001876             0.014305   \n",
      "SANTA CRUZ                0.004476              0.004895             0.021098   \n",
      "SCOTIABANK                0.008046              0.024226             0.012497   \n",
      "VIMENCA                   0.001598              0.008532             0.019205   \n",
      "\n",
      "tipoCartera  Tarjetas de créditos  \n",
      "entidad                            \n",
      "ACTIVO                   0.158112  \n",
      "ADEMI                    0.092029  \n",
      "BANESCO                  0.052757  \n",
      "BANRESERVAS              0.021233  \n",
      "BDI                      0.021284  \n",
      "BELLBANK                 0.000000  \n",
      "BHD                      0.029485  \n",
      "BLH                      0.066469  \n",
      "CARIBE                   0.036295  \n",
      "CITIBANK                 0.000000  \n",
      "LAFISE                   0.037122  \n",
      "POPULAR                  0.036351  \n",
      "PROMERICA                0.044191  \n",
      "SANTA CRUZ               0.039855  \n",
      "SCOTIABANK               0.045041  \n",
      "VIMENCA                  0.070222  \n"
     ]
    }
   ],
   "source": [
    "# Agrupar por entidad, tipoCartera y sumar deuda y deudaVencida\n",
    "morosidad_por_entidad_cartera = registros.groupby(['entidad', 'tipoCartera'])[['deuda', 'deudaVencida']].sum().reset_index()\n",
    "\n",
    "# Calcular la morosidad\n",
    "morosidad_por_entidad_cartera['morosidad'] = morosidad_por_entidad_cartera['deudaVencida'] / morosidad_por_entidad_cartera['deuda']\n",
    "\n",
    "# Pivotear el DataFrame para tener una entidad por fila y un tipoCartera por columna\n",
    "morosidad_por_entidad_cartera = morosidad_por_entidad_cartera.pivot(index='entidad', columns='tipoCartera', values='morosidad')\n",
    "\n",
    "# Rellenar los valores faltantes con 0\n",
    "morosidad_por_entidad_cartera = morosidad_por_entidad_cartera.fillna(0)\n",
    "\n",
    "# Imprimir el resultado\n",
    "print(morosidad_por_entidad_cartera)"
   ]
  },
  {
   "cell_type": "markdown",
   "metadata": {},
   "source": [
    "#### 8- A nivel de monto de cartera menciona el ranking 5 de entidades"
   ]
  },
  {
   "cell_type": "code",
   "execution_count": 12,
   "metadata": {},
   "outputs": [
    {
     "name": "stdout",
     "output_type": "stream",
     "text": [
      "Ranking de las 5 entidades con mayor monto de cartera:\n",
      "        entidad              deuda\n",
      "3   BANRESERVAS  7,139,980,630,835\n",
      "11      POPULAR  6,907,377,189,482\n",
      "6           BHD  4,299,641,430,424\n",
      "14   SCOTIABANK  1,534,394,209,212\n",
      "13   SANTA CRUZ    856,238,238,480\n"
     ]
    }
   ],
   "source": [
    "# Agrupar por entidad y sumar la columna deuda\n",
    "cartera_por_entidad = registros.groupby('entidad')['deuda'].sum().reset_index()\n",
    "\n",
    "# Ordenar de mayor a menor según el monto de deuda\n",
    "cartera_por_entidad = cartera_por_entidad.sort_values(by='deuda', ascending=False)\n",
    "\n",
    "# Aplicar un formato de visualización a la columna 'deuda'\n",
    "cartera_por_entidad['deuda'] = cartera_por_entidad['deuda'].map('{:,.0f}'.format)\n",
    "\n",
    "# Seleccionar las 5 primeras entidades del ranking\n",
    "top_5_entidades = cartera_por_entidad.head(5)\n",
    "\n",
    "# Imprimir el resultado\n",
    "print(\"Ranking de las 5 entidades con mayor monto de cartera:\")\n",
    "print(top_5_entidades)"
   ]
  },
  {
   "cell_type": "markdown",
   "metadata": {},
   "source": [
    "#### 9- Tabulación de datos estadísticos"
   ]
  },
  {
   "cell_type": "markdown",
   "metadata": {},
   "source": [
    "##### a. Tomar las columnas de Entidad y cantidad de créditos"
   ]
  },
  {
   "cell_type": "code",
   "execution_count": 13,
   "metadata": {},
   "outputs": [
    {
     "ename": "NameError",
     "evalue": "name 'np' is not defined",
     "output_type": "error",
     "traceback": [
      "\u001b[1;31m---------------------------------------------------------------------------\u001b[0m",
      "\u001b[1;31mNameError\u001b[0m                                 Traceback (most recent call last)",
      "Cell \u001b[1;32mIn[13], line 5\u001b[0m\n\u001b[0;32m      1\u001b[0m \u001b[38;5;66;03m# Crear una tabla dinámica (pivot table) con las columnas 'Entidad' y 'cantidadCredito'\u001b[39;00m\n\u001b[0;32m      2\u001b[0m tabla_estadistica \u001b[38;5;241m=\u001b[39m pd\u001b[38;5;241m.\u001b[39mpivot_table(registros,\n\u001b[0;32m      3\u001b[0m                                    index\u001b[38;5;241m=\u001b[39m[\u001b[38;5;124m'\u001b[39m\u001b[38;5;124mentidad\u001b[39m\u001b[38;5;124m'\u001b[39m],\n\u001b[0;32m      4\u001b[0m                                    values\u001b[38;5;241m=\u001b[39m[\u001b[38;5;124m'\u001b[39m\u001b[38;5;124mcantidadCredito\u001b[39m\u001b[38;5;124m'\u001b[39m],\n\u001b[1;32m----> 5\u001b[0m                                    aggfunc\u001b[38;5;241m=\u001b[39m{\u001b[38;5;124m'\u001b[39m\u001b[38;5;124mcantidadCredito\u001b[39m\u001b[38;5;124m'\u001b[39m: [\u001b[38;5;28mlen\u001b[39m, \u001b[43mnp\u001b[49m\u001b[38;5;241m.\u001b[39msum, np\u001b[38;5;241m.\u001b[39mmean, np\u001b[38;5;241m.\u001b[39mstd, np\u001b[38;5;241m.\u001b[39mmin, np\u001b[38;5;241m.\u001b[39mmax]},\n\u001b[0;32m      6\u001b[0m                                    fill_value\u001b[38;5;241m=\u001b[39m\u001b[38;5;241m0\u001b[39m)\n\u001b[0;32m      8\u001b[0m \u001b[38;5;66;03m# Asignar nombres más descriptivos a las columnas\u001b[39;00m\n\u001b[0;32m      9\u001b[0m tabla_estadistica\u001b[38;5;241m.\u001b[39mcolumns \u001b[38;5;241m=\u001b[39m [\u001b[38;5;124m'\u001b[39m\u001b[38;5;124m_\u001b[39m\u001b[38;5;124m'\u001b[39m\u001b[38;5;241m.\u001b[39mjoin(col)\u001b[38;5;241m.\u001b[39mstrip() \u001b[38;5;28;01mfor\u001b[39;00m col \u001b[38;5;129;01min\u001b[39;00m tabla_estadistica\u001b[38;5;241m.\u001b[39mcolumns\u001b[38;5;241m.\u001b[39mvalues]\n",
      "\u001b[1;31mNameError\u001b[0m: name 'np' is not defined"
     ]
    }
   ],
   "source": [
    "import numpy "
   ]
  },
  {
   "cell_type": "markdown",
   "metadata": {},
   "source": [
    "##### b. Crear el rango o recorrido de la cantidad de créditos"
   ]
  },
  {
   "cell_type": "code",
   "execution_count": null,
   "metadata": {},
   "outputs": [],
   "source": []
  },
  {
   "cell_type": "markdown",
   "metadata": {},
   "source": [
    "##### c. Calcular el número de intervalos o clases"
   ]
  },
  {
   "cell_type": "code",
   "execution_count": null,
   "metadata": {},
   "outputs": [],
   "source": []
  },
  {
   "cell_type": "markdown",
   "metadata": {},
   "source": [
    "##### d. Calcular la amplitud del intervalo de clase"
   ]
  },
  {
   "cell_type": "code",
   "execution_count": null,
   "metadata": {},
   "outputs": [],
   "source": []
  },
  {
   "cell_type": "markdown",
   "metadata": {},
   "source": [
    "##### e. Calcular los límites del intervalo\n"
   ]
  },
  {
   "cell_type": "code",
   "execution_count": null,
   "metadata": {},
   "outputs": [],
   "source": []
  },
  {
   "cell_type": "markdown",
   "metadata": {},
   "source": [
    "##### f. Calcular la tabulación"
   ]
  },
  {
   "cell_type": "code",
   "execution_count": null,
   "metadata": {},
   "outputs": [],
   "source": []
  },
  {
   "cell_type": "markdown",
   "metadata": {},
   "source": [
    "##### g. Calcular la marca de la clase o punto medio\n"
   ]
  },
  {
   "cell_type": "code",
   "execution_count": null,
   "metadata": {},
   "outputs": [],
   "source": []
  },
  {
   "cell_type": "markdown",
   "metadata": {},
   "source": [
    "##### h. Presentar la tabla de frecuencia "
   ]
  },
  {
   "cell_type": "code",
   "execution_count": null,
   "metadata": {},
   "outputs": [],
   "source": []
  },
  {
   "cell_type": "markdown",
   "metadata": {},
   "source": [
    "#### 10- Realizar los siguientes gráficos"
   ]
  },
  {
   "cell_type": "markdown",
   "metadata": {},
   "source": [
    "##### a. Grafico de columnas mostrando la morosidad del año 2023 por mes para cada una de las entidades\n"
   ]
  },
  {
   "cell_type": "code",
   "execution_count": null,
   "metadata": {},
   "outputs": [],
   "source": []
  },
  {
   "cell_type": "markdown",
   "metadata": {},
   "source": [
    "##### b. Grafico de barras mostrando el monto de deuda para el mes 12 del 2023 para cada entidad\n"
   ]
  },
  {
   "cell_type": "code",
   "execution_count": null,
   "metadata": {},
   "outputs": [],
   "source": []
  },
  {
   "cell_type": "markdown",
   "metadata": {},
   "source": [
    "##### c. En un grafico circular realizar la morosidad para cada tipo de producto para el año 2023 y el mes 12\n",
    "\n"
   ]
  },
  {
   "cell_type": "code",
   "execution_count": null,
   "metadata": {},
   "outputs": [],
   "source": []
  },
  {
   "cell_type": "markdown",
   "metadata": {},
   "source": [
    "##### d. Crear un gráfico de líneas con los balances de deuda para los años completos 2022 y 2023 para ver la evolución de las carteras\n"
   ]
  },
  {
   "cell_type": "code",
   "execution_count": null,
   "metadata": {},
   "outputs": [],
   "source": []
  },
  {
   "cell_type": "markdown",
   "metadata": {},
   "source": [
    "#### 11- Realizar un informe el cual nos diga según todo lo que analizo anteriormente que ocurrió durante estos periodos 2022-2023\n",
    "\n"
   ]
  },
  {
   "cell_type": "markdown",
   "metadata": {},
   "source": []
  }
 ],
 "metadata": {
  "kernelspec": {
   "display_name": "Python 3",
   "language": "python",
   "name": "python3"
  },
  "language_info": {
   "codemirror_mode": {
    "name": "ipython",
    "version": 3
   },
   "file_extension": ".py",
   "mimetype": "text/x-python",
   "name": "python",
   "nbconvert_exporter": "python",
   "pygments_lexer": "ipython3",
   "version": "3.11.9"
  }
 },
 "nbformat": 4,
 "nbformat_minor": 2
}
